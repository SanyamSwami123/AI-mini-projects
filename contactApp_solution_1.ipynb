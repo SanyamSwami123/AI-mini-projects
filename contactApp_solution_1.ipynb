{
  "nbformat": 4,
  "nbformat_minor": 0,
  "metadata": {
    "colab": {
      "name": "contactApp_1.ipynb",
      "provenance": [],
      "authorship_tag": "ABX9TyPH7Df1yV7xI/6G2vy3FnG5",
      "include_colab_link": true
    },
    "kernelspec": {
      "name": "python3",
      "display_name": "Python 3"
    },
    "language_info": {
      "name": "python"
    }
  },
  "cells": [
    {
      "cell_type": "markdown",
      "metadata": {
        "id": "view-in-github",
        "colab_type": "text"
      },
      "source": [
        "<a href=\"https://colab.research.google.com/github/SanyamSwami123/AI-mini-projects/blob/main/contactApp_solution_1.ipynb\" target=\"_parent\"><img src=\"https://colab.research.google.com/assets/colab-badge.svg\" alt=\"Open In Colab\"/></a>"
      ]
    },
    {
      "cell_type": "code",
      "execution_count": 2,
      "metadata": {
        "id": "9mSTr0U1n_nG"
      },
      "outputs": [],
      "source": [
        "# contacts=[{'name':'sanyam', 'number':'123', 'email':'s@gmail.com'}]#list of dictionaries\n",
        "# contacts=list(dict())\n",
        "contacts=[{'name':'sanyam', 'number':'123', 'email':'s@gmail.com'}]"
      ]
    },
    {
      "cell_type": "code",
      "source": [
        "def show_contacts(contacts): #show fun\n",
        "  print(contacts)"
      ],
      "metadata": {
        "id": "MI0TKL0IohRx"
      },
      "execution_count": 3,
      "outputs": []
    },
    {
      "cell_type": "code",
      "source": [
        "def add_contact(contacts):\n",
        "  # contacts+=[{'name':input(), 'number':input(), 'email':input()} for i in range(int(input(\"Add N for contact dictionary: \")))]\n",
        "  for i in range(int(input(\"Add N for contact dictionary: \"))):\n",
        "    contacts.append({'name':input(), 'number':input(), 'email':input()})\n",
        "  return contacts"
      ],
      "metadata": {
        "id": "EPpGNAJdo2aM"
      },
      "execution_count": 4,
      "outputs": []
    },
    {
      "cell_type": "code",
      "source": [
        "add_contact(contacts)"
      ],
      "metadata": {
        "colab": {
          "base_uri": "https://localhost:8080/"
        },
        "id": "cRHVPrtJpfwo",
        "outputId": "180fe75c-1449-445f-d7bd-525532822140"
      },
      "execution_count": 5,
      "outputs": [
        {
          "name": "stdout",
          "output_type": "stream",
          "text": [
            "Add N for contact dictionary: 1\n",
            "s\n",
            "1\n",
            "s@gmail.com\n"
          ]
        },
        {
          "output_type": "execute_result",
          "data": {
            "text/plain": [
              "[{'email': 's@gmail.com', 'name': 'sanyam', 'number': '123'},\n",
              " {'email': 's@gmail.com', 'name': 's', 'number': '1'}]"
            ]
          },
          "metadata": {},
          "execution_count": 5
        }
      ]
    },
    {
      "cell_type": "code",
      "source": [
        "contacts"
      ],
      "metadata": {
        "colab": {
          "base_uri": "https://localhost:8080/"
        },
        "id": "iXXQVgVJtpEG",
        "outputId": "e31e8433-c0f9-402a-d25e-626f2df416d1"
      },
      "execution_count": 6,
      "outputs": [
        {
          "output_type": "execute_result",
          "data": {
            "text/plain": [
              "[{'email': 's@gmail.com', 'name': 'sanyam', 'number': '123'},\n",
              " {'email': 's@gmail.com', 'name': 's', 'number': '1'}]"
            ]
          },
          "metadata": {},
          "execution_count": 6
        }
      ]
    },
    {
      "cell_type": "code",
      "source": [
        "def delete_contact(contacts, i):#del fun\n",
        "    del contacts[i]\n",
        "    return contacts"
      ],
      "metadata": {
        "id": "3fJuEjBTpku0"
      },
      "execution_count": 7,
      "outputs": []
    },
    {
      "cell_type": "code",
      "source": [
        "def update_contact(contacts, name):\n",
        "  contacts[name]=input()\n",
        "  return contacts"
      ],
      "metadata": {
        "id": "EPLXfggFIniC"
      },
      "execution_count": 9,
      "outputs": []
    },
    {
      "cell_type": "code",
      "source": [
        "# update_contact(contacts, name='name')"
      ],
      "metadata": {
        "id": "g_eKdqTOIzry"
      },
      "execution_count": null,
      "outputs": []
    },
    {
      "cell_type": "code",
      "source": [
        "# contacts=[{'email': 's@gmail.com', 'name':'b', 'number': '123'},\n",
        "#  {'email': 's@gmail.com', 'name': 's', 'number': '1'}]"
      ],
      "metadata": {
        "id": "7NlV4dG8I6kC"
      },
      "execution_count": null,
      "outputs": []
    },
    {
      "cell_type": "code",
      "source": [
        "def open_contact(contacts, nameOfContact):\n",
        "  for i in range(len(contacts)):\n",
        "    try:\n",
        "      if contacts[i]['name']==nameOfContact :\n",
        "        ch=input('u|d choose: ')\n",
        "        if ch=='u':\n",
        "          print(update_contact(contacts[i], input('Choose key value: ')))\n",
        "        elif ch=='d':\n",
        "          print(delete_contact(contacts, i))\n",
        "        break\n",
        "    except KeyError as e:\n",
        "      print('Key missing',type(e))\n",
        "      break "
      ],
      "metadata": {
        "id": "kn8ecCgrJEnD"
      },
      "execution_count": 10,
      "outputs": []
    },
    {
      "cell_type": "code",
      "source": [
        "open_contact(contacts, input('Enter name whose contact details U want: '))"
      ],
      "metadata": {
        "colab": {
          "base_uri": "https://localhost:8080/"
        },
        "id": "4SP5NiU5JR2A",
        "outputId": "bb6babc0-5207-48af-b16e-81ab491c7a13"
      },
      "execution_count": 11,
      "outputs": [
        {
          "output_type": "stream",
          "name": "stdout",
          "text": [
            "Enter name whose contact details U want: s\n",
            "u|d choose: d\n",
            "[{'name': 'sanyam', 'number': '123', 'email': 's@gmail.com'}]\n"
          ]
        }
      ]
    },
    {
      "cell_type": "code",
      "source": [
        "from IPython.display import clear_output\n",
        "\n",
        "contacts=[{'name':'sanyam', 'number':'123', 'email':'s@gmail.com'}]\n",
        "while True:\n",
        "  show_contacts(contacts)\n",
        "  action = input(\"Press 'a' - add contact, 'o' - open contact, 's' - search contact, 'q' - quit:\\n\")\n",
        "  if action == 'a':\n",
        "    add_contact(contacts)\n",
        "    continue\n",
        "  elif action == 'o':\n",
        "    name = input(\"Enter name of the contact you want to open. \")        \n",
        "    open_contact(contacts, name)\n",
        "    continue\n",
        "  elif action == 'q':\n",
        "    break;\n",
        "  else:\n",
        "    print('incorrect choice')\n",
        "    continue"
      ],
      "metadata": {
        "id": "L51yvkE6LMQn",
        "colab": {
          "base_uri": "https://localhost:8080/"
        },
        "outputId": "73393759-9b8d-4ef3-b6ef-246789c120f2"
      },
      "execution_count": 13,
      "outputs": [
        {
          "name": "stdout",
          "output_type": "stream",
          "text": [
            "[{'name': 'sanyam', 'number': '123', 'email': 's@gmail.com'}]\n",
            "Press 'a' - add contact, 'o' - open contact, 's' - search contact, 'q' - quit:\n",
            "q\n"
          ]
        }
      ]
    },
    {
      "cell_type": "code",
      "source": [
        ""
      ],
      "metadata": {
        "id": "HQENTWBmLSNS"
      },
      "execution_count": null,
      "outputs": []
    }
  ]
}