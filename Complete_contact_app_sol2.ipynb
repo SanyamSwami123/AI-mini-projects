{
  "cells": [
    {
      "cell_type": "markdown",
      "metadata": {
        "id": "view-in-github",
        "colab_type": "text"
      },
      "source": [
        "<a href=\"https://colab.research.google.com/github/SanyamSwami123/AI-mini-projects/blob/main/Complete_contact_app_sol2.ipynb\" target=\"_parent\"><img src=\"https://colab.research.google.com/assets/colab-badge.svg\" alt=\"Open In Colab\"/></a>"
      ]
    },
    {
      "cell_type": "markdown",
      "id": "31a5742f",
      "metadata": {
        "id": "31a5742f"
      },
      "source": [
        "## 1"
      ]
    },
    {
      "cell_type": "code",
      "execution_count": null,
      "id": "df0fb17e",
      "metadata": {
        "id": "df0fb17e"
      },
      "outputs": [],
      "source": [
        "## your code here\n",
        "contacts = [{'name':'ajay','number':'1234567890','email':'ajay.pune@gmail.com'},\n",
        "            {'name':'vijay','number':'7894561230','email':'vijay.delhi@gmail.com'},\n",
        "            {'name':'sujay','number':'4561237890','email':'sujay.@gmail.com'}]"
      ]
    },
    {
      "cell_type": "code",
      "execution_count": null,
      "id": "6eaa47de",
      "metadata": {
        "id": "6eaa47de",
        "outputId": "ba8b3894-883a-4817-d0a9-b4bd7612c2c3"
      },
      "outputs": [
        {
          "data": {
            "text/plain": [
              "[{'name': 'ajay', 'number': '1234567890', 'email': 'ajay.pune@gmail.com'},\n",
              " {'name': 'vijay', 'number': '7894561230', 'email': 'vijay.delhi@gmail.com'},\n",
              " {'name': 'sujay', 'number': '4561237890', 'email': 'sujay.@gmail.com'}]"
            ]
          },
          "execution_count": 3,
          "metadata": {},
          "output_type": "execute_result"
        }
      ],
      "source": [
        "contacts"
      ]
    },
    {
      "cell_type": "markdown",
      "id": "4f00a21e",
      "metadata": {
        "id": "4f00a21e"
      },
      "source": [
        "## 2"
      ]
    },
    {
      "cell_type": "code",
      "execution_count": null,
      "id": "206a298f",
      "metadata": {
        "id": "206a298f"
      },
      "outputs": [],
      "source": [
        "def show_contacts(contacts):\n",
        "    for n in range(len(contacts)):\n",
        "        print(contacts[n]['name'])"
      ]
    },
    {
      "cell_type": "code",
      "execution_count": null,
      "id": "20708e7a",
      "metadata": {
        "id": "20708e7a",
        "outputId": "66b3e709-940a-4568-a395-8d6353ce5606"
      },
      "outputs": [
        {
          "name": "stdout",
          "output_type": "stream",
          "text": [
            "ajay\n",
            "vijay\n",
            "sujay\n"
          ]
        }
      ],
      "source": [
        "show_contacts(contacts)"
      ]
    },
    {
      "cell_type": "markdown",
      "id": "fccfb977",
      "metadata": {
        "id": "fccfb977"
      },
      "source": [
        "## 3"
      ]
    },
    {
      "cell_type": "code",
      "execution_count": null,
      "id": "9e34af68",
      "metadata": {
        "id": "9e34af68"
      },
      "outputs": [],
      "source": [
        "def add_contact(contacts):\n",
        "    new_contact = {}\n",
        "    name = input('Enter the name: ')\n",
        "    number = input('Enter the number: ')\n",
        "    email = input('Enter the email: ')\n",
        "    \n",
        "    new_contact['name'] = name\n",
        "    new_contact['number'] = number\n",
        "    new_contact['email'] = email\n",
        "    \n",
        "    contacts.append(new_contact)\n",
        "    return new_contact"
      ]
    },
    {
      "cell_type": "code",
      "execution_count": null,
      "id": "6bc1ead7",
      "metadata": {
        "id": "6bc1ead7",
        "outputId": "64fe6895-0437-4cdf-a6cb-b62ccbf8a3df"
      },
      "outputs": [
        {
          "name": "stdout",
          "output_type": "stream",
          "text": [
            "Enter the name: jay\n",
            "Enter the number: 1597536482\n",
            "Enter the email: jay.mumbai@gmail.com\n"
          ]
        },
        {
          "data": {
            "text/plain": [
              "[{'name': 'ajay', 'number': '1234567890', 'email': 'ajay.pune@gmail.com'},\n",
              " {'name': 'vijay', 'number': '7894561230', 'email': 'vijay.delhi@gmail.com'},\n",
              " {'name': 'sujay', 'number': '4561237890', 'email': 'sujay.@gmail.com'},\n",
              " {'name': 'jay', 'number': '1597536482', 'email': 'jay.mumbai@gmail.com'}]"
            ]
          },
          "execution_count": 7,
          "metadata": {},
          "output_type": "execute_result"
        }
      ],
      "source": [
        "# 'jay 1597536482 jay.mumbai@gmail.com'\n",
        "add_contact(contacts) \n",
        "contacts"
      ]
    },
    {
      "cell_type": "markdown",
      "id": "7d120faa",
      "metadata": {
        "id": "7d120faa"
      },
      "source": [
        "## 4"
      ]
    },
    {
      "cell_type": "code",
      "execution_count": null,
      "id": "03b7670a",
      "metadata": {
        "id": "03b7670a"
      },
      "outputs": [],
      "source": [
        "def delete_contact(contacts, name):\n",
        "    for n in range(len(contacts)):\n",
        "        if contacts[n]['name'] == name :\n",
        "            contacts.pop(n) # del contacts[n]\n",
        "            break\n",
        "        "
      ]
    },
    {
      "cell_type": "code",
      "execution_count": null,
      "id": "714f4354",
      "metadata": {
        "id": "714f4354",
        "outputId": "a407301d-8cc1-4ca9-970b-ca8bd2cad03f"
      },
      "outputs": [
        {
          "data": {
            "text/plain": [
              "[{'name': 'vijay', 'number': '7894561230', 'email': 'vijay.delhi@gmail.com'},\n",
              " {'name': 'sujay', 'number': '4561237890', 'email': 'sujay.@gmail.com'},\n",
              " {'name': 'jay', 'number': '1597536482', 'email': 'jay.mumbai@gmail.com'}]"
            ]
          },
          "execution_count": 9,
          "metadata": {},
          "output_type": "execute_result"
        }
      ],
      "source": [
        "delete_contact(contacts, 'ajay')\n",
        "contacts"
      ]
    },
    {
      "cell_type": "markdown",
      "id": "235cba91",
      "metadata": {
        "id": "235cba91"
      },
      "source": [
        "## 5"
      ]
    },
    {
      "cell_type": "code",
      "execution_count": null,
      "id": "ceef4028",
      "metadata": {
        "id": "ceef4028"
      },
      "outputs": [],
      "source": [
        "def update_contact(contacts, name):\n",
        "    for i,j in enumerate(contacts): \n",
        "        if j['name'] == name :\n",
        "            updated_name = input('Enter the name: ')\n",
        "            updated_number = input('Enter the number: ')\n",
        "            updated_email = input('enter the email: ')\n",
        "            \n",
        "            j['name'] = updated_name\n",
        "            j['number'] = updated_number\n",
        "            j['email'] = updated_email\n",
        "            \n",
        "            return contacts[i]\n",
        "            "
      ]
    },
    {
      "cell_type": "code",
      "execution_count": null,
      "id": "b32d3edd",
      "metadata": {
        "id": "b32d3edd",
        "outputId": "e15bd8b9-5058-41e1-8177-1ee565669d82"
      },
      "outputs": [
        {
          "name": "stdout",
          "output_type": "stream",
          "text": [
            "Enter the name: durjoy\n",
            "Enter the number: 1245369871\n",
            "enter the email: durjoy@gmail.com\n"
          ]
        },
        {
          "data": {
            "text/plain": [
              "{'name': 'durjoy', 'number': '1245369871', 'email': 'durjoy@gmail.com'}"
            ]
          },
          "execution_count": 11,
          "metadata": {},
          "output_type": "execute_result"
        }
      ],
      "source": [
        "update_contact(contacts, 'vijay')"
      ]
    },
    {
      "cell_type": "code",
      "execution_count": null,
      "id": "cbd4859f",
      "metadata": {
        "id": "cbd4859f",
        "outputId": "83eb4596-7720-4246-c292-0b19f3a1135e"
      },
      "outputs": [
        {
          "data": {
            "text/plain": [
              "[{'name': 'durjoy', 'number': '1245369871', 'email': 'durjoy@gmail.com'},\n",
              " {'name': 'sujay', 'number': '4561237890', 'email': 'sujay.@gmail.com'},\n",
              " {'name': 'jay', 'number': '1597536482', 'email': 'jay.mumbai@gmail.com'}]"
            ]
          },
          "execution_count": 12,
          "metadata": {},
          "output_type": "execute_result"
        }
      ],
      "source": [
        "contacts"
      ]
    },
    {
      "cell_type": "markdown",
      "id": "2af49e3e",
      "metadata": {
        "id": "2af49e3e"
      },
      "source": [
        "## 6"
      ]
    },
    {
      "cell_type": "code",
      "execution_count": null,
      "id": "757db224",
      "metadata": {
        "id": "757db224"
      },
      "outputs": [],
      "source": [
        "def open_contact(contacts, name ):\n",
        "    flag = 0\n",
        "    for n in range(len(contacts)):\n",
        "        if contacts[n]['name'] == name.lower():\n",
        "            flag = 1\n",
        "            return(contacts[n])\n",
        "            \n",
        "    if flag == 0 :\n",
        "        return 'No match found !!'"
      ]
    },
    {
      "cell_type": "code",
      "execution_count": null,
      "id": "40eed025",
      "metadata": {
        "id": "40eed025",
        "outputId": "c0ac58a7-1285-4141-9ce7-2fad891fee12"
      },
      "outputs": [
        {
          "data": {
            "text/plain": [
              "{'name': 'durjoy', 'number': '1245369871', 'email': 'durjoy@gmail.com'}"
            ]
          },
          "execution_count": 14,
          "metadata": {},
          "output_type": "execute_result"
        }
      ],
      "source": [
        "open_contact(contacts,'durjoy')"
      ]
    },
    {
      "cell_type": "code",
      "execution_count": null,
      "id": "5596a7ba",
      "metadata": {
        "id": "5596a7ba",
        "outputId": "faed43bc-1c87-4ab5-fd35-b3c0e77d9ca7"
      },
      "outputs": [
        {
          "data": {
            "text/plain": [
              "'No match found !!'"
            ]
          },
          "execution_count": 15,
          "metadata": {},
          "output_type": "execute_result"
        }
      ],
      "source": [
        "open_contact(contacts,'ajay')"
      ]
    },
    {
      "cell_type": "code",
      "execution_count": null,
      "id": "8ea9568c",
      "metadata": {
        "id": "8ea9568c"
      },
      "outputs": [],
      "source": [
        ""
      ]
    },
    {
      "cell_type": "code",
      "execution_count": null,
      "id": "72a2336b",
      "metadata": {
        "id": "72a2336b",
        "outputId": "e87b96e3-59a6-4b0a-d1ab-27e4c5dc04d5"
      },
      "outputs": [
        {
          "name": "stdout",
          "output_type": "stream",
          "text": [
            "5\n"
          ]
        }
      ],
      "source": [
        "def num(n = input()):\n",
        "    return int(n)**2"
      ]
    },
    {
      "cell_type": "code",
      "execution_count": null,
      "id": "9d5c8424",
      "metadata": {
        "id": "9d5c8424",
        "outputId": "1dd2e971-36a2-4526-9dea-1d2ca8cf8f03"
      },
      "outputs": [
        {
          "data": {
            "text/plain": [
              "25"
            ]
          },
          "execution_count": 39,
          "metadata": {},
          "output_type": "execute_result"
        }
      ],
      "source": [
        "num()"
      ]
    },
    {
      "cell_type": "code",
      "execution_count": null,
      "id": "dab59705",
      "metadata": {
        "id": "dab59705",
        "outputId": "2c269663-3054-4f19-ff83-5d790ef0f29b"
      },
      "outputs": [
        {
          "name": "stdout",
          "output_type": "stream",
          "text": [
            "5\n"
          ]
        }
      ],
      "source": [
        "def num(x,n = input()):\n",
        "    return int(n)**2 + x"
      ]
    },
    {
      "cell_type": "code",
      "execution_count": null,
      "id": "7af1e737",
      "metadata": {
        "id": "7af1e737",
        "outputId": "626c2770-eaf9-4d6f-bc1a-9b63c73621e4"
      },
      "outputs": [
        {
          "data": {
            "text/plain": [
              "30"
            ]
          },
          "execution_count": 43,
          "metadata": {},
          "output_type": "execute_result"
        }
      ],
      "source": [
        "num(5)"
      ]
    },
    {
      "cell_type": "code",
      "execution_count": null,
      "id": "bf6f9faa",
      "metadata": {
        "id": "bf6f9faa"
      },
      "outputs": [],
      "source": [
        ""
      ]
    },
    {
      "cell_type": "markdown",
      "id": "08b2968b",
      "metadata": {
        "id": "08b2968b"
      },
      "source": [
        "## 7"
      ]
    },
    {
      "cell_type": "code",
      "execution_count": null,
      "id": "fe033359",
      "metadata": {
        "id": "fe033359"
      },
      "outputs": [],
      "source": [
        "def open_contact_1(contacts, name):\n",
        "    flag = 0\n",
        "    \n",
        "    for i,j in enumerate(contacts):\n",
        "        \n",
        "        action = input(\"Choose 'u' to update, 'd' to delete or 's' to search the contact: \")\n",
        "        if action == 'u':\n",
        "            update_contact(contacts, name)\n",
        "            \n",
        "        elif action == 'd':\n",
        "            delete_contact(contacts, name)\n",
        "            \n",
        "        elif action == 's':\n",
        "            for n in range(len(contacts)):\n",
        "                if contacts[n]['name'] == name.lower():\n",
        "                    flag = 1\n",
        "                    return(contacts[n])\n",
        "            if flag == 0:\n",
        "                return 'No match found !!'\n",
        "            \n",
        "        else:\n",
        "            return 'Incorrect choice !!'"
      ]
    },
    {
      "cell_type": "markdown",
      "id": "b8d232a7",
      "metadata": {
        "id": "b8d232a7"
      },
      "source": [
        "## complete game"
      ]
    },
    {
      "cell_type": "code",
      "execution_count": null,
      "id": "93766dfb",
      "metadata": {
        "id": "93766dfb"
      },
      "outputs": [],
      "source": [
        "contacts = [{'name':'ajay','number':'1234567890','email':'ajay.pune@gmail.com'},\n",
        "            {'name':'vijay','number':'7894561230','email':'vijay.delhi@gmail.com'},\n",
        "            {'name':'sujay','number':'4561237890','email':'sujay.@gmail.com'}]\n",
        " "
      ]
    },
    {
      "cell_type": "code",
      "execution_count": null,
      "id": "89a889d4",
      "metadata": {
        "scrolled": true,
        "id": "89a889d4",
        "outputId": "c19083c2-4136-4f01-b845-3b561b78c2b8"
      },
      "outputs": [
        {
          "name": "stdout",
          "output_type": "stream",
          "text": [
            "ajay\n",
            "vijay\n",
            "sujay\n",
            "\n",
            "Press 'a' - add contact, 'o' - open to update/delete contact, 'q' - quit: a\n",
            "Enter the name: jay\n",
            "Enter the number: 1236547890\n",
            "Enter the email: jay@gmail.com\n",
            "{'name': 'jay', 'number': '1236547890', 'email': 'jay@gmail.com'}\n"
          ]
        },
        {
          "ename": "KeyboardInterrupt",
          "evalue": "Interrupted by user",
          "output_type": "error",
          "traceback": [
            "\u001b[1;31m---------------------------------------------------------------------------\u001b[0m",
            "\u001b[1;31mKeyboardInterrupt\u001b[0m                         Traceback (most recent call last)",
            "\u001b[1;32m<ipython-input-2-fbf15288dc21>\u001b[0m in \u001b[0;36m<module>\u001b[1;34m\u001b[0m\n\u001b[0;32m     65\u001b[0m \u001b[1;33m\u001b[0m\u001b[0m\n\u001b[0;32m     66\u001b[0m \u001b[1;32mwhile\u001b[0m \u001b[1;32mTrue\u001b[0m\u001b[1;33m:\u001b[0m\u001b[1;33m\u001b[0m\u001b[1;33m\u001b[0m\u001b[0m\n\u001b[1;32m---> 67\u001b[1;33m     \u001b[0maction\u001b[0m \u001b[1;33m=\u001b[0m \u001b[0minput\u001b[0m\u001b[1;33m(\u001b[0m\u001b[1;34m\"\\nPress 'a' - add contact, 'o' - open to update/delete contact, 'q' - quit: \"\u001b[0m\u001b[1;33m)\u001b[0m\u001b[1;33m\u001b[0m\u001b[1;33m\u001b[0m\u001b[0m\n\u001b[0m\u001b[0;32m     68\u001b[0m     \u001b[1;32mif\u001b[0m \u001b[0maction\u001b[0m \u001b[1;33m==\u001b[0m \u001b[1;34m'a'\u001b[0m\u001b[1;33m:\u001b[0m\u001b[1;33m\u001b[0m\u001b[1;33m\u001b[0m\u001b[0m\n\u001b[0;32m     69\u001b[0m         \u001b[0mprint\u001b[0m\u001b[1;33m(\u001b[0m\u001b[0madd_contact\u001b[0m\u001b[1;33m(\u001b[0m\u001b[0mcontacts\u001b[0m\u001b[1;33m)\u001b[0m\u001b[1;33m)\u001b[0m\u001b[1;33m\u001b[0m\u001b[1;33m\u001b[0m\u001b[0m\n",
            "\u001b[1;32m~\\anaconda3\\lib\\site-packages\\ipykernel\\kernelbase.py\u001b[0m in \u001b[0;36mraw_input\u001b[1;34m(self, prompt)\u001b[0m\n\u001b[0;32m    858\u001b[0m                 \u001b[1;34m\"raw_input was called, but this frontend does not support input requests.\"\u001b[0m\u001b[1;33m\u001b[0m\u001b[1;33m\u001b[0m\u001b[0m\n\u001b[0;32m    859\u001b[0m             )\n\u001b[1;32m--> 860\u001b[1;33m         return self._input_request(str(prompt),\n\u001b[0m\u001b[0;32m    861\u001b[0m             \u001b[0mself\u001b[0m\u001b[1;33m.\u001b[0m\u001b[0m_parent_ident\u001b[0m\u001b[1;33m,\u001b[0m\u001b[1;33m\u001b[0m\u001b[1;33m\u001b[0m\u001b[0m\n\u001b[0;32m    862\u001b[0m             \u001b[0mself\u001b[0m\u001b[1;33m.\u001b[0m\u001b[0m_parent_header\u001b[0m\u001b[1;33m,\u001b[0m\u001b[1;33m\u001b[0m\u001b[1;33m\u001b[0m\u001b[0m\n",
            "\u001b[1;32m~\\anaconda3\\lib\\site-packages\\ipykernel\\kernelbase.py\u001b[0m in \u001b[0;36m_input_request\u001b[1;34m(self, prompt, ident, parent, password)\u001b[0m\n\u001b[0;32m    902\u001b[0m             \u001b[1;32mexcept\u001b[0m \u001b[0mKeyboardInterrupt\u001b[0m\u001b[1;33m:\u001b[0m\u001b[1;33m\u001b[0m\u001b[1;33m\u001b[0m\u001b[0m\n\u001b[0;32m    903\u001b[0m                 \u001b[1;31m# re-raise KeyboardInterrupt, to truncate traceback\u001b[0m\u001b[1;33m\u001b[0m\u001b[1;33m\u001b[0m\u001b[1;33m\u001b[0m\u001b[0m\n\u001b[1;32m--> 904\u001b[1;33m                 \u001b[1;32mraise\u001b[0m \u001b[0mKeyboardInterrupt\u001b[0m\u001b[1;33m(\u001b[0m\u001b[1;34m\"Interrupted by user\"\u001b[0m\u001b[1;33m)\u001b[0m \u001b[1;32mfrom\u001b[0m \u001b[1;32mNone\u001b[0m\u001b[1;33m\u001b[0m\u001b[1;33m\u001b[0m\u001b[0m\n\u001b[0m\u001b[0;32m    905\u001b[0m             \u001b[1;32mexcept\u001b[0m \u001b[0mException\u001b[0m \u001b[1;32mas\u001b[0m \u001b[0me\u001b[0m\u001b[1;33m:\u001b[0m\u001b[1;33m\u001b[0m\u001b[1;33m\u001b[0m\u001b[0m\n\u001b[0;32m    906\u001b[0m                 \u001b[0mself\u001b[0m\u001b[1;33m.\u001b[0m\u001b[0mlog\u001b[0m\u001b[1;33m.\u001b[0m\u001b[0mwarning\u001b[0m\u001b[1;33m(\u001b[0m\u001b[1;34m\"Invalid Message:\"\u001b[0m\u001b[1;33m,\u001b[0m \u001b[0mexc_info\u001b[0m\u001b[1;33m=\u001b[0m\u001b[1;32mTrue\u001b[0m\u001b[1;33m)\u001b[0m\u001b[1;33m\u001b[0m\u001b[1;33m\u001b[0m\u001b[0m\n",
            "\u001b[1;31mKeyboardInterrupt\u001b[0m: Interrupted by user"
          ]
        }
      ],
      "source": [
        "def show_contacts(contacts):\n",
        "    for n in range(len(contacts)):\n",
        "        print(contacts[n]['name'])\n",
        "            \n",
        "show_contacts(contacts) \n",
        "    \n",
        "    ##add contact function\n",
        "def add_contact(contacts):\n",
        "    new_contact = {}\n",
        "    name = input('Enter the name: ')\n",
        "    number = input('Enter the number: ')\n",
        "    email = input('Enter the email: ')\n",
        "    \n",
        "    new_contact['name'] = name\n",
        "    new_contact['number'] = number\n",
        "    new_contact['email'] = email\n",
        "    \n",
        "    contacts.append(new_contact)\n",
        "    return new_contact\n",
        "    \n",
        "    ##update contact function\n",
        "def update_contact(contacts, name):\n",
        "    for i,j in enumerate(contacts):\n",
        "        if j['name'] == name :\n",
        "            updated_name = input('Enter the name: ')\n",
        "            updated_number = input('Enter the number: ')\n",
        "            updated_email = input('enter the email: ')\n",
        "            \n",
        "            j['name'] = updated_name\n",
        "            j['number'] = updated_number\n",
        "            j['email'] = updated_email\n",
        "            \n",
        "            return contacts[i]\n",
        "            \n",
        "    \n",
        "    ##delete contact function\n",
        "def delete_contact(contacts, name):\n",
        "    for n in range(len(contacts)):\n",
        "        if contacts[n]['name'] == name :\n",
        "            contacts.pop(n) # del contacts[n]\n",
        "            break\n",
        "        \n",
        "    ##open contact function\n",
        "def open_contact_1(contacts, name):\n",
        "    flag = 0\n",
        "    for i,j in enumerate(contacts):\n",
        "            \n",
        "        action = input(\"Choose 'u' to update, 'd' to delete or 's' to search the contact: \")\n",
        "        if action == 'u':\n",
        "            return update_contact(contacts, name)\n",
        "            \n",
        "        elif action == 'd':\n",
        "            return delete_contact(contacts, name)\n",
        "            \n",
        "        elif action == 's':\n",
        "            for n in range(len(contacts)):\n",
        "                if contacts[n]['name'] == name.lower():\n",
        "                    flag = 1\n",
        "                    return(contacts[n])\n",
        "            if flag == 0:\n",
        "                return 'No match found !!'\n",
        "            \n",
        "        else:\n",
        "            return 'Incorrect choice !!'\n",
        "    \n",
        "while True:\n",
        "    action = input(\"\\nPress 'a' - add contact, 'o' - open to update/delete contact, 'q' - quit: \")\n",
        "    if action == 'a':\n",
        "        print(add_contact(contacts))\n",
        "            \n",
        "    elif action == 'o':\n",
        "        name = input('Enter the name: ')\n",
        "        print(open_contact_1(contacts, name))\n",
        "        \n",
        "    elif action == 'q':\n",
        "        break\n",
        "            \n"
      ]
    },
    {
      "cell_type": "code",
      "execution_count": null,
      "id": "02ff55b8",
      "metadata": {
        "id": "02ff55b8"
      },
      "outputs": [],
      "source": [
        ""
      ]
    },
    {
      "cell_type": "code",
      "execution_count": null,
      "id": "3088c293",
      "metadata": {
        "id": "3088c293"
      },
      "outputs": [],
      "source": [
        "contacts = [{'name':'ajay','number':'1234567890','email':'ajay.pune@gmail.com'},\n",
        "            {'name':'vijay','number':'7894561230','email':'vijay.delhi@gmail.com'},\n",
        "            {'name':'sujay','number':'4561237890','email':'sujay.@gmail.com'}]\n",
        " "
      ]
    },
    {
      "cell_type": "code",
      "execution_count": null,
      "id": "fbdf1c56",
      "metadata": {
        "id": "fbdf1c56"
      },
      "outputs": [],
      "source": [
        "from IPython.display import clear_output\n",
        "##show contacts\n",
        "# contacts = [{'name':'ajay','number':'1234567890','email':'ajay.pune@gmail.com'},\n",
        "#             {'name':'vijay','number':'7894561230','email':'vijay.delhi@gmail.com'},\n",
        "#             {'name':'sujay','number':'4561237890','email':'sujay.@gmail.com'}]\n",
        "    \n",
        "def show_contacts(contacts):\n",
        "    for n in range(len(contacts)):\n",
        "        print(contacts[n]['name'])\n",
        "            \n",
        "show_contacts(contacts) \n",
        "    \n",
        "    ##add contact function\n",
        "def add_contact(contacts):\n",
        "    new_contact = {}\n",
        "    name = input('Enter the name: ')\n",
        "    number = input('Enter the number: ')\n",
        "    email = input('Enter the email: ')\n",
        "    \n",
        "    new_contact['name'] = name\n",
        "    new_contact['number'] = number\n",
        "    new_contact['email'] = email\n",
        "    \n",
        "    contacts.append(new_contact)\n",
        "    return new_contact\n",
        "    \n",
        "    ##update contact function\n",
        "def update_contact(contacts, name):\n",
        "    for i,j in enumerate(contacts):\n",
        "        if j['name'] == name :\n",
        "            updated_name = input('Enter the name: ')\n",
        "            updated_number = input('Enter the number: ')\n",
        "            updated_email = input('enter the email: ')\n",
        "            \n",
        "            j['name'] = updated_name\n",
        "            j['number'] = updated_number\n",
        "            j['email'] = updated_email\n",
        "            \n",
        "            return contacts[i]\n",
        "            \n",
        "    \n",
        "    ##delete contact function\n",
        "def delete_contact(contacts, name):\n",
        "    for n in range(len(contacts)):\n",
        "        if contacts[n]['name'] == name :\n",
        "            contacts.pop(n) # del contacts[n]\n",
        "            break\n",
        "        \n",
        "    ##open contact function\n",
        "def open_contact_1(contacts, name):\n",
        "    flag = 0\n",
        "    for i,j in enumerate(contacts):\n",
        "            \n",
        "        action = input(\"Choose 'u' to update, 'd' to delete or 's' to search the contact: \")\n",
        "        if action == 'u':\n",
        "            return update_contact(contacts, name)\n",
        "            \n",
        "        elif action == 'd':\n",
        "            return delete_contact(contacts, name)\n",
        "            \n",
        "        elif action == 's':\n",
        "#                 name = input('Enter the name to search: ')\n",
        "            for n in range(len(contacts)):\n",
        "                if contacts[n]['name'] == name.lower():\n",
        "                    flag = 1\n",
        "                    return(contacts[n])\n",
        "            if flag == 0:\n",
        "                return 'No match found !!'\n",
        "            \n",
        "        else:\n",
        "            return 'Incorrect choice !!'\n",
        "    \n",
        "while True:\n",
        "    action = input(\"\\nPress 'a' - add contact, 'o' - open to update/delete contact, 'q' - quit: \")\n",
        "    if action == 'a':\n",
        "        print(add_contact(contacts))\n",
        "            \n",
        "    elif action == 'o':\n",
        "        name = input('Enter the name: ')\n",
        "        print(open_contact_1(contacts, name))\n",
        "        \n",
        "    elif action == 'q':\n",
        "        break\n",
        "            \n",
        "clear_output()"
      ]
    },
    {
      "cell_type": "code",
      "execution_count": null,
      "id": "d9d521f5",
      "metadata": {
        "id": "d9d521f5",
        "outputId": "877c2227-cc96-438a-f600-2dcf70ccfeb3"
      },
      "outputs": [
        {
          "data": {
            "text/plain": [
              "4"
            ]
          },
          "execution_count": 1,
          "metadata": {},
          "output_type": "execute_result"
        }
      ],
      "source": [
        "x = [1,2,3,4]\n",
        "x.pop()"
      ]
    },
    {
      "cell_type": "code",
      "execution_count": null,
      "id": "79793aaa",
      "metadata": {
        "id": "79793aaa",
        "outputId": "6f5cc6de-7d8a-4c1b-b125-b249f80cc0e2"
      },
      "outputs": [
        {
          "data": {
            "text/plain": [
              "[1, 2, 3]"
            ]
          },
          "execution_count": 2,
          "metadata": {},
          "output_type": "execute_result"
        }
      ],
      "source": [
        "x"
      ]
    },
    {
      "cell_type": "code",
      "execution_count": null,
      "id": "3c718399",
      "metadata": {
        "id": "3c718399"
      },
      "outputs": [],
      "source": [
        ""
      ]
    }
  ],
  "metadata": {
    "kernelspec": {
      "display_name": "Python 3",
      "language": "python",
      "name": "python3"
    },
    "language_info": {
      "codemirror_mode": {
        "name": "ipython",
        "version": 3
      },
      "file_extension": ".py",
      "mimetype": "text/x-python",
      "name": "python",
      "nbconvert_exporter": "python",
      "pygments_lexer": "ipython3",
      "version": "3.8.8"
    },
    "colab": {
      "name": "Complete_contact_app-sol2.ipynb",
      "provenance": [],
      "include_colab_link": true
    }
  },
  "nbformat": 4,
  "nbformat_minor": 5
}