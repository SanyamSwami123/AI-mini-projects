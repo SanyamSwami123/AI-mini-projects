{
  "nbformat": 4,
  "nbformat_minor": 0,
  "metadata": {
    "colab": {
      "name": "missionaries and cannibals.ipynb",
      "provenance": [],
      "collapsed_sections": []
    },
    "kernelspec": {
      "name": "python3",
      "display_name": "Python 3"
    },
    "language_info": {
      "name": "python"
    }
  },
  "cells": [
    {
      "cell_type": "code",
      "execution_count": null,
      "metadata": {
        "id": "y4OkwtabXrKu"
      },
      "outputs": [],
      "source": [
        "boat_side = 'Right'\n",
        "missionaries_on_right=3\n",
        "cannibals_on_right=3\n",
        "missionaries_on_left=0\n",
        "cannibals_on_left=0\n",
        "\n",
        "print(\"\\U0001f482\"*missionaries_on_left, '\\U0001f479'*cannibals_on_left, '\\U0001f30a'*4, '\\U0001f6A2', '\\U0001f482'*missionaries_on_right, '\\U0001f479'*cannibals_on_right)\n",
        "while True:\n",
        "  missionaries= int(input(\"Enter number of missionaries: \"))\n",
        "  cannibals=int(input(\"Enter number of cannibals: \"))\n",
        "  \n",
        "  max_num_boat =missionaries+cannibals\n",
        "  if max_num_boat not in [1,2]: \n",
        "    print('invalid')\n",
        "    continue\n",
        "  \n",
        "  ### Your code ###\n",
        "  if boat_side=='Right':\n",
        "    if missionaries_on_right< missionaries  or cannibals_on_right<cannibals :\n",
        "      print(\"invalid\")\n",
        "      continue\n",
        "      \n",
        "    missionaries_on_right=missionaries_on_right-missionaries\n",
        "    cannibals_on_right= cannibals_on_right- cannibals\n",
        "    missionaries_on_left=missionaries_on_left+missionaries\n",
        "    cannibals_on_left= cannibals_on_left+ cannibals\n",
        "    boat_side='Left'\n",
        "    print(\"\\U0001f482\"*missionaries_on_left, '\\U0001f479'*cannibals_on_left, '\\U0001f6A2',  '\\U0001f30a'*4, '\\U0001f482'*missionaries_on_right, '\\U0001f479'*cannibals_on_right)\n",
        "  elif  boat_side=='Left' :\n",
        "    if missionaries_on_left< missionaries  or cannibals_on_left<cannibals :\n",
        "      print(\"invalid\")\n",
        "      continue\n",
        "  \n",
        "    missionaries_on_left=missionaries_on_left-missionaries\n",
        "    cannibals_on_left= cannibals_on_left- cannibals\n",
        "    missionaries_on_right=missionaries_on_right+missionaries\n",
        "    cannibals_on_right= cannibals_on_right+ cannibals\n",
        "    boat_side=\"Right\"\n",
        "    print(\"\\U0001f482\"*missionaries_on_left, '\\U0001f479'*cannibals_on_left, '\\U0001f30a'*4, '\\U0001f6A2', '\\U0001f482'*missionaries_on_right, '\\U0001f479'*cannibals_on_right)\n",
        "\n",
        "  if missionaries_on_right < cannibals_on_right and missionaries_on_right>0 :\n",
        "    print(\"YOU LOSE\")\n",
        "    break\n",
        "  if missionaries_on_left < cannibals_on_left and missionaries_on_left>0 :\n",
        "    print(\"YOU LOSE\")\n",
        "    break\n",
        "  if missionaries_on_left==3 and cannibals_on_left==3:\n",
        "    print(\"YOU WIN\")\n",
        "    break"
      ]
    }
  ]
}