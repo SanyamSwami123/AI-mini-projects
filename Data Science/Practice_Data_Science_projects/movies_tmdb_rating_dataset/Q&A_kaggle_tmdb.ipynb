{
 "cells": [
  {
   "cell_type": "code",
   "execution_count": null,
   "id": "0f2e5c0c",
   "metadata": {},
   "outputs": [],
   "source": [
    "## Read the created tmdb_dataset "
   ]
  },
  {
   "cell_type": "code",
   "execution_count": 1,
   "id": "aca24e73",
   "metadata": {},
   "outputs": [],
   "source": [
    "import pandas as pd\n",
    "import numpy as np"
   ]
  },
  {
   "cell_type": "code",
   "execution_count": 2,
   "id": "a7d93f4c",
   "metadata": {},
   "outputs": [
    {
     "data": {
      "text/html": [
       "<div>\n",
       "<style scoped>\n",
       "    .dataframe tbody tr th:only-of-type {\n",
       "        vertical-align: middle;\n",
       "    }\n",
       "\n",
       "    .dataframe tbody tr th {\n",
       "        vertical-align: top;\n",
       "    }\n",
       "\n",
       "    .dataframe thead th {\n",
       "        text-align: right;\n",
       "    }\n",
       "</style>\n",
       "<table border=\"1\" class=\"dataframe\">\n",
       "  <thead>\n",
       "    <tr style=\"text-align: right;\">\n",
       "      <th></th>\n",
       "      <th>Unnamed: 0</th>\n",
       "      <th>budget</th>\n",
       "      <th>id</th>\n",
       "      <th>keywords</th>\n",
       "      <th>popularity</th>\n",
       "      <th>production_companies</th>\n",
       "      <th>revenue</th>\n",
       "      <th>runtime</th>\n",
       "      <th>spoken_languages</th>\n",
       "      <th>status</th>\n",
       "      <th>title</th>\n",
       "      <th>vote_average</th>\n",
       "      <th>vote_count</th>\n",
       "      <th>genres_list</th>\n",
       "      <th>Countries</th>\n",
       "      <th>release_year</th>\n",
       "      <th>language</th>\n",
       "    </tr>\n",
       "  </thead>\n",
       "  <tbody>\n",
       "    <tr>\n",
       "      <th>0</th>\n",
       "      <td>0</td>\n",
       "      <td>237000000</td>\n",
       "      <td>19995</td>\n",
       "      <td>['culture clash', 'future', 'space war', 'spac...</td>\n",
       "      <td>150.437577</td>\n",
       "      <td>4</td>\n",
       "      <td>2787965087</td>\n",
       "      <td>162.0</td>\n",
       "      <td>['English', 'Espa']</td>\n",
       "      <td>1</td>\n",
       "      <td>Avatar</td>\n",
       "      <td>7.2</td>\n",
       "      <td>11800</td>\n",
       "      <td>['Action', 'Adventure', 'Fantasy', 'Science Fi...</td>\n",
       "      <td>['United States of America', 'United Kingdom']</td>\n",
       "      <td>2009.0</td>\n",
       "      <td>en</td>\n",
       "    </tr>\n",
       "    <tr>\n",
       "      <th>1</th>\n",
       "      <td>1</td>\n",
       "      <td>300000000</td>\n",
       "      <td>285</td>\n",
       "      <td>['ocean', 'drug abuse', 'exotic island', 'east...</td>\n",
       "      <td>139.082615</td>\n",
       "      <td>3</td>\n",
       "      <td>961000000</td>\n",
       "      <td>169.0</td>\n",
       "      <td>['English']</td>\n",
       "      <td>1</td>\n",
       "      <td>Pirates of the Caribbean: At World's End</td>\n",
       "      <td>6.9</td>\n",
       "      <td>4500</td>\n",
       "      <td>['Adventure', 'Fantasy', 'Action']</td>\n",
       "      <td>['United States of America']</td>\n",
       "      <td>2007.0</td>\n",
       "      <td>en</td>\n",
       "    </tr>\n",
       "  </tbody>\n",
       "</table>\n",
       "</div>"
      ],
      "text/plain": [
       "   Unnamed: 0     budget     id  \\\n",
       "0           0  237000000  19995   \n",
       "1           1  300000000    285   \n",
       "\n",
       "                                            keywords  popularity  \\\n",
       "0  ['culture clash', 'future', 'space war', 'spac...  150.437577   \n",
       "1  ['ocean', 'drug abuse', 'exotic island', 'east...  139.082615   \n",
       "\n",
       "   production_companies     revenue  runtime     spoken_languages  status  \\\n",
       "0                     4  2787965087    162.0  ['English', 'Espa']       1   \n",
       "1                     3   961000000    169.0          ['English']       1   \n",
       "\n",
       "                                      title  vote_average  vote_count  \\\n",
       "0                                    Avatar           7.2       11800   \n",
       "1  Pirates of the Caribbean: At World's End           6.9        4500   \n",
       "\n",
       "                                         genres_list  \\\n",
       "0  ['Action', 'Adventure', 'Fantasy', 'Science Fi...   \n",
       "1                 ['Adventure', 'Fantasy', 'Action']   \n",
       "\n",
       "                                        Countries  release_year language  \n",
       "0  ['United States of America', 'United Kingdom']        2009.0       en  \n",
       "1                    ['United States of America']        2007.0       en  "
      ]
     },
     "execution_count": 2,
     "metadata": {},
     "output_type": "execute_result"
    }
   ],
   "source": [
    "df = pd.read_csv('(write_your_file_path)\\tmdb_dataset.csv')\n",
    "df.head(2)"
   ]
  },
  {
   "cell_type": "code",
   "execution_count": null,
   "id": "9d6f45c2",
   "metadata": {},
   "outputs": [],
   "source": []
  },
  {
   "cell_type": "markdown",
   "id": "9043bd33",
   "metadata": {},
   "source": [
    "## Q1"
   ]
  },
  {
   "cell_type": "code",
   "execution_count": 2,
   "id": "7a838e96",
   "metadata": {},
   "outputs": [],
   "source": [
    "# how many movies are made in english language"
   ]
  },
  {
   "cell_type": "code",
   "execution_count": 6,
   "id": "31fc4a3f",
   "metadata": {},
   "outputs": [
    {
     "data": {
      "text/plain": [
       "4505"
      ]
     },
     "execution_count": 6,
     "metadata": {},
     "output_type": "execute_result"
    }
   ],
   "source": [
    "(df.language == 'en').sum()"
   ]
  },
  {
   "cell_type": "code",
   "execution_count": 7,
   "id": "3cb1c8d1",
   "metadata": {},
   "outputs": [
    {
     "data": {
      "text/plain": [
       "4505"
      ]
     },
     "execution_count": 7,
     "metadata": {},
     "output_type": "execute_result"
    }
   ],
   "source": [
    "len(df[df.language == 'en'])"
   ]
  },
  {
   "cell_type": "code",
   "execution_count": 8,
   "id": "a3043f6a",
   "metadata": {},
   "outputs": [
    {
     "data": {
      "text/plain": [
       "4505"
      ]
     },
     "execution_count": 8,
     "metadata": {},
     "output_type": "execute_result"
    }
   ],
   "source": [
    "(df[df.language == 'en']).shape[0]"
   ]
  },
  {
   "cell_type": "code",
   "execution_count": null,
   "id": "a68da18d",
   "metadata": {},
   "outputs": [],
   "source": []
  },
  {
   "cell_type": "markdown",
   "id": "d8400ed9",
   "metadata": {},
   "source": [
    "## Q2"
   ]
  },
  {
   "cell_type": "code",
   "execution_count": 11,
   "id": "8faaca8e",
   "metadata": {},
   "outputs": [
    {
     "data": {
      "text/plain": [
       "0                                         Avatar\n",
       "1       Pirates of the Caribbean: At World's End\n",
       "2                                        Spectre\n",
       "3                          The Dark Knight Rises\n",
       "4                                    John Carter\n",
       "                          ...                   \n",
       "4797                                      Cavite\n",
       "4799                                   Newlyweds\n",
       "4800                   Signed, Sealed, Delivered\n",
       "4801                            Shanghai Calling\n",
       "4802                           My Date with Drew\n",
       "Name: title, Length: 4505, dtype: object"
      ]
     },
     "execution_count": 11,
     "metadata": {},
     "output_type": "execute_result"
    }
   ],
   "source": [
    "# create a series of english movie titles\n",
    "df[df.language == 'en']['title']"
   ]
  },
  {
   "cell_type": "code",
   "execution_count": null,
   "id": "806140b2",
   "metadata": {},
   "outputs": [],
   "source": []
  },
  {
   "cell_type": "markdown",
   "id": "1ca1913c",
   "metadata": {},
   "source": [
    "## Q3"
   ]
  },
  {
   "cell_type": "code",
   "execution_count": null,
   "id": "e7f97dc6",
   "metadata": {},
   "outputs": [],
   "source": [
    "# how many movies are made in every language ? (value_counts)"
   ]
  },
  {
   "cell_type": "code",
   "execution_count": 9,
   "id": "01501c60",
   "metadata": {},
   "outputs": [
    {
     "data": {
      "text/plain": [
       "en    4505\n",
       "fr      70\n",
       "es      32\n",
       "de      27\n",
       "zh      27\n",
       "hi      19\n",
       "ja      16\n",
       "it      14\n",
       "cn      12\n",
       "ru      11\n",
       "ko      11\n",
       "pt       9\n",
       "da       7\n",
       "sv       5\n",
       "fa       4\n",
       "nl       4\n",
       "he       3\n",
       "th       3\n",
       "ar       2\n",
       "cs       2\n",
       "id       2\n",
       "ta       2\n",
       "ro       2\n",
       "nb       1\n",
       "sl       1\n",
       "pl       1\n",
       "te       1\n",
       "no       1\n",
       "ps       1\n",
       "xx       1\n",
       "is       1\n",
       "el       1\n",
       "af       1\n",
       "hu       1\n",
       "vi       1\n",
       "ky       1\n",
       "tr       1\n",
       "Name: language, dtype: int64"
      ]
     },
     "execution_count": 9,
     "metadata": {},
     "output_type": "execute_result"
    }
   ],
   "source": [
    "df.language.value_counts()"
   ]
  },
  {
   "cell_type": "code",
   "execution_count": null,
   "id": "05ba9055",
   "metadata": {},
   "outputs": [],
   "source": []
  },
  {
   "cell_type": "markdown",
   "id": "dd0bd77d",
   "metadata": {},
   "source": [
    "## Q4"
   ]
  },
  {
   "cell_type": "code",
   "execution_count": null,
   "id": "483e7918",
   "metadata": {},
   "outputs": [],
   "source": [
    "# how many languages are there in which only one movie is made ?"
   ]
  },
  {
   "cell_type": "code",
   "execution_count": 12,
   "id": "2cbbb6dd",
   "metadata": {},
   "outputs": [
    {
     "data": {
      "text/plain": [
       "14"
      ]
     },
     "execution_count": 12,
     "metadata": {},
     "output_type": "execute_result"
    }
   ],
   "source": [
    "(df.language.value_counts() == 1).sum()"
   ]
  },
  {
   "cell_type": "code",
   "execution_count": null,
   "id": "e6efe6fe",
   "metadata": {},
   "outputs": [],
   "source": []
  },
  {
   "cell_type": "markdown",
   "id": "8ac54036",
   "metadata": {},
   "source": [
    "## Q5"
   ]
  },
  {
   "cell_type": "code",
   "execution_count": null,
   "id": "82cfe44a",
   "metadata": {},
   "outputs": [],
   "source": [
    "# which movie gathered maximum revenue"
   ]
  },
  {
   "cell_type": "code",
   "execution_count": 13,
   "id": "3d626b9a",
   "metadata": {},
   "outputs": [
    {
     "data": {
      "text/plain": [
       "2787965087"
      ]
     },
     "execution_count": 13,
     "metadata": {},
     "output_type": "execute_result"
    }
   ],
   "source": [
    "df.revenue.max()"
   ]
  },
  {
   "cell_type": "code",
   "execution_count": 14,
   "id": "6b953042",
   "metadata": {},
   "outputs": [
    {
     "data": {
      "text/plain": [
       "0"
      ]
     },
     "execution_count": 14,
     "metadata": {},
     "output_type": "execute_result"
    }
   ],
   "source": [
    "df.revenue.idxmax()"
   ]
  },
  {
   "cell_type": "code",
   "execution_count": 15,
   "id": "f1c42210",
   "metadata": {},
   "outputs": [
    {
     "data": {
      "text/plain": [
       "Unnamed: 0                                                              0\n",
       "budget                                                          237000000\n",
       "id                                                                  19995\n",
       "keywords                ['culture clash', 'future', 'space war', 'spac...\n",
       "popularity                                                     150.437577\n",
       "production_companies                                                    4\n",
       "revenue                                                        2787965087\n",
       "runtime                                                             162.0\n",
       "spoken_languages                                      ['English', 'Espa']\n",
       "status                                                                  1\n",
       "title                                                              Avatar\n",
       "vote_average                                                          7.2\n",
       "vote_count                                                          11800\n",
       "genres_list             ['Action', 'Adventure', 'Fantasy', 'Science Fi...\n",
       "Countries                  ['United States of America', 'United Kingdom']\n",
       "release_year                                                       2009.0\n",
       "language                                                               en\n",
       "Name: 0, dtype: object"
      ]
     },
     "execution_count": 15,
     "metadata": {},
     "output_type": "execute_result"
    }
   ],
   "source": [
    "df.iloc[df.revenue.idxmax()]"
   ]
  },
  {
   "cell_type": "code",
   "execution_count": 16,
   "id": "b05d7d66",
   "metadata": {},
   "outputs": [
    {
     "data": {
      "text/html": [
       "<div>\n",
       "<style scoped>\n",
       "    .dataframe tbody tr th:only-of-type {\n",
       "        vertical-align: middle;\n",
       "    }\n",
       "\n",
       "    .dataframe tbody tr th {\n",
       "        vertical-align: top;\n",
       "    }\n",
       "\n",
       "    .dataframe thead th {\n",
       "        text-align: right;\n",
       "    }\n",
       "</style>\n",
       "<table border=\"1\" class=\"dataframe\">\n",
       "  <thead>\n",
       "    <tr style=\"text-align: right;\">\n",
       "      <th></th>\n",
       "      <th>Unnamed: 0</th>\n",
       "      <th>budget</th>\n",
       "      <th>id</th>\n",
       "      <th>keywords</th>\n",
       "      <th>popularity</th>\n",
       "      <th>production_companies</th>\n",
       "      <th>revenue</th>\n",
       "      <th>runtime</th>\n",
       "      <th>spoken_languages</th>\n",
       "      <th>status</th>\n",
       "      <th>title</th>\n",
       "      <th>vote_average</th>\n",
       "      <th>vote_count</th>\n",
       "      <th>genres_list</th>\n",
       "      <th>Countries</th>\n",
       "      <th>release_year</th>\n",
       "      <th>language</th>\n",
       "    </tr>\n",
       "  </thead>\n",
       "  <tbody>\n",
       "    <tr>\n",
       "      <th>0</th>\n",
       "      <td>0</td>\n",
       "      <td>237000000</td>\n",
       "      <td>19995</td>\n",
       "      <td>['culture clash', 'future', 'space war', 'spac...</td>\n",
       "      <td>150.437577</td>\n",
       "      <td>4</td>\n",
       "      <td>2787965087</td>\n",
       "      <td>162.0</td>\n",
       "      <td>['English', 'Espa']</td>\n",
       "      <td>1</td>\n",
       "      <td>Avatar</td>\n",
       "      <td>7.2</td>\n",
       "      <td>11800</td>\n",
       "      <td>['Action', 'Adventure', 'Fantasy', 'Science Fi...</td>\n",
       "      <td>['United States of America', 'United Kingdom']</td>\n",
       "      <td>2009.0</td>\n",
       "      <td>en</td>\n",
       "    </tr>\n",
       "  </tbody>\n",
       "</table>\n",
       "</div>"
      ],
      "text/plain": [
       "   Unnamed: 0     budget     id  \\\n",
       "0           0  237000000  19995   \n",
       "\n",
       "                                            keywords  popularity  \\\n",
       "0  ['culture clash', 'future', 'space war', 'spac...  150.437577   \n",
       "\n",
       "   production_companies     revenue  runtime     spoken_languages  status  \\\n",
       "0                     4  2787965087    162.0  ['English', 'Espa']       1   \n",
       "\n",
       "    title  vote_average  vote_count  \\\n",
       "0  Avatar           7.2       11800   \n",
       "\n",
       "                                         genres_list  \\\n",
       "0  ['Action', 'Adventure', 'Fantasy', 'Science Fi...   \n",
       "\n",
       "                                        Countries  release_year language  \n",
       "0  ['United States of America', 'United Kingdom']        2009.0       en  "
      ]
     },
     "execution_count": 16,
     "metadata": {},
     "output_type": "execute_result"
    }
   ],
   "source": [
    "df.iloc[[df.revenue.idxmax()]]"
   ]
  },
  {
   "cell_type": "code",
   "execution_count": 23,
   "id": "b0fe20ea",
   "metadata": {},
   "outputs": [
    {
     "data": {
      "text/plain": [
       "0    Avatar\n",
       "Name: title, dtype: object"
      ]
     },
     "execution_count": 23,
     "metadata": {},
     "output_type": "execute_result"
    }
   ],
   "source": [
    "df.loc[[df.revenue.idxmax()]]['title']"
   ]
  },
  {
   "cell_type": "code",
   "execution_count": null,
   "id": "e77b534b",
   "metadata": {},
   "outputs": [],
   "source": []
  },
  {
   "cell_type": "markdown",
   "id": "6a659947",
   "metadata": {},
   "source": [
    "## Q6"
   ]
  },
  {
   "cell_type": "code",
   "execution_count": 18,
   "id": "02843d76",
   "metadata": {},
   "outputs": [],
   "source": [
    "# find movie with least vote_count"
   ]
  },
  {
   "cell_type": "code",
   "execution_count": 19,
   "id": "100aa378",
   "metadata": {},
   "outputs": [
    {
     "data": {
      "text/plain": [
       "0"
      ]
     },
     "execution_count": 19,
     "metadata": {},
     "output_type": "execute_result"
    }
   ],
   "source": [
    "df.vote_count.min()"
   ]
  },
  {
   "cell_type": "code",
   "execution_count": 20,
   "id": "f6c009b0",
   "metadata": {},
   "outputs": [
    {
     "data": {
      "text/plain": [
       "1464"
      ]
     },
     "execution_count": 20,
     "metadata": {},
     "output_type": "execute_result"
    }
   ],
   "source": [
    "df.vote_count.idxmin()"
   ]
  },
  {
   "cell_type": "code",
   "execution_count": 22,
   "id": "6e42681b",
   "metadata": {},
   "outputs": [
    {
     "data": {
      "text/plain": [
       "1464    Black Water Transit\n",
       "Name: title, dtype: object"
      ]
     },
     "execution_count": 22,
     "metadata": {},
     "output_type": "execute_result"
    }
   ],
   "source": [
    "df.loc[[df.vote_count.idxmin()]]['title']"
   ]
  },
  {
   "cell_type": "code",
   "execution_count": null,
   "id": "0f918dec",
   "metadata": {},
   "outputs": [],
   "source": []
  },
  {
   "cell_type": "markdown",
   "id": "afef892e",
   "metadata": {},
   "source": [
    "## Q 7"
   ]
  },
  {
   "cell_type": "code",
   "execution_count": null,
   "id": "7ef5994c",
   "metadata": {},
   "outputs": [],
   "source": [
    "# sort by budget\n",
    "new_tmdb_dataset.sort_values('budget').tail(3)"
   ]
  },
  {
   "cell_type": "code",
   "execution_count": null,
   "id": "6832b1a1",
   "metadata": {},
   "outputs": [],
   "source": []
  },
  {
   "cell_type": "markdown",
   "id": "b5adb615",
   "metadata": {},
   "source": [
    "## Q 8"
   ]
  },
  {
   "cell_type": "code",
   "execution_count": 24,
   "id": "0581f800",
   "metadata": {},
   "outputs": [
    {
     "data": {
      "text/html": [
       "<div>\n",
       "<style scoped>\n",
       "    .dataframe tbody tr th:only-of-type {\n",
       "        vertical-align: middle;\n",
       "    }\n",
       "\n",
       "    .dataframe tbody tr th {\n",
       "        vertical-align: top;\n",
       "    }\n",
       "\n",
       "    .dataframe thead th {\n",
       "        text-align: right;\n",
       "    }\n",
       "</style>\n",
       "<table border=\"1\" class=\"dataframe\">\n",
       "  <thead>\n",
       "    <tr style=\"text-align: right;\">\n",
       "      <th></th>\n",
       "      <th>Unnamed: 0</th>\n",
       "      <th>budget</th>\n",
       "      <th>id</th>\n",
       "      <th>keywords</th>\n",
       "      <th>popularity</th>\n",
       "      <th>production_companies</th>\n",
       "      <th>revenue</th>\n",
       "      <th>runtime</th>\n",
       "      <th>spoken_languages</th>\n",
       "      <th>status</th>\n",
       "      <th>title</th>\n",
       "      <th>vote_average</th>\n",
       "      <th>vote_count</th>\n",
       "      <th>genres_list</th>\n",
       "      <th>Countries</th>\n",
       "      <th>release_year</th>\n",
       "      <th>language</th>\n",
       "    </tr>\n",
       "  </thead>\n",
       "  <tbody>\n",
       "    <tr>\n",
       "      <th>4553</th>\n",
       "      <td>4553</td>\n",
       "      <td>0</td>\n",
       "      <td>380097</td>\n",
       "      <td>[]</td>\n",
       "      <td>0.000000</td>\n",
       "      <td>0</td>\n",
       "      <td>0</td>\n",
       "      <td>0.0</td>\n",
       "      <td>[]</td>\n",
       "      <td>1</td>\n",
       "      <td>America Is Still the Place</td>\n",
       "      <td>0.0</td>\n",
       "      <td>0</td>\n",
       "      <td>[]</td>\n",
       "      <td>[]</td>\n",
       "      <td>NaN</td>\n",
       "      <td>en</td>\n",
       "    </tr>\n",
       "    <tr>\n",
       "      <th>3361</th>\n",
       "      <td>3361</td>\n",
       "      <td>0</td>\n",
       "      <td>77156</td>\n",
       "      <td>[]</td>\n",
       "      <td>0.000372</td>\n",
       "      <td>0</td>\n",
       "      <td>0</td>\n",
       "      <td>90.0</td>\n",
       "      <td>['English']</td>\n",
       "      <td>1</td>\n",
       "      <td>Alien Zone</td>\n",
       "      <td>4.0</td>\n",
       "      <td>3</td>\n",
       "      <td>['Horror', 'Action', 'Thriller', 'Science Fict...</td>\n",
       "      <td>['United States of America']</td>\n",
       "      <td>1978.0</td>\n",
       "      <td>en</td>\n",
       "    </tr>\n",
       "    <tr>\n",
       "      <th>4727</th>\n",
       "      <td>4727</td>\n",
       "      <td>0</td>\n",
       "      <td>65448</td>\n",
       "      <td>['prison', 'boxing']</td>\n",
       "      <td>0.001117</td>\n",
       "      <td>0</td>\n",
       "      <td>0</td>\n",
       "      <td>99.0</td>\n",
       "      <td>['English']</td>\n",
       "      <td>1</td>\n",
       "      <td>Penitentiary</td>\n",
       "      <td>4.9</td>\n",
       "      <td>8</td>\n",
       "      <td>['Action', 'Drama']</td>\n",
       "      <td>[]</td>\n",
       "      <td>1979.0</td>\n",
       "      <td>en</td>\n",
       "    </tr>\n",
       "    <tr>\n",
       "      <th>4118</th>\n",
       "      <td>4118</td>\n",
       "      <td>0</td>\n",
       "      <td>325140</td>\n",
       "      <td>[]</td>\n",
       "      <td>0.001186</td>\n",
       "      <td>0</td>\n",
       "      <td>0</td>\n",
       "      <td>0.0</td>\n",
       "      <td>[]</td>\n",
       "      <td>1</td>\n",
       "      <td>Hum To Mohabbat Karega</td>\n",
       "      <td>0.0</td>\n",
       "      <td>0</td>\n",
       "      <td>[]</td>\n",
       "      <td>[]</td>\n",
       "      <td>2000.0</td>\n",
       "      <td>en</td>\n",
       "    </tr>\n",
       "    <tr>\n",
       "      <th>4625</th>\n",
       "      <td>4625</td>\n",
       "      <td>0</td>\n",
       "      <td>426067</td>\n",
       "      <td>[]</td>\n",
       "      <td>0.001389</td>\n",
       "      <td>0</td>\n",
       "      <td>0</td>\n",
       "      <td>94.0</td>\n",
       "      <td>['English']</td>\n",
       "      <td>1</td>\n",
       "      <td>Midnight Cabaret</td>\n",
       "      <td>0.0</td>\n",
       "      <td>0</td>\n",
       "      <td>['Horror']</td>\n",
       "      <td>[]</td>\n",
       "      <td>1990.0</td>\n",
       "      <td>en</td>\n",
       "    </tr>\n",
       "  </tbody>\n",
       "</table>\n",
       "</div>"
      ],
      "text/plain": [
       "      Unnamed: 0  budget      id              keywords  popularity  \\\n",
       "4553        4553       0  380097                    []    0.000000   \n",
       "3361        3361       0   77156                    []    0.000372   \n",
       "4727        4727       0   65448  ['prison', 'boxing']    0.001117   \n",
       "4118        4118       0  325140                    []    0.001186   \n",
       "4625        4625       0  426067                    []    0.001389   \n",
       "\n",
       "      production_companies  revenue  runtime spoken_languages  status  \\\n",
       "4553                     0        0      0.0               []       1   \n",
       "3361                     0        0     90.0      ['English']       1   \n",
       "4727                     0        0     99.0      ['English']       1   \n",
       "4118                     0        0      0.0               []       1   \n",
       "4625                     0        0     94.0      ['English']       1   \n",
       "\n",
       "                           title  vote_average  vote_count  \\\n",
       "4553  America Is Still the Place           0.0           0   \n",
       "3361                  Alien Zone           4.0           3   \n",
       "4727                Penitentiary           4.9           8   \n",
       "4118      Hum To Mohabbat Karega           0.0           0   \n",
       "4625            Midnight Cabaret           0.0           0   \n",
       "\n",
       "                                            genres_list  \\\n",
       "4553                                                 []   \n",
       "3361  ['Horror', 'Action', 'Thriller', 'Science Fict...   \n",
       "4727                                ['Action', 'Drama']   \n",
       "4118                                                 []   \n",
       "4625                                         ['Horror']   \n",
       "\n",
       "                         Countries  release_year language  \n",
       "4553                            []           NaN       en  \n",
       "3361  ['United States of America']        1978.0       en  \n",
       "4727                            []        1979.0       en  \n",
       "4118                            []        2000.0       en  \n",
       "4625                            []        1990.0       en  "
      ]
     },
     "execution_count": 24,
     "metadata": {},
     "output_type": "execute_result"
    }
   ],
   "source": [
    "# sort according to popularity\n",
    "df.sort_values('popularity').head(5)"
   ]
  },
  {
   "cell_type": "code",
   "execution_count": 25,
   "id": "99647c85",
   "metadata": {},
   "outputs": [
    {
     "data": {
      "text/plain": [
       "4553      0.000000\n",
       "3361      0.000372\n",
       "4727      0.001117\n",
       "4118      0.001186\n",
       "4625      0.001389\n",
       "           ...    \n",
       "127     434.278564\n",
       "94      481.098624\n",
       "788     514.569956\n",
       "95      724.247784\n",
       "546     875.581305\n",
       "Name: popularity, Length: 4803, dtype: float64"
      ]
     },
     "execution_count": 25,
     "metadata": {},
     "output_type": "execute_result"
    }
   ],
   "source": [
    "df.popularity.sort_values()"
   ]
  },
  {
   "cell_type": "code",
   "execution_count": null,
   "id": "0d677a71",
   "metadata": {},
   "outputs": [],
   "source": []
  },
  {
   "cell_type": "markdown",
   "id": "bce19fb4",
   "metadata": {},
   "source": [
    "## Q 9."
   ]
  },
  {
   "cell_type": "code",
   "execution_count": null,
   "id": "2a35dd19",
   "metadata": {},
   "outputs": [],
   "source": [
    "# groupby language\n",
    "df.groupby('language').mean().head()"
   ]
  },
  {
   "cell_type": "code",
   "execution_count": 26,
   "id": "b8462f67",
   "metadata": {},
   "outputs": [
    {
     "data": {
      "text/plain": [
       "language\n",
       "af    9.879971e+06\n",
       "ar    0.000000e+00\n",
       "cn    3.374016e+07\n",
       "cs    0.000000e+00\n",
       "Name: revenue, dtype: float64"
      ]
     },
     "execution_count": 26,
     "metadata": {},
     "output_type": "execute_result"
    }
   ],
   "source": [
    "# groupby status\n",
    "df.groupby('language').revenue.mean()[:4]"
   ]
  },
  {
   "cell_type": "code",
   "execution_count": null,
   "id": "b556eedf",
   "metadata": {},
   "outputs": [],
   "source": []
  },
  {
   "cell_type": "markdown",
   "id": "a5e087a7",
   "metadata": {},
   "source": [
    "## Q 10."
   ]
  },
  {
   "cell_type": "code",
   "execution_count": 28,
   "id": "e2dd61ce",
   "metadata": {},
   "outputs": [
    {
     "data": {
      "text/plain": [
       "Unnamed: 0                int64\n",
       "budget                    int64\n",
       "id                        int64\n",
       "keywords                 object\n",
       "popularity              float64\n",
       "production_companies      int64\n",
       "revenue                   int64\n",
       "runtime                 float64\n",
       "spoken_languages         object\n",
       "status                    int64\n",
       "title                    object\n",
       "vote_average            float64\n",
       "vote_count                int64\n",
       "genres_list              object\n",
       "Countries                object\n",
       "release_year            float64\n",
       "language                 object\n",
       "dtype: object"
      ]
     },
     "execution_count": 28,
     "metadata": {},
     "output_type": "execute_result"
    }
   ],
   "source": [
    "df.dtypes"
   ]
  },
  {
   "cell_type": "code",
   "execution_count": 29,
   "id": "ff8d3ed8",
   "metadata": {},
   "outputs": [
    {
     "data": {
      "text/html": [
       "<div>\n",
       "<style scoped>\n",
       "    .dataframe tbody tr th:only-of-type {\n",
       "        vertical-align: middle;\n",
       "    }\n",
       "\n",
       "    .dataframe tbody tr th {\n",
       "        vertical-align: top;\n",
       "    }\n",
       "\n",
       "    .dataframe thead th {\n",
       "        text-align: right;\n",
       "    }\n",
       "</style>\n",
       "<table border=\"1\" class=\"dataframe\">\n",
       "  <thead>\n",
       "    <tr style=\"text-align: right;\">\n",
       "      <th></th>\n",
       "      <th>popularity</th>\n",
       "      <th>runtime</th>\n",
       "      <th>vote_average</th>\n",
       "      <th>release_year</th>\n",
       "    </tr>\n",
       "  </thead>\n",
       "  <tbody>\n",
       "    <tr>\n",
       "      <th>0</th>\n",
       "      <td>150.437577</td>\n",
       "      <td>162.0</td>\n",
       "      <td>7.2</td>\n",
       "      <td>2009.0</td>\n",
       "    </tr>\n",
       "    <tr>\n",
       "      <th>1</th>\n",
       "      <td>139.082615</td>\n",
       "      <td>169.0</td>\n",
       "      <td>6.9</td>\n",
       "      <td>2007.0</td>\n",
       "    </tr>\n",
       "    <tr>\n",
       "      <th>2</th>\n",
       "      <td>107.376788</td>\n",
       "      <td>148.0</td>\n",
       "      <td>6.3</td>\n",
       "      <td>2015.0</td>\n",
       "    </tr>\n",
       "    <tr>\n",
       "      <th>3</th>\n",
       "      <td>112.312950</td>\n",
       "      <td>165.0</td>\n",
       "      <td>7.6</td>\n",
       "      <td>2012.0</td>\n",
       "    </tr>\n",
       "    <tr>\n",
       "      <th>4</th>\n",
       "      <td>43.926995</td>\n",
       "      <td>132.0</td>\n",
       "      <td>6.1</td>\n",
       "      <td>2012.0</td>\n",
       "    </tr>\n",
       "    <tr>\n",
       "      <th>...</th>\n",
       "      <td>...</td>\n",
       "      <td>...</td>\n",
       "      <td>...</td>\n",
       "      <td>...</td>\n",
       "    </tr>\n",
       "    <tr>\n",
       "      <th>4798</th>\n",
       "      <td>14.269792</td>\n",
       "      <td>81.0</td>\n",
       "      <td>6.6</td>\n",
       "      <td>1992.0</td>\n",
       "    </tr>\n",
       "    <tr>\n",
       "      <th>4799</th>\n",
       "      <td>0.642552</td>\n",
       "      <td>85.0</td>\n",
       "      <td>5.9</td>\n",
       "      <td>2011.0</td>\n",
       "    </tr>\n",
       "    <tr>\n",
       "      <th>4800</th>\n",
       "      <td>1.444476</td>\n",
       "      <td>120.0</td>\n",
       "      <td>7.0</td>\n",
       "      <td>2013.0</td>\n",
       "    </tr>\n",
       "    <tr>\n",
       "      <th>4801</th>\n",
       "      <td>0.857008</td>\n",
       "      <td>98.0</td>\n",
       "      <td>5.7</td>\n",
       "      <td>2012.0</td>\n",
       "    </tr>\n",
       "    <tr>\n",
       "      <th>4802</th>\n",
       "      <td>1.929883</td>\n",
       "      <td>90.0</td>\n",
       "      <td>6.3</td>\n",
       "      <td>2005.0</td>\n",
       "    </tr>\n",
       "  </tbody>\n",
       "</table>\n",
       "<p>4803 rows × 4 columns</p>\n",
       "</div>"
      ],
      "text/plain": [
       "      popularity  runtime  vote_average  release_year\n",
       "0     150.437577    162.0           7.2        2009.0\n",
       "1     139.082615    169.0           6.9        2007.0\n",
       "2     107.376788    148.0           6.3        2015.0\n",
       "3     112.312950    165.0           7.6        2012.0\n",
       "4      43.926995    132.0           6.1        2012.0\n",
       "...          ...      ...           ...           ...\n",
       "4798   14.269792     81.0           6.6        1992.0\n",
       "4799    0.642552     85.0           5.9        2011.0\n",
       "4800    1.444476    120.0           7.0        2013.0\n",
       "4801    0.857008     98.0           5.7        2012.0\n",
       "4802    1.929883     90.0           6.3        2005.0\n",
       "\n",
       "[4803 rows x 4 columns]"
      ]
     },
     "execution_count": 29,
     "metadata": {},
     "output_type": "execute_result"
    }
   ],
   "source": [
    "df.select_dtypes('float64')"
   ]
  },
  {
   "cell_type": "code",
   "execution_count": null,
   "id": "f719554b",
   "metadata": {},
   "outputs": [],
   "source": []
  },
  {
   "cell_type": "markdown",
   "id": "8c0f7c5a",
   "metadata": {},
   "source": [
    "## Q 11"
   ]
  },
  {
   "cell_type": "code",
   "execution_count": null,
   "id": "511c22ab",
   "metadata": {},
   "outputs": [],
   "source": [
    "## filter method use (shift + tab to know more)"
   ]
  },
  {
   "cell_type": "code",
   "execution_count": 4,
   "id": "0a436a70",
   "metadata": {},
   "outputs": [
    {
     "data": {
      "text/plain": [
       "0.0"
      ]
     },
     "execution_count": 4,
     "metadata": {},
     "output_type": "execute_result"
    }
   ],
   "source": [
    "df.runtime.min()"
   ]
  },
  {
   "cell_type": "code",
   "execution_count": 5,
   "id": "fd256011",
   "metadata": {},
   "outputs": [
    {
     "data": {
      "text/plain": [
       "338.0"
      ]
     },
     "execution_count": 5,
     "metadata": {},
     "output_type": "execute_result"
    }
   ],
   "source": [
    "df.runtime.max()"
   ]
  },
  {
   "cell_type": "code",
   "execution_count": 30,
   "id": "9970f67b",
   "metadata": {},
   "outputs": [
    {
     "data": {
      "text/plain": [
       "Unnamed: 0                                                              0\n",
       "budget                                                                  0\n",
       "id                                                                      5\n",
       "keywords                                 ['adaptation', 'film in a film']\n",
       "popularity                                                            0.0\n",
       "production_companies                                                    0\n",
       "revenue                                                                 0\n",
       "runtime                                                               0.0\n",
       "spoken_languages                      ['Afrikaans', 'English', 'isiZulu']\n",
       "status                                                                  1\n",
       "title                                                             #Horror\n",
       "vote_average                                                          0.0\n",
       "vote_count                                                              0\n",
       "genres_list             ['Action', 'Adventure', 'Animation', 'Comedy',...\n",
       "Countries                             ['Afghanistan', 'Ireland', 'Japan']\n",
       "release_year                                                       1916.0\n",
       "language                                                               af\n",
       "dtype: object"
      ]
     },
     "execution_count": 30,
     "metadata": {},
     "output_type": "execute_result"
    }
   ],
   "source": [
    "df.min()"
   ]
  },
  {
   "cell_type": "code",
   "execution_count": 31,
   "id": "ec5e3b91",
   "metadata": {},
   "outputs": [
    {
     "data": {
      "text/plain": [
       "Unnamed: 0                    4802\n",
       "budget                   380000000\n",
       "id                          459488\n",
       "keywords                        []\n",
       "popularity              875.581305\n",
       "production_companies            13\n",
       "revenue                 2787965087\n",
       "runtime                      338.0\n",
       "spoken_languages                []\n",
       "status                           3\n",
       "title                          해운대\n",
       "vote_average                  10.0\n",
       "vote_count                   13752\n",
       "genres_list                     []\n",
       "Countries                       []\n",
       "release_year                2017.0\n",
       "language                        zh\n",
       "dtype: object"
      ]
     },
     "execution_count": 31,
     "metadata": {},
     "output_type": "execute_result"
    }
   ],
   "source": [
    "df.max()"
   ]
  },
  {
   "cell_type": "code",
   "execution_count": null,
   "id": "c85f1d2c",
   "metadata": {},
   "outputs": [],
   "source": []
  },
  {
   "cell_type": "markdown",
   "id": "02833e98",
   "metadata": {},
   "source": [
    "## Q 12"
   ]
  },
  {
   "cell_type": "code",
   "execution_count": 32,
   "id": "f7af44fe",
   "metadata": {},
   "outputs": [
    {
     "data": {
      "text/plain": [
       "96          Inception\n",
       "65    The Dark Knight\n",
       "0              Avatar\n",
       "Name: title, dtype: object"
      ]
     },
     "execution_count": 32,
     "metadata": {},
     "output_type": "execute_result"
    }
   ],
   "source": [
    "df.nlargest(3,'vote_count')['title']"
   ]
  },
  {
   "cell_type": "code",
   "execution_count": null,
   "id": "04ce3910",
   "metadata": {},
   "outputs": [],
   "source": []
  },
  {
   "cell_type": "markdown",
   "id": "2ed5292b",
   "metadata": {},
   "source": [
    "## Q 13"
   ]
  },
  {
   "cell_type": "code",
   "execution_count": 33,
   "id": "2059c9a3",
   "metadata": {},
   "outputs": [
    {
     "data": {
      "text/html": [
       "<div>\n",
       "<style scoped>\n",
       "    .dataframe tbody tr th:only-of-type {\n",
       "        vertical-align: middle;\n",
       "    }\n",
       "\n",
       "    .dataframe tbody tr th {\n",
       "        vertical-align: top;\n",
       "    }\n",
       "\n",
       "    .dataframe thead tr th {\n",
       "        text-align: left;\n",
       "    }\n",
       "\n",
       "    .dataframe thead tr:last-of-type th {\n",
       "        text-align: right;\n",
       "    }\n",
       "</style>\n",
       "<table border=\"1\" class=\"dataframe\">\n",
       "  <thead>\n",
       "    <tr>\n",
       "      <th></th>\n",
       "      <th>budget</th>\n",
       "      <th>revenue</th>\n",
       "      <th>vote_count</th>\n",
       "    </tr>\n",
       "    <tr>\n",
       "      <th></th>\n",
       "      <th>mean</th>\n",
       "      <th>mean</th>\n",
       "      <th>mean</th>\n",
       "    </tr>\n",
       "    <tr>\n",
       "      <th>status</th>\n",
       "      <th></th>\n",
       "      <th></th>\n",
       "      <th></th>\n",
       "    </tr>\n",
       "  </thead>\n",
       "  <tbody>\n",
       "    <tr>\n",
       "      <th>1</th>\n",
       "      <td>2.909267e+07</td>\n",
       "      <td>8.239771e+07</td>\n",
       "      <td>691.360792</td>\n",
       "    </tr>\n",
       "    <tr>\n",
       "      <th>2</th>\n",
       "      <td>1.120000e+04</td>\n",
       "      <td>0.000000e+00</td>\n",
       "      <td>1.000000</td>\n",
       "    </tr>\n",
       "    <tr>\n",
       "      <th>3</th>\n",
       "      <td>1.300000e+06</td>\n",
       "      <td>2.805777e+05</td>\n",
       "      <td>12.333333</td>\n",
       "    </tr>\n",
       "  </tbody>\n",
       "</table>\n",
       "</div>"
      ],
      "text/plain": [
       "              budget       revenue  vote_count\n",
       "                mean          mean        mean\n",
       "status                                        \n",
       "1       2.909267e+07  8.239771e+07  691.360792\n",
       "2       1.120000e+04  0.000000e+00    1.000000\n",
       "3       1.300000e+06  2.805777e+05   12.333333"
      ]
     },
     "execution_count": 33,
     "metadata": {},
     "output_type": "execute_result"
    }
   ],
   "source": [
    "# for each type of status find mean of vote count and budget and revenue\n",
    "df.groupby('status').agg(['mean'])[['budget','revenue','vote_count']]"
   ]
  },
  {
   "cell_type": "code",
   "execution_count": null,
   "id": "0cdff332",
   "metadata": {},
   "outputs": [],
   "source": []
  }
 ],
 "metadata": {
  "kernelspec": {
   "display_name": "Python 3",
   "language": "python",
   "name": "python3"
  },
  "language_info": {
   "codemirror_mode": {
    "name": "ipython",
    "version": 3
   },
   "file_extension": ".py",
   "mimetype": "text/x-python",
   "name": "python",
   "nbconvert_exporter": "python",
   "pygments_lexer": "ipython3",
   "version": "3.8.8"
  }
 },
 "nbformat": 4,
 "nbformat_minor": 5
}
