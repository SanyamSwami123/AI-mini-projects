{
 "cells": [
  {
   "cell_type": "markdown",
   "id": "a2a28688",
   "metadata": {},
   "source": [
    "Import necessary packages.\n",
    "Read tmdb-datset and get last 2 rows. "
   ]
  },
  {
   "cell_type": "code",
   "execution_count": null,
   "id": "dad04d26",
   "metadata": {},
   "outputs": [],
   "source": []
  },
  {
   "cell_type": "markdown",
   "id": "a2e7bb49",
   "metadata": {},
   "source": [
    "Use `describe` and `info` method on the dataset."
   ]
  },
  {
   "cell_type": "code",
   "execution_count": null,
   "id": "e0a2496e",
   "metadata": {},
   "outputs": [],
   "source": []
  },
  {
   "cell_type": "markdown",
   "id": "fe3edac1",
   "metadata": {},
   "source": [
    "Check the attributes `index`, `columns` and `values` of the dataset. Undestand the difference between method and attributes."
   ]
  },
  {
   "cell_type": "code",
   "execution_count": null,
   "id": "c336e33e",
   "metadata": {},
   "outputs": [],
   "source": []
  },
  {
   "cell_type": "code",
   "execution_count": null,
   "id": "f41adaf4",
   "metadata": {},
   "outputs": [],
   "source": []
  },
  {
   "cell_type": "code",
   "execution_count": null,
   "id": "e5f7a0e1",
   "metadata": {},
   "outputs": [],
   "source": []
  },
  {
   "cell_type": "markdown",
   "id": "9e833563",
   "metadata": {},
   "source": [
    "Check the datatypes of above attributes using `type` function. \n",
    "\n",
    "For ex. \n",
    "- type(tmdb_dataset.index)\n",
    "- type(tmdb_dataset.index.values)"
   ]
  },
  {
   "cell_type": "code",
   "execution_count": null,
   "id": "ad7d02c9",
   "metadata": {},
   "outputs": [],
   "source": []
  },
  {
   "cell_type": "markdown",
   "id": "735f8e8b",
   "metadata": {},
   "source": [
    "Check the datatypes of all columns in dataset.\n",
    "\n",
    "What is the difference between `dtypes` and `dtype` ? Is `dtypes` method or attribute ?\n",
    "\n",
    "What is 64 in `int64` or 32 in `int32` ?"
   ]
  },
  {
   "cell_type": "code",
   "execution_count": null,
   "id": "f9fb0be6",
   "metadata": {},
   "outputs": [],
   "source": []
  },
  {
   "cell_type": "markdown",
   "id": "d69611cf",
   "metadata": {},
   "source": [
    "Use `count` method for the dataset.\n",
    "\n",
    "When do we use `count` method ?"
   ]
  },
  {
   "cell_type": "code",
   "execution_count": null,
   "id": "983b1630",
   "metadata": {},
   "outputs": [],
   "source": []
  },
  {
   "cell_type": "code",
   "execution_count": null,
   "id": "a29270d5",
   "metadata": {},
   "outputs": [],
   "source": [
    "# tmdb_dataset.count().sum() # uncomment this."
   ]
  },
  {
   "cell_type": "code",
   "execution_count": null,
   "id": "f05e3fd1",
   "metadata": {},
   "outputs": [],
   "source": []
  },
  {
   "cell_type": "markdown",
   "id": "6e70b8fe",
   "metadata": {},
   "source": [
    "Run following codes and understand the output."
   ]
  },
  {
   "cell_type": "code",
   "execution_count": null,
   "id": "6b7f5091",
   "metadata": {},
   "outputs": [],
   "source": [
    "tmdb_dataset.isnull()"
   ]
  },
  {
   "cell_type": "code",
   "execution_count": null,
   "id": "093d1634",
   "metadata": {},
   "outputs": [],
   "source": [
    "tmdb_dataset.isnull().sum()"
   ]
  },
  {
   "cell_type": "code",
   "execution_count": null,
   "id": "bd58615f",
   "metadata": {},
   "outputs": [],
   "source": [
    "tmdb_dataset.isnull().sum().sum()"
   ]
  },
  {
   "cell_type": "code",
   "execution_count": null,
   "id": "5d537e96",
   "metadata": {},
   "outputs": [],
   "source": []
  },
  {
   "cell_type": "code",
   "execution_count": null,
   "id": "a1f5f9ce",
   "metadata": {},
   "outputs": [],
   "source": []
  },
  {
   "cell_type": "markdown",
   "id": "b5aa1b93",
   "metadata": {},
   "source": [
    "Verify `total_total_values` = `total_non_null_values` + `total_null_values`"
   ]
  },
  {
   "cell_type": "code",
   "execution_count": null,
   "id": "24fae767",
   "metadata": {},
   "outputs": [],
   "source": []
  },
  {
   "cell_type": "markdown",
   "id": "0c95a1b5",
   "metadata": {},
   "source": [
    "In how many diffrent languages movies were made ?\n",
    "\n",
    "Which are those languages ?\n",
    "\n",
    "How many movies were made in each language ?\n",
    "\n",
    "Use `unique`, `nunique` and `value_counts` methods for `original_language` coulmn in the dataset."
   ]
  },
  {
   "cell_type": "code",
   "execution_count": null,
   "id": "3fd19de4",
   "metadata": {},
   "outputs": [],
   "source": []
  },
  {
   "cell_type": "markdown",
   "id": "eefad175",
   "metadata": {},
   "source": [
    "Check first entry in `genres` column.\n",
    "\n",
    "Replace `genres` column entries with the list of all genres for each movie. (Use regex)\n",
    "\n",
    "For ex. for first entry - ['Action', 'Adventure', 'Fantasy', 'Science Fiction']\n",
    "\n",
    "First try this with first entry and then use `for` loop to do the same for rest of the entries in that column."
   ]
  },
  {
   "cell_type": "code",
   "execution_count": null,
   "id": "9acbd00c",
   "metadata": {},
   "outputs": [],
   "source": []
  },
  {
   "cell_type": "markdown",
   "id": "d34c6bef",
   "metadata": {},
   "source": [
    "Check first entry from `spoken_languages` column and do same thing as you did for above column.\n",
    "\n",
    "So `spoken_languages` column should have entries in the form of list of languages."
   ]
  },
  {
   "cell_type": "code",
   "execution_count": null,
   "id": "8bac9e89",
   "metadata": {},
   "outputs": [],
   "source": []
  },
  {
   "cell_type": "markdown",
   "id": "353b0c41",
   "metadata": {},
   "source": [
    "Replace the entries of columns `production_countries` and `production_companies` with number of countries and companies respectively.\n",
    "Use regex as you did above but this time instead of a list get the length of that list."
   ]
  },
  {
   "cell_type": "code",
   "execution_count": null,
   "id": "6622eaab",
   "metadata": {},
   "outputs": [],
   "source": []
  },
  {
   "cell_type": "code",
   "execution_count": null,
   "id": "763c7848",
   "metadata": {},
   "outputs": [],
   "source": []
  },
  {
   "cell_type": "code",
   "execution_count": null,
   "id": "6f7303e6",
   "metadata": {},
   "outputs": [],
   "source": []
  },
  {
   "cell_type": "markdown",
   "id": "241d765d",
   "metadata": {},
   "source": [
    "Remove `homepage`, `keywords`, `tagline`, `overview` columns and check the dataset if these columns are removed successfully."
   ]
  },
  {
   "cell_type": "code",
   "execution_count": null,
   "id": "6c1a39de",
   "metadata": {},
   "outputs": [],
   "source": []
  },
  {
   "cell_type": "markdown",
   "id": "e84f3aff",
   "metadata": {},
   "source": [
    "Check the 50th entry from `release_date` column and grab only year out of that date.\n",
    "\n",
    "Dothe same fro allthe entries in the column using `apply` method ."
   ]
  },
  {
   "cell_type": "code",
   "execution_count": null,
   "id": "2f9479ae",
   "metadata": {},
   "outputs": [],
   "source": []
  },
  {
   "cell_type": "markdown",
   "id": "c77374ab",
   "metadata": {},
   "source": [
    "Change the names of columns `original_language` and `original_title` to `language` and `title` respectively."
   ]
  },
  {
   "cell_type": "code",
   "execution_count": null,
   "id": "0dc6f91a",
   "metadata": {},
   "outputs": [],
   "source": []
  },
  {
   "cell_type": "markdown",
   "id": "792f6e1d",
   "metadata": {},
   "source": [
    "Use `value_counts` method for `status`column and replace those values with integers starting from 1."
   ]
  },
  {
   "cell_type": "code",
   "execution_count": null,
   "id": "43fad561",
   "metadata": {},
   "outputs": [],
   "source": []
  },
  {
   "cell_type": "markdown",
   "id": "4e5382a7",
   "metadata": {},
   "source": [
    "Check how many null values are there in each column and get all columns that have more than zero null values."
   ]
  },
  {
   "cell_type": "code",
   "execution_count": null,
   "id": "c0d5ff09",
   "metadata": {},
   "outputs": [],
   "source": []
  },
  {
   "cell_type": "markdown",
   "id": "057add01",
   "metadata": {},
   "source": [
    "Fill all null values in `runtime` column with the average of all the values. "
   ]
  },
  {
   "cell_type": "code",
   "execution_count": null,
   "id": "4166d6ea",
   "metadata": {},
   "outputs": [],
   "source": []
  },
  {
   "cell_type": "markdown",
   "id": "d4e7c8af",
   "metadata": {},
   "source": [
    "Verify whether `runtime` column still has any null values."
   ]
  },
  {
   "cell_type": "code",
   "execution_count": null,
   "id": "baf6f372",
   "metadata": {},
   "outputs": [],
   "source": []
  },
  {
   "cell_type": "markdown",
   "id": "6b4c4b1f",
   "metadata": {},
   "source": [
    "Fill all null values in `release_date` column with the most frequent value appearing in that column and verify it. "
   ]
  },
  {
   "cell_type": "code",
   "execution_count": null,
   "id": "bf590479",
   "metadata": {},
   "outputs": [],
   "source": []
  },
  {
   "cell_type": "markdown",
   "id": "f8493ac3",
   "metadata": {},
   "source": [
    "Save this processed dataset in the form of `csv` file."
   ]
  },
  {
   "cell_type": "code",
   "execution_count": null,
   "id": "59d31804",
   "metadata": {},
   "outputs": [],
   "source": []
  },
  {
   "cell_type": "code",
   "execution_count": null,
   "id": "5ae3a704",
   "metadata": {},
   "outputs": [],
   "source": []
  },
  {
   "cell_type": "markdown",
   "id": "bd8a84a3",
   "metadata": {},
   "source": [
    "## EDA  (Making sense of data)"
   ]
  },
  {
   "cell_type": "code",
   "execution_count": null,
   "id": "5fa17140",
   "metadata": {},
   "outputs": [],
   "source": [
    "import seaborn as sns\n",
    "\n",
    "import matplotlib.pyplot as plt\n",
    "\n",
    "%matplotlib inline"
   ]
  },
  {
   "cell_type": "code",
   "execution_count": null,
   "id": "25ef75d0",
   "metadata": {},
   "outputs": [],
   "source": []
  },
  {
   "cell_type": "markdown",
   "id": "ea939a96",
   "metadata": {},
   "source": [
    "## 1."
   ]
  },
  {
   "cell_type": "markdown",
   "id": "1406ff51",
   "metadata": {},
   "source": [
    "Find correlation between `revenue`,`runtime`,`popularity`,`budget`,`vote_count` columns using heatmap.\n",
    "\n",
    "Find out which three pairs have more correlation."
   ]
  },
  {
   "cell_type": "code",
   "execution_count": null,
   "id": "f63ccb32",
   "metadata": {},
   "outputs": [],
   "source": []
  },
  {
   "cell_type": "markdown",
   "id": "0e71a423",
   "metadata": {},
   "source": [
    "## 2."
   ]
  },
  {
   "cell_type": "markdown",
   "id": "109223c4",
   "metadata": {},
   "source": [
    "Draw `sctterplot` between `budget` and `revenue` columns. What is your conclusion from the graph ?"
   ]
  },
  {
   "cell_type": "code",
   "execution_count": null,
   "id": "03c3ed89",
   "metadata": {},
   "outputs": [],
   "source": []
  },
  {
   "cell_type": "markdown",
   "id": "32f8ba1b",
   "metadata": {},
   "source": [
    "## 3."
   ]
  },
  {
   "cell_type": "markdown",
   "id": "d993cf28",
   "metadata": {},
   "source": [
    "Draw `countplot` for `status` column using seaborn."
   ]
  },
  {
   "cell_type": "code",
   "execution_count": null,
   "id": "64d0f09d",
   "metadata": {},
   "outputs": [],
   "source": []
  },
  {
   "cell_type": "markdown",
   "id": "a8af66ee",
   "metadata": {},
   "source": [
    "## 4."
   ]
  },
  {
   "cell_type": "markdown",
   "id": "1e738bc2",
   "metadata": {},
   "source": [
    "Draw `sctterplot` between `popularity` and `revenue` columns. What is your conclusion from the graph ?"
   ]
  },
  {
   "cell_type": "code",
   "execution_count": null,
   "id": "da222ca3",
   "metadata": {},
   "outputs": [],
   "source": []
  },
  {
   "cell_type": "markdown",
   "id": "78b56868",
   "metadata": {},
   "source": [
    "## 5."
   ]
  },
  {
   "cell_type": "markdown",
   "id": "3132996c",
   "metadata": {},
   "source": [
    "Uncomment the code cell below. Draw some conclusion from the graph given below."
   ]
  },
  {
   "cell_type": "code",
   "execution_count": null,
   "id": "7ef1e824",
   "metadata": {},
   "outputs": [],
   "source": [
    "# plt.plot(tmdb_dataset.vote_average, tmdb_dataset.popularity)"
   ]
  },
  {
   "cell_type": "code",
   "execution_count": null,
   "id": "d5d721c7",
   "metadata": {},
   "outputs": [],
   "source": []
  }
 ],
 "metadata": {
  "kernelspec": {
   "display_name": "Python 3",
   "language": "python",
   "name": "python3"
  },
  "language_info": {
   "codemirror_mode": {
    "name": "ipython",
    "version": 3
   },
   "file_extension": ".py",
   "mimetype": "text/x-python",
   "name": "python",
   "nbconvert_exporter": "python",
   "pygments_lexer": "ipython3",
   "version": "3.8.8"
  }
 },
 "nbformat": 4,
 "nbformat_minor": 5
}
