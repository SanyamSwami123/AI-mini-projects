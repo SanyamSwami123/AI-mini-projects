{
 "cells": [
  {
   "cell_type": "markdown",
   "id": "fe5595d8",
   "metadata": {},
   "source": [
    "## First dataset"
   ]
  },
  {
   "cell_type": "markdown",
   "id": "82e4251c",
   "metadata": {},
   "source": [
    "Read `userprofile` dataset and check its shape."
   ]
  },
  {
   "cell_type": "code",
   "execution_count": null,
   "id": "0dbb15b2",
   "metadata": {},
   "outputs": [],
   "source": []
  },
  {
   "cell_type": "markdown",
   "id": "40ff4d15",
   "metadata": {},
   "source": [
    "## Second dataset"
   ]
  },
  {
   "cell_type": "markdown",
   "id": "daf8037f",
   "metadata": {},
   "source": [
    "Read `userpayment` dataset and check its shape."
   ]
  },
  {
   "cell_type": "code",
   "execution_count": null,
   "id": "b249f89b",
   "metadata": {},
   "outputs": [],
   "source": []
  },
  {
   "cell_type": "markdown",
   "id": "7d73fb66",
   "metadata": {},
   "source": [
    "You can see some discrepancy here - there are 138 users but 177 rows in this dataset.\n",
    "\n",
    "As there are multiple ways emplyed by single user for the payment. \n",
    "\n",
    "Which `aggregate` method could be used to group a dataframe by `userID` ?"
   ]
  },
  {
   "cell_type": "code",
   "execution_count": null,
   "id": "19c84ff7",
   "metadata": {},
   "outputs": [],
   "source": []
  },
  {
   "cell_type": "markdown",
   "id": "5c0b6d01",
   "metadata": {},
   "source": [
    "After `groupby` method, do not forget to reset the index since all these datasets are to be joined to create single dataframe at the end."
   ]
  },
  {
   "cell_type": "code",
   "execution_count": null,
   "id": "99ecc624",
   "metadata": {},
   "outputs": [],
   "source": []
  },
  {
   "cell_type": "code",
   "execution_count": null,
   "id": "c07c538f",
   "metadata": {},
   "outputs": [],
   "source": []
  },
  {
   "cell_type": "markdown",
   "id": "ddba8570",
   "metadata": {},
   "source": [
    "## Third dataset"
   ]
  },
  {
   "cell_type": "markdown",
   "id": "70670d51",
   "metadata": {},
   "source": [
    "Read `usercuisine` dataset and check it's shape."
   ]
  },
  {
   "cell_type": "code",
   "execution_count": null,
   "id": "549c9517",
   "metadata": {},
   "outputs": [],
   "source": []
  },
  {
   "cell_type": "markdown",
   "id": "673a81ca",
   "metadata": {},
   "source": [
    "As you have done above, use same `aggregate` method and `reset index`."
   ]
  },
  {
   "cell_type": "code",
   "execution_count": null,
   "id": "058f251e",
   "metadata": {},
   "outputs": [],
   "source": []
  },
  {
   "cell_type": "code",
   "execution_count": null,
   "id": "1460b93c",
   "metadata": {},
   "outputs": [],
   "source": []
  },
  {
   "cell_type": "markdown",
   "id": "b9c16e4e",
   "metadata": {},
   "source": [
    "## Join all three datasets."
   ]
  },
  {
   "cell_type": "code",
   "execution_count": null,
   "id": "17f63801",
   "metadata": {},
   "outputs": [],
   "source": []
  },
  {
   "cell_type": "code",
   "execution_count": null,
   "id": "7db4b8f4",
   "metadata": {},
   "outputs": [],
   "source": []
  },
  {
   "cell_type": "markdown",
   "id": "32b2e655",
   "metadata": {},
   "source": [
    "Change `userid` column removing 'U' from every entry using `apply` method and make it an index column of dataframe."
   ]
  },
  {
   "cell_type": "code",
   "execution_count": null,
   "id": "25c94467",
   "metadata": {},
   "outputs": [],
   "source": []
  },
  {
   "cell_type": "code",
   "execution_count": null,
   "id": "7cdb5c56",
   "metadata": {},
   "outputs": [],
   "source": []
  },
  {
   "cell_type": "markdown",
   "id": "def5b0fb",
   "metadata": {},
   "source": [
    "Check for null values if there are any then fill it with most occurring value in that column.( `Fillna()` method. )"
   ]
  },
  {
   "cell_type": "code",
   "execution_count": null,
   "id": "0da962f8",
   "metadata": {},
   "outputs": [],
   "source": []
  },
  {
   "cell_type": "markdown",
   "id": "3a621073",
   "metadata": {},
   "source": [
    "Check datatypes of all columns."
   ]
  },
  {
   "cell_type": "code",
   "execution_count": null,
   "id": "ba587c14",
   "metadata": {},
   "outputs": [],
   "source": []
  },
  {
   "cell_type": "markdown",
   "id": "0a2d18e9",
   "metadata": {},
   "source": [
    "Select columns with 'object' datatypes."
   ]
  },
  {
   "cell_type": "code",
   "execution_count": null,
   "id": "50a4c7f5",
   "metadata": {},
   "outputs": [],
   "source": []
  },
  {
   "cell_type": "markdown",
   "id": "12041fb1",
   "metadata": {},
   "source": [
    "Make a list of all such columns and store it in a variable `column_list` ."
   ]
  },
  {
   "cell_type": "code",
   "execution_count": null,
   "id": "11f73587",
   "metadata": {},
   "outputs": [],
   "source": []
  },
  {
   "cell_type": "markdown",
   "id": "e7ec030c",
   "metadata": {},
   "source": [
    "You can see, all these are categorical columns. You can check that using `value_counts()` method for all columns."
   ]
  },
  {
   "cell_type": "code",
   "execution_count": null,
   "id": "826603ee",
   "metadata": {},
   "outputs": [],
   "source": []
  },
  {
   "cell_type": "code",
   "execution_count": null,
   "id": "3b991c14",
   "metadata": {},
   "outputs": [],
   "source": [
    "column_list[0]"
   ]
  },
  {
   "cell_type": "code",
   "execution_count": null,
   "id": "acc2c3a5",
   "metadata": {},
   "outputs": [],
   "source": [
    "column_list[0].value_counts()"
   ]
  },
  {
   "cell_type": "code",
   "execution_count": null,
   "id": "b29a171a",
   "metadata": {},
   "outputs": [],
   "source": [
    "df[column_list[0]].unique()"
   ]
  },
  {
   "cell_type": "code",
   "execution_count": null,
   "id": "e4296c8e",
   "metadata": {},
   "outputs": [],
   "source": []
  },
  {
   "cell_type": "markdown",
   "id": "2f109f46",
   "metadata": {},
   "source": [
    "Try replacing all the unique values from `smoker` column with integers ranging from zero."
   ]
  },
  {
   "cell_type": "code",
   "execution_count": null,
   "id": "ea9a30a9",
   "metadata": {},
   "outputs": [],
   "source": []
  },
  {
   "cell_type": "markdown",
   "id": "aa960fa0",
   "metadata": {},
   "source": [
    "Do this for all the columns in `column_list` using `for` loop."
   ]
  },
  {
   "cell_type": "code",
   "execution_count": null,
   "id": "2b86d234",
   "metadata": {},
   "outputs": [],
   "source": []
  },
  {
   "cell_type": "markdown",
   "id": "6fb6cd37",
   "metadata": {},
   "source": [
    "Now check the new-formed dataframe It should contain only numbers as values."
   ]
  },
  {
   "cell_type": "code",
   "execution_count": null,
   "id": "e696336f",
   "metadata": {},
   "outputs": [],
   "source": []
  },
  {
   "cell_type": "markdown",
   "id": "dc120283",
   "metadata": {},
   "source": [
    "Save this dataframe as `csv` file."
   ]
  },
  {
   "cell_type": "code",
   "execution_count": null,
   "id": "23bf6ea9",
   "metadata": {},
   "outputs": [],
   "source": []
  }
 ],
 "metadata": {
  "kernelspec": {
   "display_name": "Python 3",
   "language": "python",
   "name": "python3"
  },
  "language_info": {
   "codemirror_mode": {
    "name": "ipython",
    "version": 3
   },
   "file_extension": ".py",
   "mimetype": "text/x-python",
   "name": "python",
   "nbconvert_exporter": "python",
   "pygments_lexer": "ipython3",
   "version": "3.8.8"
  }
 },
 "nbformat": 4,
 "nbformat_minor": 5
}
