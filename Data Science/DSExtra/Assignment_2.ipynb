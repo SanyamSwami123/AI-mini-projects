{
  "cells": [
    {
      "cell_type": "markdown",
      "metadata": {
        "id": "view-in-github",
        "colab_type": "text"
      },
      "source": [
        "<a href=\"https://colab.research.google.com/github/SanyamSwami123/AI-mini-projects/blob/main/Data%20Science/DSExtra/Assignment_2.ipynb\" target=\"_parent\"><img src=\"https://colab.research.google.com/assets/colab-badge.svg\" alt=\"Open In Colab\"/></a>"
      ]
    },
    {
      "cell_type": "markdown",
      "metadata": {
        "id": "QnuZaDq2KkJG"
      },
      "source": [
        "# Assignment - More Pandas\n",
        "This assignment requires more individual learning then the last one did - you are encouraged to check out the [pandas documentation](http://pandas.pydata.org/pandas-docs/stable/) to find functions or methods you might not have used yet, or ask questions on [Stack Overflow](http://stackoverflow.com/) and tag them as pandas and python related."
      ]
    },
    {
      "cell_type": "markdown",
      "metadata": {
        "id": "MK5EZXQvKkJf"
      },
      "source": [
        "### Question 1\n",
        "Load the energy data from the file `Energy Indicators.xls`, which is a list of indicators of [energy supply and renewable electricity production](Energy%20Indicators.xls) from the [United Nations](http://unstats.un.org/unsd/environment/excel_file_tables/2013/Energy%20Indicators.xls) for the year 2013, and should be put into a DataFrame with the variable name of **energy**.\n",
        "\n",
        "Keep in mind that this is an Excel file, and not a comma separated values file. Also, make sure to exclude the footer and header information from the datafile. The first two columns are unneccessary, so you should get rid of them, and you should change the column labels so that the columns are:\n",
        "\n",
        "`['Country', 'Energy Supply', 'Energy Supply per Capita', '% Renewable']`\n",
        "\n",
        "Convert `Energy Supply` to gigajoules (there are 1,000,000 gigajoules in a petajoule). For all countries which have missing data (e.g. data with \"...\") make sure this is reflected as `np.NaN` values.\n",
        "\n",
        "Rename the following list of countries (for use in later questions):\n",
        "\n",
        "```\"Republic of Korea\": \"South Korea\",\n",
        "\"United States of America\": \"United States\",\n",
        "\"United Kingdom of Great Britain and Northern Ireland\": \"United Kingdom\",\n",
        "\"China, Hong Kong Special Administrative Region\": \"Hong Kong\"```\n",
        "\n",
        "There are also several countries with numbers and/or parenthesis in their name. Be sure to remove these, \n",
        "\n",
        "e.g. \n",
        "\n",
        "`'Bolivia (Plurinational State of)'` should be `'Bolivia'`, \n",
        "\n",
        "`'Switzerland17'` should be `'Switzerland'`.\n",
        "\n",
        "<br>\n",
        "\n",
        "Next, load the GDP data from the file `world_bank.csv`, which is a csv containing countries' GDP from 1960 to 2015 from [World Bank](http://data.worldbank.org/indicator/NY.GDP.MKTP.CD). Call this DataFrame **GDP**. \n",
        "\n",
        "Make sure to skip the header, and rename the following list of countries:\n",
        "\n",
        "```\"Korea, Rep.\": \"South Korea\", \n",
        "\"Iran, Islamic Rep.\": \"Iran\",\n",
        "\"Hong Kong SAR, China\": \"Hong Kong\"```\n",
        "\n",
        "<br>\n",
        "\n",
        "Finally, load the [Sciamgo Journal and Country Rank data for Energy Engineering and Power Technology](http://www.scimagojr.com/countryrank.php?category=2102) from the file `scimagojr-3.xlsx`, which ranks countries based on their journal contributions in the aforementioned area. Call this DataFrame **ScimEn**.\n",
        "\n",
        "Join the three datasets: GDP, Energy, and ScimEn into a new dataset (using the intersection of country names). Use only the last 10 years (2006-2015) of GDP data and only the top 15 countries by Scimagojr 'Rank' (Rank 1 through 15). \n",
        "\n",
        "The index of this DataFrame should be the name of the country, and the columns should be ['Rank', 'Documents', 'Citable documents', 'Citations', 'Self-citations',\n",
        "       'Citations per document', 'H index', 'Energy Supply',\n",
        "       'Energy Supply per Capita', '% Renewable', '2006', '2007', '2008',\n",
        "       '2009', '2010', '2011', '2012', '2013', '2014', '2015'].\n",
        "\n",
        "*This function should return a DataFrame with 20 columns and 15 entries.*"
      ]
    },
    {
      "cell_type": "code",
      "source": [
        "from google.colab import drive\n",
        "drive.mount('/content/drive')"
      ],
      "metadata": {
        "colab": {
          "base_uri": "https://localhost:8080/"
        },
        "id": "5y0J6t6KMuDC",
        "outputId": "114914e4-8ba1-4012-8a5b-42b73617fdc8"
      },
      "execution_count": 65,
      "outputs": [
        {
          "output_type": "stream",
          "name": "stdout",
          "text": [
            "Drive already mounted at /content/drive; to attempt to forcibly remount, call drive.mount(\"/content/drive\", force_remount=True).\n"
          ]
        }
      ]
    },
    {
      "cell_type": "code",
      "source": [
        "# # pip install xlrd>=1.2.0\n",
        "# !pip install --upgrade pandas\n",
        "# !pip install --upgrade openpyxl"
      ],
      "metadata": {
        "id": "ucq-EepcOZ8U"
      },
      "execution_count": 66,
      "outputs": []
    },
    {
      "cell_type": "code",
      "source": [
        "!pip uninstall xlrd"
      ],
      "metadata": {
        "id": "Bb0OVqxY0s93"
      },
      "execution_count": null,
      "outputs": []
    },
    {
      "cell_type": "code",
      "source": [
        "!pip install xlrd"
      ],
      "metadata": {
        "id": "RvoBhTck00I7",
        "colab": {
          "base_uri": "https://localhost:8080/"
        },
        "outputId": "0234d0e1-5866-4d32-be07-38da67dc0cb2"
      },
      "execution_count": 109,
      "outputs": [
        {
          "output_type": "stream",
          "name": "stdout",
          "text": [
            "Requirement already satisfied: xlrd in /usr/local/lib/python3.7/dist-packages (2.0.1)\n"
          ]
        }
      ]
    },
    {
      "cell_type": "code",
      "source": [
        "# energy.shape\n",
        "265-245\n"
      ],
      "metadata": {
        "colab": {
          "base_uri": "https://localhost:8080/"
        },
        "id": "BewVD5D5RNtU",
        "outputId": "04d997d5-303b-4b2e-9089-f130b082aef5"
      },
      "execution_count": 69,
      "outputs": [
        {
          "output_type": "execute_result",
          "data": {
            "text/plain": [
              "20"
            ]
          },
          "metadata": {},
          "execution_count": 69
        }
      ]
    },
    {
      "cell_type": "code",
      "source": [
        "import pandas as pd\n",
        "energy = pd.read_excel('/content/drive/MyDrive/Colab Notebooks/Energy Indicators.xls', skiprows=17)[:227]\n",
        "energy.head(2)"
      ],
      "metadata": {
        "colab": {
          "base_uri": "https://localhost:8080/",
          "height": 112
        },
        "id": "_9ZyKNv-M2_N",
        "outputId": "92dc2068-d278-4e22-f3ee-441ce3b9b23d"
      },
      "execution_count": 70,
      "outputs": [
        {
          "output_type": "execute_result",
          "data": {
            "text/plain": [
              "   Unnamed: 0   Unnamed: 1   Unnamed: 2 Petajoules Gigajoules          %\n",
              "0         NaN  Afghanistan  Afghanistan        321         10   78.66928\n",
              "1         NaN      Albania      Albania        102         35  100.00000"
            ],
            "text/html": [
              "\n",
              "  <div id=\"df-6e75aa06-a1a2-4c8c-baa1-f13b3e6eda37\">\n",
              "    <div class=\"colab-df-container\">\n",
              "      <div>\n",
              "<style scoped>\n",
              "    .dataframe tbody tr th:only-of-type {\n",
              "        vertical-align: middle;\n",
              "    }\n",
              "\n",
              "    .dataframe tbody tr th {\n",
              "        vertical-align: top;\n",
              "    }\n",
              "\n",
              "    .dataframe thead th {\n",
              "        text-align: right;\n",
              "    }\n",
              "</style>\n",
              "<table border=\"1\" class=\"dataframe\">\n",
              "  <thead>\n",
              "    <tr style=\"text-align: right;\">\n",
              "      <th></th>\n",
              "      <th>Unnamed: 0</th>\n",
              "      <th>Unnamed: 1</th>\n",
              "      <th>Unnamed: 2</th>\n",
              "      <th>Petajoules</th>\n",
              "      <th>Gigajoules</th>\n",
              "      <th>%</th>\n",
              "    </tr>\n",
              "  </thead>\n",
              "  <tbody>\n",
              "    <tr>\n",
              "      <th>0</th>\n",
              "      <td>NaN</td>\n",
              "      <td>Afghanistan</td>\n",
              "      <td>Afghanistan</td>\n",
              "      <td>321</td>\n",
              "      <td>10</td>\n",
              "      <td>78.66928</td>\n",
              "    </tr>\n",
              "    <tr>\n",
              "      <th>1</th>\n",
              "      <td>NaN</td>\n",
              "      <td>Albania</td>\n",
              "      <td>Albania</td>\n",
              "      <td>102</td>\n",
              "      <td>35</td>\n",
              "      <td>100.00000</td>\n",
              "    </tr>\n",
              "  </tbody>\n",
              "</table>\n",
              "</div>\n",
              "      <button class=\"colab-df-convert\" onclick=\"convertToInteractive('df-6e75aa06-a1a2-4c8c-baa1-f13b3e6eda37')\"\n",
              "              title=\"Convert this dataframe to an interactive table.\"\n",
              "              style=\"display:none;\">\n",
              "        \n",
              "  <svg xmlns=\"http://www.w3.org/2000/svg\" height=\"24px\"viewBox=\"0 0 24 24\"\n",
              "       width=\"24px\">\n",
              "    <path d=\"M0 0h24v24H0V0z\" fill=\"none\"/>\n",
              "    <path d=\"M18.56 5.44l.94 2.06.94-2.06 2.06-.94-2.06-.94-.94-2.06-.94 2.06-2.06.94zm-11 1L8.5 8.5l.94-2.06 2.06-.94-2.06-.94L8.5 2.5l-.94 2.06-2.06.94zm10 10l.94 2.06.94-2.06 2.06-.94-2.06-.94-.94-2.06-.94 2.06-2.06.94z\"/><path d=\"M17.41 7.96l-1.37-1.37c-.4-.4-.92-.59-1.43-.59-.52 0-1.04.2-1.43.59L10.3 9.45l-7.72 7.72c-.78.78-.78 2.05 0 2.83L4 21.41c.39.39.9.59 1.41.59.51 0 1.02-.2 1.41-.59l7.78-7.78 2.81-2.81c.8-.78.8-2.07 0-2.86zM5.41 20L4 18.59l7.72-7.72 1.47 1.35L5.41 20z\"/>\n",
              "  </svg>\n",
              "      </button>\n",
              "      \n",
              "  <style>\n",
              "    .colab-df-container {\n",
              "      display:flex;\n",
              "      flex-wrap:wrap;\n",
              "      gap: 12px;\n",
              "    }\n",
              "\n",
              "    .colab-df-convert {\n",
              "      background-color: #E8F0FE;\n",
              "      border: none;\n",
              "      border-radius: 50%;\n",
              "      cursor: pointer;\n",
              "      display: none;\n",
              "      fill: #1967D2;\n",
              "      height: 32px;\n",
              "      padding: 0 0 0 0;\n",
              "      width: 32px;\n",
              "    }\n",
              "\n",
              "    .colab-df-convert:hover {\n",
              "      background-color: #E2EBFA;\n",
              "      box-shadow: 0px 1px 2px rgba(60, 64, 67, 0.3), 0px 1px 3px 1px rgba(60, 64, 67, 0.15);\n",
              "      fill: #174EA6;\n",
              "    }\n",
              "\n",
              "    [theme=dark] .colab-df-convert {\n",
              "      background-color: #3B4455;\n",
              "      fill: #D2E3FC;\n",
              "    }\n",
              "\n",
              "    [theme=dark] .colab-df-convert:hover {\n",
              "      background-color: #434B5C;\n",
              "      box-shadow: 0px 1px 3px 1px rgba(0, 0, 0, 0.15);\n",
              "      filter: drop-shadow(0px 1px 2px rgba(0, 0, 0, 0.3));\n",
              "      fill: #FFFFFF;\n",
              "    }\n",
              "  </style>\n",
              "\n",
              "      <script>\n",
              "        const buttonEl =\n",
              "          document.querySelector('#df-6e75aa06-a1a2-4c8c-baa1-f13b3e6eda37 button.colab-df-convert');\n",
              "        buttonEl.style.display =\n",
              "          google.colab.kernel.accessAllowed ? 'block' : 'none';\n",
              "\n",
              "        async function convertToInteractive(key) {\n",
              "          const element = document.querySelector('#df-6e75aa06-a1a2-4c8c-baa1-f13b3e6eda37');\n",
              "          const dataTable =\n",
              "            await google.colab.kernel.invokeFunction('convertToInteractive',\n",
              "                                                     [key], {});\n",
              "          if (!dataTable) return;\n",
              "\n",
              "          const docLinkHtml = 'Like what you see? Visit the ' +\n",
              "            '<a target=\"_blank\" href=https://colab.research.google.com/notebooks/data_table.ipynb>data table notebook</a>'\n",
              "            + ' to learn more about interactive tables.';\n",
              "          element.innerHTML = '';\n",
              "          dataTable['output_type'] = 'display_data';\n",
              "          await google.colab.output.renderOutput(dataTable, element);\n",
              "          const docLink = document.createElement('div');\n",
              "          docLink.innerHTML = docLinkHtml;\n",
              "          element.appendChild(docLink);\n",
              "        }\n",
              "      </script>\n",
              "    </div>\n",
              "  </div>\n",
              "  "
            ]
          },
          "metadata": {},
          "execution_count": 70
        }
      ]
    },
    {
      "cell_type": "code",
      "source": [
        "energy.columns"
      ],
      "metadata": {
        "colab": {
          "base_uri": "https://localhost:8080/"
        },
        "id": "2ls5JQL36nSP",
        "outputId": "e960dbef-70c2-4606-9e74-31f7e7989a49"
      },
      "execution_count": 71,
      "outputs": [
        {
          "output_type": "execute_result",
          "data": {
            "text/plain": [
              "Index(['Unnamed: 0', 'Unnamed: 1', 'Unnamed: 2', 'Petajoules', 'Gigajoules',\n",
              "       '%'],\n",
              "      dtype='object')"
            ]
          },
          "metadata": {},
          "execution_count": 71
        }
      ]
    },
    {
      "cell_type": "code",
      "source": [
        "# df\n",
        "# energy.shape\n",
        "energy = pd.read_excel('/content/drive/MyDrive/Colab Notebooks/Energy Indicators.xls')\n",
        "energy.head(2)\n",
        "'''drop and rename the columns''' \n",
        "energy.drop(['Unnamed: 0', 'Unnamed: 1'], axis=1, inplace=True)\n",
        "energy.columns=['Country', 'Energy Supply', 'Energy Supply per Capita', '% Renewable'] # another way to rename the columns\n",
        "# energy.columns\n",
        "energy.head()"
      ],
      "metadata": {
        "colab": {
          "base_uri": "https://localhost:8080/",
          "height": 206
        },
        "id": "OkTGfU7I1Rmm",
        "outputId": "b6880282-ecc2-4e44-9223-90d244247d7d"
      },
      "execution_count": 72,
      "outputs": [
        {
          "output_type": "execute_result",
          "data": {
            "text/plain": [
              "                                             Country Energy Supply  \\\n",
              "0                   Environmental Indicators: Energy           NaN   \n",
              "1                                                NaN           NaN   \n",
              "2  Energy Supply and Renewable Electricity Produc...           NaN   \n",
              "3                                                NaN           NaN   \n",
              "4                                                NaN           NaN   \n",
              "\n",
              "  Energy Supply per Capita                 % Renewable  \n",
              "0                      NaN                         NaN  \n",
              "1                      NaN                         NaN  \n",
              "2                      NaN                         NaN  \n",
              "3                      NaN                         NaN  \n",
              "4                      NaN  Last update: December 2015  "
            ],
            "text/html": [
              "\n",
              "  <div id=\"df-5a889517-4214-4025-9098-471d148799dc\">\n",
              "    <div class=\"colab-df-container\">\n",
              "      <div>\n",
              "<style scoped>\n",
              "    .dataframe tbody tr th:only-of-type {\n",
              "        vertical-align: middle;\n",
              "    }\n",
              "\n",
              "    .dataframe tbody tr th {\n",
              "        vertical-align: top;\n",
              "    }\n",
              "\n",
              "    .dataframe thead th {\n",
              "        text-align: right;\n",
              "    }\n",
              "</style>\n",
              "<table border=\"1\" class=\"dataframe\">\n",
              "  <thead>\n",
              "    <tr style=\"text-align: right;\">\n",
              "      <th></th>\n",
              "      <th>Country</th>\n",
              "      <th>Energy Supply</th>\n",
              "      <th>Energy Supply per Capita</th>\n",
              "      <th>% Renewable</th>\n",
              "    </tr>\n",
              "  </thead>\n",
              "  <tbody>\n",
              "    <tr>\n",
              "      <th>0</th>\n",
              "      <td>Environmental Indicators: Energy</td>\n",
              "      <td>NaN</td>\n",
              "      <td>NaN</td>\n",
              "      <td>NaN</td>\n",
              "    </tr>\n",
              "    <tr>\n",
              "      <th>1</th>\n",
              "      <td>NaN</td>\n",
              "      <td>NaN</td>\n",
              "      <td>NaN</td>\n",
              "      <td>NaN</td>\n",
              "    </tr>\n",
              "    <tr>\n",
              "      <th>2</th>\n",
              "      <td>Energy Supply and Renewable Electricity Produc...</td>\n",
              "      <td>NaN</td>\n",
              "      <td>NaN</td>\n",
              "      <td>NaN</td>\n",
              "    </tr>\n",
              "    <tr>\n",
              "      <th>3</th>\n",
              "      <td>NaN</td>\n",
              "      <td>NaN</td>\n",
              "      <td>NaN</td>\n",
              "      <td>NaN</td>\n",
              "    </tr>\n",
              "    <tr>\n",
              "      <th>4</th>\n",
              "      <td>NaN</td>\n",
              "      <td>NaN</td>\n",
              "      <td>NaN</td>\n",
              "      <td>Last update: December 2015</td>\n",
              "    </tr>\n",
              "  </tbody>\n",
              "</table>\n",
              "</div>\n",
              "      <button class=\"colab-df-convert\" onclick=\"convertToInteractive('df-5a889517-4214-4025-9098-471d148799dc')\"\n",
              "              title=\"Convert this dataframe to an interactive table.\"\n",
              "              style=\"display:none;\">\n",
              "        \n",
              "  <svg xmlns=\"http://www.w3.org/2000/svg\" height=\"24px\"viewBox=\"0 0 24 24\"\n",
              "       width=\"24px\">\n",
              "    <path d=\"M0 0h24v24H0V0z\" fill=\"none\"/>\n",
              "    <path d=\"M18.56 5.44l.94 2.06.94-2.06 2.06-.94-2.06-.94-.94-2.06-.94 2.06-2.06.94zm-11 1L8.5 8.5l.94-2.06 2.06-.94-2.06-.94L8.5 2.5l-.94 2.06-2.06.94zm10 10l.94 2.06.94-2.06 2.06-.94-2.06-.94-.94-2.06-.94 2.06-2.06.94z\"/><path d=\"M17.41 7.96l-1.37-1.37c-.4-.4-.92-.59-1.43-.59-.52 0-1.04.2-1.43.59L10.3 9.45l-7.72 7.72c-.78.78-.78 2.05 0 2.83L4 21.41c.39.39.9.59 1.41.59.51 0 1.02-.2 1.41-.59l7.78-7.78 2.81-2.81c.8-.78.8-2.07 0-2.86zM5.41 20L4 18.59l7.72-7.72 1.47 1.35L5.41 20z\"/>\n",
              "  </svg>\n",
              "      </button>\n",
              "      \n",
              "  <style>\n",
              "    .colab-df-container {\n",
              "      display:flex;\n",
              "      flex-wrap:wrap;\n",
              "      gap: 12px;\n",
              "    }\n",
              "\n",
              "    .colab-df-convert {\n",
              "      background-color: #E8F0FE;\n",
              "      border: none;\n",
              "      border-radius: 50%;\n",
              "      cursor: pointer;\n",
              "      display: none;\n",
              "      fill: #1967D2;\n",
              "      height: 32px;\n",
              "      padding: 0 0 0 0;\n",
              "      width: 32px;\n",
              "    }\n",
              "\n",
              "    .colab-df-convert:hover {\n",
              "      background-color: #E2EBFA;\n",
              "      box-shadow: 0px 1px 2px rgba(60, 64, 67, 0.3), 0px 1px 3px 1px rgba(60, 64, 67, 0.15);\n",
              "      fill: #174EA6;\n",
              "    }\n",
              "\n",
              "    [theme=dark] .colab-df-convert {\n",
              "      background-color: #3B4455;\n",
              "      fill: #D2E3FC;\n",
              "    }\n",
              "\n",
              "    [theme=dark] .colab-df-convert:hover {\n",
              "      background-color: #434B5C;\n",
              "      box-shadow: 0px 1px 3px 1px rgba(0, 0, 0, 0.15);\n",
              "      filter: drop-shadow(0px 1px 2px rgba(0, 0, 0, 0.3));\n",
              "      fill: #FFFFFF;\n",
              "    }\n",
              "  </style>\n",
              "\n",
              "      <script>\n",
              "        const buttonEl =\n",
              "          document.querySelector('#df-5a889517-4214-4025-9098-471d148799dc button.colab-df-convert');\n",
              "        buttonEl.style.display =\n",
              "          google.colab.kernel.accessAllowed ? 'block' : 'none';\n",
              "\n",
              "        async function convertToInteractive(key) {\n",
              "          const element = document.querySelector('#df-5a889517-4214-4025-9098-471d148799dc');\n",
              "          const dataTable =\n",
              "            await google.colab.kernel.invokeFunction('convertToInteractive',\n",
              "                                                     [key], {});\n",
              "          if (!dataTable) return;\n",
              "\n",
              "          const docLinkHtml = 'Like what you see? Visit the ' +\n",
              "            '<a target=\"_blank\" href=https://colab.research.google.com/notebooks/data_table.ipynb>data table notebook</a>'\n",
              "            + ' to learn more about interactive tables.';\n",
              "          element.innerHTML = '';\n",
              "          dataTable['output_type'] = 'display_data';\n",
              "          await google.colab.output.renderOutput(dataTable, element);\n",
              "          const docLink = document.createElement('div');\n",
              "          docLink.innerHTML = docLinkHtml;\n",
              "          element.appendChild(docLink);\n",
              "        }\n",
              "      </script>\n",
              "    </div>\n",
              "  </div>\n",
              "  "
            ]
          },
          "metadata": {},
          "execution_count": 72
        }
      ]
    },
    {
      "cell_type": "code",
      "source": [
        "#to  check values of energy \n",
        "# energy.iloc[:, 1].values\n",
        "energy['Energy Supply']*=1000000\n",
        "energy['Energy Supply'].values"
      ],
      "metadata": {
        "id": "xdebM5Vd4tCR"
      },
      "execution_count": null,
      "outputs": []
    },
    {
      "cell_type": "code",
      "source": [
        "import numpy as np\n",
        "# missing value\n",
        "energy.isnull().sum()\n",
        "# For all countries which have missing data (e.g. data with \"...\") make sure this is reflected as np.NaN values\n",
        "# energy.Country.replace('...', np.NaN)\n",
        "# energy.Country.values\n",
        "# energy.Country.loc[energy['Country'].isin(['...'])]"
      ],
      "metadata": {
        "id": "oAmuXWe_B42I"
      },
      "execution_count": null,
      "outputs": []
    },
    {
      "cell_type": "code",
      "source": [
        "# df\n",
        "# energy.shape\n",
        "energy = pd.read_excel('/content/drive/MyDrive/Colab Notebooks/Energy Indicators.xls')\n",
        "energy.head(2)\n",
        "'''drop and rename the columns''' \n",
        "energy.drop(['Unnamed: 0', 'Unnamed: 1'], axis=1, inplace=True)\n",
        "energy.columns=['Country', 'Energy Supply', 'Energy Supply per Capita', '% Renewable'] # another way to rename the columns\n",
        "# energy.columns\n",
        "energy.head()\n",
        "# \"Republic of Korea\": \"South Korea\", \"United States of America\": \"United States\", \"United Kingdom of Great Britain and Northern Ireland\": \"United Kingdom\", \"China, Hong Kong Special Administrative Region\": \"Hong Kong\"\n",
        "energy.replace({'Country':{\"Republic of Korea\": \"South Korea\", \"United States of America\": \"United States\"\n",
        "                      , \"United Kingdom of Great Britain and Northern Ireland\": \"United Kingdom\"\n",
        "                      , \"China, Hong Kong Special Administrative Region\": \"Hong Kong\"}}, inplace= True, )\n",
        "# energy.columns.values"
      ],
      "metadata": {
        "id": "gp6YMBYjFMGq"
      },
      "execution_count": null,
      "outputs": []
    },
    {
      "cell_type": "code",
      "source": [
        "# energy.Country.values\n",
        "energy['Country'].value_counts()"
      ],
      "metadata": {
        "id": "5JZUoa3kC9Rw"
      },
      "execution_count": null,
      "outputs": []
    },
    {
      "cell_type": "code",
      "source": [
        "energy.dtypes\n",
        "energy.Country= energy.Country.str.replace(r'[0-9]+','')\n",
        "energy.replace({'Country':{\"Republic of Korea\": \"South Korea\", \"United States of America\": \"United States\"\n",
        "                      , \"United Kingdom of Great Britain and Northern Ireland\": \"United Kingdom\"\n",
        "                      , \"China, Hong Kong Special Administrative Region\": \"Hong Kong\"}}, inplace= True)\n",
        "energy.Country.values"
      ],
      "metadata": {
        "id": "5Rw0m9x612fA"
      },
      "execution_count": null,
      "outputs": []
    },
    {
      "cell_type": "code",
      "source": [
        "'''There are also several countries with numbers and/or parenthesis in their name. Be sure to remove these,\n",
        "\n",
        "e.g.\n",
        "\n",
        "'Bolivia (Plurinational State of)' should be 'Bolivia',\n",
        "\n",
        "'Switzerland17' should be 'Switzerland'.'''\n",
        "energy.Country= energy.Country.str.replace(r'\\(.*\\)','')\n",
        "energy.Country.values"
      ],
      "metadata": {
        "id": "5qULUDSw2Uy3"
      },
      "execution_count": null,
      "outputs": []
    },
    {
      "cell_type": "code",
      "source": [
        "import pandas as pd\n",
        "energy = pd.read_excel('/content/drive/MyDrive/Colab Notebooks/Energy Indicators.xls', skiprows=17)[:227]\n",
        "energy.head(2)"
      ],
      "metadata": {
        "id": "uU-s9Nt1Um_E"
      },
      "execution_count": null,
      "outputs": []
    },
    {
      "cell_type": "code",
      "source": [
        "import numpy as np\n",
        "def Read_Energy():\n",
        "  '''drop and rename the columns''' \n",
        "  energy.drop(['Unnamed: 0', 'Unnamed: 1'], axis=1, inplace=True)\n",
        "  energy.columns=['Country', 'Energy Supply', 'Energy Supply per Capita', '% Renewable'] # another way to rename the columns\n",
        "  '''Energy Supply to gigajoules (there are 1,000,000 gigajoules in a petajoule)'''\n",
        "  energy['Energy Supply']*=1000000\n",
        "  '''For all countries which have missing data (e.g. data with \"...\") make sure this is reflected as np.NaN values'''\n",
        "  energy.Country.replace('...', np.NaN)\n",
        "  '''Removing the prifix and suffix from the country column so that renaming can be possible'''\n",
        "  energy.Country= energy.Country.str.replace(r'[0-9]+','')\n",
        "  '''Rename the following list of countries'''\n",
        "  energy.replace({'Country':{\"Republic of Korea\": \"South Korea\", \"United States of America\": \"United States\"\n",
        "                      , \"United Kingdom of Great Britain and Northern Ireland\": \"United Kingdom\"\n",
        "                      , \"China, Hong Kong Special Administrative Region\": \"Hong Kong\"}}, inplace= True)\n",
        " \n",
        "  \"\"\"There are also several countries with numbers and/or parenthesis in their name. Be sure to remove these,\n",
        "  e.g. Bolivia (Plurinational State of) should be 'Bolivia,\n",
        "  Switzerland17 should be 'Switzerland.\"\"\"\n",
        "  energy.Country= energy.Country.str.replace(r'\\(.*\\)','')\n",
        "  return energy"
      ],
      "metadata": {
        "id": "y8er1J4GA-rn"
      },
      "execution_count": null,
      "outputs": []
    },
    {
      "cell_type": "code",
      "source": [
        "Read_Energy()"
      ],
      "metadata": {
        "id": "GbhAxYQI2-WD"
      },
      "execution_count": null,
      "outputs": []
    },
    {
      "cell_type": "code",
      "source": [
        "gdf= pd.read_csv('/content/drive/MyDrive/Colab Notebooks/world_bank.csv', skiprows=4)\n",
        "gdf.head(2)"
      ],
      "metadata": {
        "id": "M_8JkLasZM24"
      },
      "execution_count": null,
      "outputs": []
    },
    {
      "cell_type": "code",
      "source": [
        "# GDP_df.rename('')\n",
        "# gdf.replace({'Country Name':{\"Korea, Rep.\": \"South Korea\", \"Iran, Islamic Rep.\": \"Iran\",\n",
        "                                            #  \"Hong Kong SAR, China\": \"Hong Kong\"}}, inplace=True)\n",
        "# gdf['Country Name'].values\n",
        "gdf.replace('Country Name', 'Country')"
      ],
      "metadata": {
        "id": "mAzoHwCFZVH9"
      },
      "execution_count": null,
      "outputs": []
    },
    {
      "cell_type": "code",
      "source": [
        ""
      ],
      "metadata": {
        "id": "OZPvXYDhoOR8"
      },
      "execution_count": null,
      "outputs": []
    },
    {
      "cell_type": "code",
      "source": [
        "\"\"\"\n",
        "Next, load the GDP data from the file world_bank.csv, which is a csv containing countries' GDP from 1960 to 2015 from World Bank. Call this DataFrame GDP.\n",
        "\n",
        "Make sure to skip the header, and rename the following list of countries:\n",
        "\n",
        "\"Korea, Rep.\": \"South Korea\", \"Iran, Islamic Rep.\": \"Iran\", \"Hong Kong SAR, China\": \"Hong Kong\"\n",
        "\"\"\"\n",
        "def GDP():\n",
        "  gdf= pd.read_csv('/content/drive/MyDrive/Colab Notebooks/world_bank.csv', skiprows=5, )\n",
        "  gdf.replace()\n",
        "  gdf.replace({'Country Name':{\"Korea, Rep.\": \"South Korea\", \"Iran, Islamic Rep.\": \"Iran\",\n",
        "                                             \"Hong Kong SAR, China\": \"Hong Kong\"}}, inplace=True)\n",
        "  return gdf "
      ],
      "metadata": {
        "id": "4diirCsXYC3E"
      },
      "execution_count": null,
      "outputs": []
    },
    {
      "cell_type": "code",
      "source": [
        "GDP()"
      ],
      "metadata": {
        "id": "7tVbz58MgCIE"
      },
      "execution_count": null,
      "outputs": []
    },
    {
      "cell_type": "code",
      "source": [
        "import numpy as np\n",
        "import pandas as pd"
      ],
      "metadata": {
        "id": "TqVVzQAGjcw5"
      },
      "execution_count": 110,
      "outputs": []
    },
    {
      "cell_type": "code",
      "source": [
        "def Read_Energy():\n",
        "  energy = pd.read_excel('/content/drive/MyDrive/Colab Notebooks/Energy Indicators.xls', skiprows=17)[:227]\n",
        "  energy.head(2)\n",
        "  '''drop and rename the columns''' \n",
        "  energy.drop(['Unnamed: 0', 'Unnamed: 1'], axis=1, inplace=True)\n",
        "  energy.columns=['Country', 'Energy Supply', 'Energy Supply per Capita', '% Renewable'] # another way to rename the columns\n",
        "  '''Energy Supply to gigajoules (there are 1,000,000 gigajoules in a petajoule)'''\n",
        "  energy['Energy Supply']*=1000000\n",
        "  '''For all countries which have missing data (e.g. data with \"...\") make sure this is reflected as np.NaN values'''\n",
        "  energy.Country.replace('...', np.NaN)\n",
        "  '''Removing the prifix and suffix from the country column so that renaming can be possible'''\n",
        "  energy.Country= energy.Country.str.replace(r'[0-9]+','')\n",
        "  '''Rename the following list of countries'''\n",
        "  energy.replace({'Country':{\"Republic of Korea\": \"South Korea\", \"United States of America\": \"United States\"\n",
        "                      , \"United Kingdom of Great Britain and Northern Ireland\": \"United Kingdom\"\n",
        "                      , \"China, Hong Kong Special Administrative Region\": \"Hong Kong\"}}, inplace= True)\n",
        " \n",
        "  \"\"\"There are also several countries with numbers and/or parenthesis in their name. Be sure to remove these,\n",
        "  e.g. Bolivia (Plurinational State of) should be 'Bolivia,\n",
        "  Switzerland17 should be 'Switzerland.\"\"\"\n",
        "  energy.Country= energy.Country.str.replace(r'\\(.*\\)','')\n",
        "  return energy\n",
        "\n",
        "\"\"\"\n",
        "Next, load the GDP data from the file world_bank.csv, which is a csv containing countries' GDP from 1960 to 2015 from World Bank. Call this DataFrame GDP.\n",
        "\n",
        "Make sure to skip the header, and rename the following list of countries:\n",
        "\n",
        "\"Korea, Rep.\": \"South Korea\", \"Iran, Islamic Rep.\": \"Iran\", \"Hong Kong SAR, China\": \"Hong Kong\"\n",
        "\"\"\"\n",
        "def Read_GDP():\n",
        "  gdf= pd.read_csv('/content/drive/MyDrive/Colab Notebooks/world_bank.csv', skiprows=4)\n",
        "  gdf.rename(columns={'Country Name':'Country'}, inplace=True)\n",
        "  gdf.replace({'Country':{\"Korea, Rep.\": \"South Korea\", \"Iran, Islamic Rep.\": \"Iran\",\n",
        "                                             \"Hong Kong SAR, China\": \"Hong Kong\"}}, inplace=True)\n",
        "  return gdf \n",
        "\n",
        "\"\"\"\n",
        "Finally, load the Sciamgo Journal and Country Rank data for Energy Engineering \n",
        "and Power Technology from the file scimagojr-3.xlsx, which ranks countries based \n",
        "on their journal contributions in the aforementioned area. Call this DataFrame ScimEn.\n",
        "\n",
        "Join the three datasets: GDP, Energy, and ScimEn into a new dataset \n",
        "(using the intersection of country names). Use only the last 10 years (2006-2015) \n",
        "of GDP data and only the top 15 countries by Scimagojr 'Rank' (Rank 1 through 15).\n",
        "\n",
        "The index of this DataFrame should be the name of the country, and the columns should \n",
        "be ['Rank', 'Documents', 'Citable documents', 'Citations', 'Self-citations', 'Citations\n",
        " per document', 'H index', 'Energy Supply', 'Energy Supply per Capita', '% Renewable', \n",
        " '2006', '2007', '2008', '2009', '2010', '2011', '2012', '2013', '2014', '2015'].\n",
        "\n",
        "This function should return a DataFrame with 20 columns and 15 entries.\n",
        "\"\"\"\n",
        "def Read_Sciamgo():\n",
        "  ScimEn= pd.read_excel('/content/drive/MyDrive/Colab Notebooks/scimagojr-3.xlsx')\n",
        "  return  ScimEn"
      ],
      "metadata": {
        "id": "A7ojEBRPgl6-"
      },
      "execution_count": 111,
      "outputs": []
    },
    {
      "cell_type": "code",
      "source": [
        "def answer_one():\n",
        "  energy= Read_Energy() \n",
        "  gdp= Read_GDP()\n",
        "  ScimEn= Read_Sciamgo()\n",
        "  df= pd.merge(energy, gdp, on='Country', how='inner')\n",
        "  df= df.merge(ScimEn, on='Country', how='inner')\n",
        "  df.set_index('Country', inplace=True)\n",
        "  df=df[['Rank', 'Documents', 'Citable documents', 'Citations', 'Self-citations', \n",
        "              'Citations per document', 'H index', 'Energy Supply', 'Energy Supply per Capita'\n",
        "              , '% Renewable', '2006', '2007', '2008', '2009', '2010', '2011', '2012'\n",
        "              , '2013', '2014', '2015']]\n",
        "  return df[df['Rank']<16] "
      ],
      "metadata": {
        "id": "YiNL15C8va84"
      },
      "execution_count": 112,
      "outputs": []
    },
    {
      "cell_type": "code",
      "source": [
        "answer_one()"
      ],
      "metadata": {
        "colab": {
          "base_uri": "https://localhost:8080/",
          "height": 757
        },
        "id": "TYhmeu9nvdLe",
        "outputId": "08de872e-030e-4d65-cc7c-4c2546ebab83"
      },
      "execution_count": 113,
      "outputs": [
        {
          "output_type": "stream",
          "name": "stderr",
          "text": [
            "/usr/local/lib/python3.7/dist-packages/ipykernel_launcher.py:12: FutureWarning: The default value of regex will change from True to False in a future version.\n",
            "  if sys.path[0] == '':\n",
            "/usr/local/lib/python3.7/dist-packages/ipykernel_launcher.py:21: FutureWarning: The default value of regex will change from True to False in a future version.\n"
          ]
        },
        {
          "output_type": "execute_result",
          "data": {
            "text/plain": [
              "                    Rank  Documents  Citable documents  Citations  \\\n",
              "Country                                                             \n",
              "Australia             14       8831               8725      90765   \n",
              "Brazil                15       8668               8596      60702   \n",
              "Canada                 6      17899              17620     215003   \n",
              "China                  1     127050             126767     597237   \n",
              "France                 9      13153              12973     130632   \n",
              "Germany                7      17027              16831     140566   \n",
              "India                  8      15005              14841     128763   \n",
              "Italy                 11      10964              10794     111850   \n",
              "Japan                  3      30504              30287     223024   \n",
              "South Korea           10      11983              11923     114675   \n",
              "Russian Federation     5      18534              18301      34266   \n",
              "Spain                 12       9428               9330     123336   \n",
              "United Kingdom         4      20944              20357     206091   \n",
              "United States          2      96661              94747     792274   \n",
              "\n",
              "                    Self-citations  Citations per document  H index  \\\n",
              "Country                                                               \n",
              "Australia                    15606                   10.28      107   \n",
              "Brazil                       14396                    7.00       86   \n",
              "Canada                       40930                   12.01      149   \n",
              "China                       411683                    4.70      138   \n",
              "France                       28601                    9.93      114   \n",
              "Germany                      27426                    8.26      126   \n",
              "India                        37209                    8.58      115   \n",
              "Italy                        26661                   10.20      106   \n",
              "Japan                        61554                    7.31      134   \n",
              "South Korea                  22595                    9.57      104   \n",
              "Russian Federation           12422                    1.85       57   \n",
              "Spain                        23964                   13.08      115   \n",
              "United Kingdom               37874                    9.84      139   \n",
              "United States               265436                    8.20      230   \n",
              "\n",
              "                   Energy Supply Energy Supply per Capita  % Renewable  \\\n",
              "Country                                                                  \n",
              "Australia             5386000000                      231    11.810810   \n",
              "Brazil               12149000000                       59    69.648030   \n",
              "Canada               10431000000                      296    61.945430   \n",
              "China               127191000000                       93    19.754910   \n",
              "France               10597000000                      166    17.020280   \n",
              "Germany              13261000000                      165    17.901530   \n",
              "India                33195000000                       26    14.969080   \n",
              "Italy                 6530000000                      109    33.667230   \n",
              "Japan                18984000000                      149    10.232820   \n",
              "South Korea          11007000000                      221     2.279353   \n",
              "Russian Federation   30709000000                      214    17.288680   \n",
              "Spain                 4923000000                      106    37.968590   \n",
              "United Kingdom        7920000000                      124    10.600470   \n",
              "United States        90838000000                      286    11.570980   \n",
              "\n",
              "                            2006          2007          2008          2009  \\\n",
              "Country                                                                      \n",
              "Australia           1.021940e+12  1.060340e+12  1.099640e+12  1.119650e+12   \n",
              "Brazil              1.845080e+12  1.957120e+12  2.056810e+12  2.054210e+12   \n",
              "Canada              1.564470e+12  1.596740e+12  1.612710e+12  1.565140e+12   \n",
              "China               3.992330e+12  4.559040e+12  4.997780e+12  5.459250e+12   \n",
              "France              2.607840e+12  2.669420e+12  2.674640e+12  2.595970e+12   \n",
              "Germany             3.332890e+12  3.441560e+12  3.478810e+12  3.283340e+12   \n",
              "India               1.265890e+12  1.374870e+12  1.428360e+12  1.549480e+12   \n",
              "Italy               2.202170e+12  2.234630e+12  2.211150e+12  2.089940e+12   \n",
              "Japan               5.496540e+12  5.617040e+12  5.558530e+12  5.251310e+12   \n",
              "South Korea         9.410200e+11  9.924320e+11  1.020510e+12  1.027730e+12   \n",
              "Russian Federation  1.385790e+12  1.504070e+12  1.583000e+12  1.459200e+12   \n",
              "Spain               1.414820e+12  1.468150e+12  1.484530e+12  1.431480e+12   \n",
              "United Kingdom      2.419630e+12  2.482200e+12  2.470610e+12  2.367050e+12   \n",
              "United States       1.479230e+13  1.505540e+13  1.501150e+13  1.459480e+13   \n",
              "\n",
              "                            2010          2011          2012          2013  \\\n",
              "Country                                                                      \n",
              "Australia           1.142250e+12  1.169430e+12  1.211910e+12  1.241480e+12   \n",
              "Brazil              2.208870e+12  2.295240e+12  2.339210e+12  2.409740e+12   \n",
              "Canada              1.613410e+12  1.664090e+12  1.693130e+12  1.730690e+12   \n",
              "China               6.039660e+12  6.612490e+12  7.124980e+12  7.672450e+12   \n",
              "France              2.646990e+12  2.702030e+12  2.706970e+12  2.722570e+12   \n",
              "Germany             3.417300e+12  3.542370e+12  3.556720e+12  3.567320e+12   \n",
              "India               1.708460e+12  1.821870e+12  1.924240e+12  2.051980e+12   \n",
              "Italy               2.125180e+12  2.137440e+12  2.077180e+12  2.040870e+12   \n",
              "Japan               5.498720e+12  5.473740e+12  5.569100e+12  5.644660e+12   \n",
              "South Korea         1.094500e+12  1.134800e+12  1.160810e+12  1.194430e+12   \n",
              "Russian Federation  1.524920e+12  1.589940e+12  1.645880e+12  1.666930e+12   \n",
              "Spain               1.431670e+12  1.417350e+12  1.380220e+12  1.357140e+12   \n",
              "United Kingdom      2.403500e+12  2.450910e+12  2.479810e+12  2.533370e+12   \n",
              "United States       1.496440e+13  1.520400e+13  1.554220e+13  1.577370e+13   \n",
              "\n",
              "                            2014          2015  \n",
              "Country                                         \n",
              "Australia           1.272520e+12  1.301250e+12  \n",
              "Brazil              2.412230e+12  2.319420e+12  \n",
              "Canada              1.773490e+12  1.792610e+12  \n",
              "China               8.230120e+12  8.798000e+12  \n",
              "France              2.729630e+12  2.761190e+12  \n",
              "Germany             3.624390e+12  3.685560e+12  \n",
              "India               2.200620e+12  2.367210e+12  \n",
              "Italy               2.033870e+12  2.049320e+12  \n",
              "Japan               5.642880e+12  5.669560e+12  \n",
              "South Korea         1.234340e+12  1.266580e+12  \n",
              "Russian Federation  1.678710e+12  1.616150e+12  \n",
              "Spain               1.375610e+12  1.419820e+12  \n",
              "United Kingdom      2.605640e+12  2.666330e+12  \n",
              "United States       1.615660e+13  1.654860e+13  "
            ],
            "text/html": [
              "\n",
              "  <div id=\"df-61b78941-d78b-4891-9a58-1ca312da91bc\">\n",
              "    <div class=\"colab-df-container\">\n",
              "      <div>\n",
              "<style scoped>\n",
              "    .dataframe tbody tr th:only-of-type {\n",
              "        vertical-align: middle;\n",
              "    }\n",
              "\n",
              "    .dataframe tbody tr th {\n",
              "        vertical-align: top;\n",
              "    }\n",
              "\n",
              "    .dataframe thead th {\n",
              "        text-align: right;\n",
              "    }\n",
              "</style>\n",
              "<table border=\"1\" class=\"dataframe\">\n",
              "  <thead>\n",
              "    <tr style=\"text-align: right;\">\n",
              "      <th></th>\n",
              "      <th>Rank</th>\n",
              "      <th>Documents</th>\n",
              "      <th>Citable documents</th>\n",
              "      <th>Citations</th>\n",
              "      <th>Self-citations</th>\n",
              "      <th>Citations per document</th>\n",
              "      <th>H index</th>\n",
              "      <th>Energy Supply</th>\n",
              "      <th>Energy Supply per Capita</th>\n",
              "      <th>% Renewable</th>\n",
              "      <th>2006</th>\n",
              "      <th>2007</th>\n",
              "      <th>2008</th>\n",
              "      <th>2009</th>\n",
              "      <th>2010</th>\n",
              "      <th>2011</th>\n",
              "      <th>2012</th>\n",
              "      <th>2013</th>\n",
              "      <th>2014</th>\n",
              "      <th>2015</th>\n",
              "    </tr>\n",
              "    <tr>\n",
              "      <th>Country</th>\n",
              "      <th></th>\n",
              "      <th></th>\n",
              "      <th></th>\n",
              "      <th></th>\n",
              "      <th></th>\n",
              "      <th></th>\n",
              "      <th></th>\n",
              "      <th></th>\n",
              "      <th></th>\n",
              "      <th></th>\n",
              "      <th></th>\n",
              "      <th></th>\n",
              "      <th></th>\n",
              "      <th></th>\n",
              "      <th></th>\n",
              "      <th></th>\n",
              "      <th></th>\n",
              "      <th></th>\n",
              "      <th></th>\n",
              "      <th></th>\n",
              "    </tr>\n",
              "  </thead>\n",
              "  <tbody>\n",
              "    <tr>\n",
              "      <th>Australia</th>\n",
              "      <td>14</td>\n",
              "      <td>8831</td>\n",
              "      <td>8725</td>\n",
              "      <td>90765</td>\n",
              "      <td>15606</td>\n",
              "      <td>10.28</td>\n",
              "      <td>107</td>\n",
              "      <td>5386000000</td>\n",
              "      <td>231</td>\n",
              "      <td>11.810810</td>\n",
              "      <td>1.021940e+12</td>\n",
              "      <td>1.060340e+12</td>\n",
              "      <td>1.099640e+12</td>\n",
              "      <td>1.119650e+12</td>\n",
              "      <td>1.142250e+12</td>\n",
              "      <td>1.169430e+12</td>\n",
              "      <td>1.211910e+12</td>\n",
              "      <td>1.241480e+12</td>\n",
              "      <td>1.272520e+12</td>\n",
              "      <td>1.301250e+12</td>\n",
              "    </tr>\n",
              "    <tr>\n",
              "      <th>Brazil</th>\n",
              "      <td>15</td>\n",
              "      <td>8668</td>\n",
              "      <td>8596</td>\n",
              "      <td>60702</td>\n",
              "      <td>14396</td>\n",
              "      <td>7.00</td>\n",
              "      <td>86</td>\n",
              "      <td>12149000000</td>\n",
              "      <td>59</td>\n",
              "      <td>69.648030</td>\n",
              "      <td>1.845080e+12</td>\n",
              "      <td>1.957120e+12</td>\n",
              "      <td>2.056810e+12</td>\n",
              "      <td>2.054210e+12</td>\n",
              "      <td>2.208870e+12</td>\n",
              "      <td>2.295240e+12</td>\n",
              "      <td>2.339210e+12</td>\n",
              "      <td>2.409740e+12</td>\n",
              "      <td>2.412230e+12</td>\n",
              "      <td>2.319420e+12</td>\n",
              "    </tr>\n",
              "    <tr>\n",
              "      <th>Canada</th>\n",
              "      <td>6</td>\n",
              "      <td>17899</td>\n",
              "      <td>17620</td>\n",
              "      <td>215003</td>\n",
              "      <td>40930</td>\n",
              "      <td>12.01</td>\n",
              "      <td>149</td>\n",
              "      <td>10431000000</td>\n",
              "      <td>296</td>\n",
              "      <td>61.945430</td>\n",
              "      <td>1.564470e+12</td>\n",
              "      <td>1.596740e+12</td>\n",
              "      <td>1.612710e+12</td>\n",
              "      <td>1.565140e+12</td>\n",
              "      <td>1.613410e+12</td>\n",
              "      <td>1.664090e+12</td>\n",
              "      <td>1.693130e+12</td>\n",
              "      <td>1.730690e+12</td>\n",
              "      <td>1.773490e+12</td>\n",
              "      <td>1.792610e+12</td>\n",
              "    </tr>\n",
              "    <tr>\n",
              "      <th>China</th>\n",
              "      <td>1</td>\n",
              "      <td>127050</td>\n",
              "      <td>126767</td>\n",
              "      <td>597237</td>\n",
              "      <td>411683</td>\n",
              "      <td>4.70</td>\n",
              "      <td>138</td>\n",
              "      <td>127191000000</td>\n",
              "      <td>93</td>\n",
              "      <td>19.754910</td>\n",
              "      <td>3.992330e+12</td>\n",
              "      <td>4.559040e+12</td>\n",
              "      <td>4.997780e+12</td>\n",
              "      <td>5.459250e+12</td>\n",
              "      <td>6.039660e+12</td>\n",
              "      <td>6.612490e+12</td>\n",
              "      <td>7.124980e+12</td>\n",
              "      <td>7.672450e+12</td>\n",
              "      <td>8.230120e+12</td>\n",
              "      <td>8.798000e+12</td>\n",
              "    </tr>\n",
              "    <tr>\n",
              "      <th>France</th>\n",
              "      <td>9</td>\n",
              "      <td>13153</td>\n",
              "      <td>12973</td>\n",
              "      <td>130632</td>\n",
              "      <td>28601</td>\n",
              "      <td>9.93</td>\n",
              "      <td>114</td>\n",
              "      <td>10597000000</td>\n",
              "      <td>166</td>\n",
              "      <td>17.020280</td>\n",
              "      <td>2.607840e+12</td>\n",
              "      <td>2.669420e+12</td>\n",
              "      <td>2.674640e+12</td>\n",
              "      <td>2.595970e+12</td>\n",
              "      <td>2.646990e+12</td>\n",
              "      <td>2.702030e+12</td>\n",
              "      <td>2.706970e+12</td>\n",
              "      <td>2.722570e+12</td>\n",
              "      <td>2.729630e+12</td>\n",
              "      <td>2.761190e+12</td>\n",
              "    </tr>\n",
              "    <tr>\n",
              "      <th>Germany</th>\n",
              "      <td>7</td>\n",
              "      <td>17027</td>\n",
              "      <td>16831</td>\n",
              "      <td>140566</td>\n",
              "      <td>27426</td>\n",
              "      <td>8.26</td>\n",
              "      <td>126</td>\n",
              "      <td>13261000000</td>\n",
              "      <td>165</td>\n",
              "      <td>17.901530</td>\n",
              "      <td>3.332890e+12</td>\n",
              "      <td>3.441560e+12</td>\n",
              "      <td>3.478810e+12</td>\n",
              "      <td>3.283340e+12</td>\n",
              "      <td>3.417300e+12</td>\n",
              "      <td>3.542370e+12</td>\n",
              "      <td>3.556720e+12</td>\n",
              "      <td>3.567320e+12</td>\n",
              "      <td>3.624390e+12</td>\n",
              "      <td>3.685560e+12</td>\n",
              "    </tr>\n",
              "    <tr>\n",
              "      <th>India</th>\n",
              "      <td>8</td>\n",
              "      <td>15005</td>\n",
              "      <td>14841</td>\n",
              "      <td>128763</td>\n",
              "      <td>37209</td>\n",
              "      <td>8.58</td>\n",
              "      <td>115</td>\n",
              "      <td>33195000000</td>\n",
              "      <td>26</td>\n",
              "      <td>14.969080</td>\n",
              "      <td>1.265890e+12</td>\n",
              "      <td>1.374870e+12</td>\n",
              "      <td>1.428360e+12</td>\n",
              "      <td>1.549480e+12</td>\n",
              "      <td>1.708460e+12</td>\n",
              "      <td>1.821870e+12</td>\n",
              "      <td>1.924240e+12</td>\n",
              "      <td>2.051980e+12</td>\n",
              "      <td>2.200620e+12</td>\n",
              "      <td>2.367210e+12</td>\n",
              "    </tr>\n",
              "    <tr>\n",
              "      <th>Italy</th>\n",
              "      <td>11</td>\n",
              "      <td>10964</td>\n",
              "      <td>10794</td>\n",
              "      <td>111850</td>\n",
              "      <td>26661</td>\n",
              "      <td>10.20</td>\n",
              "      <td>106</td>\n",
              "      <td>6530000000</td>\n",
              "      <td>109</td>\n",
              "      <td>33.667230</td>\n",
              "      <td>2.202170e+12</td>\n",
              "      <td>2.234630e+12</td>\n",
              "      <td>2.211150e+12</td>\n",
              "      <td>2.089940e+12</td>\n",
              "      <td>2.125180e+12</td>\n",
              "      <td>2.137440e+12</td>\n",
              "      <td>2.077180e+12</td>\n",
              "      <td>2.040870e+12</td>\n",
              "      <td>2.033870e+12</td>\n",
              "      <td>2.049320e+12</td>\n",
              "    </tr>\n",
              "    <tr>\n",
              "      <th>Japan</th>\n",
              "      <td>3</td>\n",
              "      <td>30504</td>\n",
              "      <td>30287</td>\n",
              "      <td>223024</td>\n",
              "      <td>61554</td>\n",
              "      <td>7.31</td>\n",
              "      <td>134</td>\n",
              "      <td>18984000000</td>\n",
              "      <td>149</td>\n",
              "      <td>10.232820</td>\n",
              "      <td>5.496540e+12</td>\n",
              "      <td>5.617040e+12</td>\n",
              "      <td>5.558530e+12</td>\n",
              "      <td>5.251310e+12</td>\n",
              "      <td>5.498720e+12</td>\n",
              "      <td>5.473740e+12</td>\n",
              "      <td>5.569100e+12</td>\n",
              "      <td>5.644660e+12</td>\n",
              "      <td>5.642880e+12</td>\n",
              "      <td>5.669560e+12</td>\n",
              "    </tr>\n",
              "    <tr>\n",
              "      <th>South Korea</th>\n",
              "      <td>10</td>\n",
              "      <td>11983</td>\n",
              "      <td>11923</td>\n",
              "      <td>114675</td>\n",
              "      <td>22595</td>\n",
              "      <td>9.57</td>\n",
              "      <td>104</td>\n",
              "      <td>11007000000</td>\n",
              "      <td>221</td>\n",
              "      <td>2.279353</td>\n",
              "      <td>9.410200e+11</td>\n",
              "      <td>9.924320e+11</td>\n",
              "      <td>1.020510e+12</td>\n",
              "      <td>1.027730e+12</td>\n",
              "      <td>1.094500e+12</td>\n",
              "      <td>1.134800e+12</td>\n",
              "      <td>1.160810e+12</td>\n",
              "      <td>1.194430e+12</td>\n",
              "      <td>1.234340e+12</td>\n",
              "      <td>1.266580e+12</td>\n",
              "    </tr>\n",
              "    <tr>\n",
              "      <th>Russian Federation</th>\n",
              "      <td>5</td>\n",
              "      <td>18534</td>\n",
              "      <td>18301</td>\n",
              "      <td>34266</td>\n",
              "      <td>12422</td>\n",
              "      <td>1.85</td>\n",
              "      <td>57</td>\n",
              "      <td>30709000000</td>\n",
              "      <td>214</td>\n",
              "      <td>17.288680</td>\n",
              "      <td>1.385790e+12</td>\n",
              "      <td>1.504070e+12</td>\n",
              "      <td>1.583000e+12</td>\n",
              "      <td>1.459200e+12</td>\n",
              "      <td>1.524920e+12</td>\n",
              "      <td>1.589940e+12</td>\n",
              "      <td>1.645880e+12</td>\n",
              "      <td>1.666930e+12</td>\n",
              "      <td>1.678710e+12</td>\n",
              "      <td>1.616150e+12</td>\n",
              "    </tr>\n",
              "    <tr>\n",
              "      <th>Spain</th>\n",
              "      <td>12</td>\n",
              "      <td>9428</td>\n",
              "      <td>9330</td>\n",
              "      <td>123336</td>\n",
              "      <td>23964</td>\n",
              "      <td>13.08</td>\n",
              "      <td>115</td>\n",
              "      <td>4923000000</td>\n",
              "      <td>106</td>\n",
              "      <td>37.968590</td>\n",
              "      <td>1.414820e+12</td>\n",
              "      <td>1.468150e+12</td>\n",
              "      <td>1.484530e+12</td>\n",
              "      <td>1.431480e+12</td>\n",
              "      <td>1.431670e+12</td>\n",
              "      <td>1.417350e+12</td>\n",
              "      <td>1.380220e+12</td>\n",
              "      <td>1.357140e+12</td>\n",
              "      <td>1.375610e+12</td>\n",
              "      <td>1.419820e+12</td>\n",
              "    </tr>\n",
              "    <tr>\n",
              "      <th>United Kingdom</th>\n",
              "      <td>4</td>\n",
              "      <td>20944</td>\n",
              "      <td>20357</td>\n",
              "      <td>206091</td>\n",
              "      <td>37874</td>\n",
              "      <td>9.84</td>\n",
              "      <td>139</td>\n",
              "      <td>7920000000</td>\n",
              "      <td>124</td>\n",
              "      <td>10.600470</td>\n",
              "      <td>2.419630e+12</td>\n",
              "      <td>2.482200e+12</td>\n",
              "      <td>2.470610e+12</td>\n",
              "      <td>2.367050e+12</td>\n",
              "      <td>2.403500e+12</td>\n",
              "      <td>2.450910e+12</td>\n",
              "      <td>2.479810e+12</td>\n",
              "      <td>2.533370e+12</td>\n",
              "      <td>2.605640e+12</td>\n",
              "      <td>2.666330e+12</td>\n",
              "    </tr>\n",
              "    <tr>\n",
              "      <th>United States</th>\n",
              "      <td>2</td>\n",
              "      <td>96661</td>\n",
              "      <td>94747</td>\n",
              "      <td>792274</td>\n",
              "      <td>265436</td>\n",
              "      <td>8.20</td>\n",
              "      <td>230</td>\n",
              "      <td>90838000000</td>\n",
              "      <td>286</td>\n",
              "      <td>11.570980</td>\n",
              "      <td>1.479230e+13</td>\n",
              "      <td>1.505540e+13</td>\n",
              "      <td>1.501150e+13</td>\n",
              "      <td>1.459480e+13</td>\n",
              "      <td>1.496440e+13</td>\n",
              "      <td>1.520400e+13</td>\n",
              "      <td>1.554220e+13</td>\n",
              "      <td>1.577370e+13</td>\n",
              "      <td>1.615660e+13</td>\n",
              "      <td>1.654860e+13</td>\n",
              "    </tr>\n",
              "  </tbody>\n",
              "</table>\n",
              "</div>\n",
              "      <button class=\"colab-df-convert\" onclick=\"convertToInteractive('df-61b78941-d78b-4891-9a58-1ca312da91bc')\"\n",
              "              title=\"Convert this dataframe to an interactive table.\"\n",
              "              style=\"display:none;\">\n",
              "        \n",
              "  <svg xmlns=\"http://www.w3.org/2000/svg\" height=\"24px\"viewBox=\"0 0 24 24\"\n",
              "       width=\"24px\">\n",
              "    <path d=\"M0 0h24v24H0V0z\" fill=\"none\"/>\n",
              "    <path d=\"M18.56 5.44l.94 2.06.94-2.06 2.06-.94-2.06-.94-.94-2.06-.94 2.06-2.06.94zm-11 1L8.5 8.5l.94-2.06 2.06-.94-2.06-.94L8.5 2.5l-.94 2.06-2.06.94zm10 10l.94 2.06.94-2.06 2.06-.94-2.06-.94-.94-2.06-.94 2.06-2.06.94z\"/><path d=\"M17.41 7.96l-1.37-1.37c-.4-.4-.92-.59-1.43-.59-.52 0-1.04.2-1.43.59L10.3 9.45l-7.72 7.72c-.78.78-.78 2.05 0 2.83L4 21.41c.39.39.9.59 1.41.59.51 0 1.02-.2 1.41-.59l7.78-7.78 2.81-2.81c.8-.78.8-2.07 0-2.86zM5.41 20L4 18.59l7.72-7.72 1.47 1.35L5.41 20z\"/>\n",
              "  </svg>\n",
              "      </button>\n",
              "      \n",
              "  <style>\n",
              "    .colab-df-container {\n",
              "      display:flex;\n",
              "      flex-wrap:wrap;\n",
              "      gap: 12px;\n",
              "    }\n",
              "\n",
              "    .colab-df-convert {\n",
              "      background-color: #E8F0FE;\n",
              "      border: none;\n",
              "      border-radius: 50%;\n",
              "      cursor: pointer;\n",
              "      display: none;\n",
              "      fill: #1967D2;\n",
              "      height: 32px;\n",
              "      padding: 0 0 0 0;\n",
              "      width: 32px;\n",
              "    }\n",
              "\n",
              "    .colab-df-convert:hover {\n",
              "      background-color: #E2EBFA;\n",
              "      box-shadow: 0px 1px 2px rgba(60, 64, 67, 0.3), 0px 1px 3px 1px rgba(60, 64, 67, 0.15);\n",
              "      fill: #174EA6;\n",
              "    }\n",
              "\n",
              "    [theme=dark] .colab-df-convert {\n",
              "      background-color: #3B4455;\n",
              "      fill: #D2E3FC;\n",
              "    }\n",
              "\n",
              "    [theme=dark] .colab-df-convert:hover {\n",
              "      background-color: #434B5C;\n",
              "      box-shadow: 0px 1px 3px 1px rgba(0, 0, 0, 0.15);\n",
              "      filter: drop-shadow(0px 1px 2px rgba(0, 0, 0, 0.3));\n",
              "      fill: #FFFFFF;\n",
              "    }\n",
              "  </style>\n",
              "\n",
              "      <script>\n",
              "        const buttonEl =\n",
              "          document.querySelector('#df-61b78941-d78b-4891-9a58-1ca312da91bc button.colab-df-convert');\n",
              "        buttonEl.style.display =\n",
              "          google.colab.kernel.accessAllowed ? 'block' : 'none';\n",
              "\n",
              "        async function convertToInteractive(key) {\n",
              "          const element = document.querySelector('#df-61b78941-d78b-4891-9a58-1ca312da91bc');\n",
              "          const dataTable =\n",
              "            await google.colab.kernel.invokeFunction('convertToInteractive',\n",
              "                                                     [key], {});\n",
              "          if (!dataTable) return;\n",
              "\n",
              "          const docLinkHtml = 'Like what you see? Visit the ' +\n",
              "            '<a target=\"_blank\" href=https://colab.research.google.com/notebooks/data_table.ipynb>data table notebook</a>'\n",
              "            + ' to learn more about interactive tables.';\n",
              "          element.innerHTML = '';\n",
              "          dataTable['output_type'] = 'display_data';\n",
              "          await google.colab.output.renderOutput(dataTable, element);\n",
              "          const docLink = document.createElement('div');\n",
              "          docLink.innerHTML = docLinkHtml;\n",
              "          element.appendChild(docLink);\n",
              "        }\n",
              "      </script>\n",
              "    </div>\n",
              "  </div>\n",
              "  "
            ]
          },
          "metadata": {},
          "execution_count": 113
        }
      ]
    },
    {
      "cell_type": "code",
      "source": [
        "  energy= Read_Energy() \n",
        "  gdp= Read_GDP()\n",
        "  ScimEn= Read_Sciamgo()\n",
        "  df= pd.merge(energy, gdp, on='Country', how='inner')\n",
        "  df= df.merge(ScimEn, on='Country', how='inner')\n",
        "  # df.set_index('Country', inplace=True)\n",
        "  # df=df[['Rank', 'Documents', 'Citable documents', 'Citations', 'Self-citations', \n",
        "  #             'Citations per document', 'H index', 'Energy Supply', 'Energy Supply per Capita'\n",
        "  #             , '% Renewable', '2006', '2007', '2008', '2009', '2010', '2011', '2012'\n",
        "  #             , '2013', '2014', '2015']]\n",
        "  # df[df['Rank']<16]\n",
        "  df"
      ],
      "metadata": {
        "id": "fTWVVgXWoxPW"
      },
      "execution_count": null,
      "outputs": []
    },
    {
      "cell_type": "markdown",
      "metadata": {
        "id": "I_xj1mvZKkJx"
      },
      "source": [
        "### Question 2\n",
        "The previous question joined three datasets then reduced this to just the top 15 entries. When you joined the datasets, but before you reduced this to the top 15 items, how many entries did you lose?\n",
        "\n",
        "*This function should return a single number.*"
      ]
    },
    {
      "cell_type": "code",
      "execution_count": null,
      "metadata": {
        "id": "hqYfsknSKkJz"
      },
      "outputs": [],
      "source": [
        "%%HTML\n",
        "<svg width=\"800\" height=\"300\">\n",
        "  <circle cx=\"150\" cy=\"180\" r=\"80\" fill-opacity=\"0.2\" stroke=\"black\" stroke-width=\"2\" fill=\"blue\" />\n",
        "  <circle cx=\"200\" cy=\"100\" r=\"80\" fill-opacity=\"0.2\" stroke=\"black\" stroke-width=\"2\" fill=\"red\" />\n",
        "  <circle cx=\"100\" cy=\"100\" r=\"80\" fill-opacity=\"0.2\" stroke=\"black\" stroke-width=\"2\" fill=\"green\" />\n",
        "  <line x1=\"150\" y1=\"125\" x2=\"300\" y2=\"150\" stroke=\"black\" stroke-width=\"2\" fill=\"black\" stroke-dasharray=\"5,3\"/>\n",
        "  <text  x=\"300\" y=\"165\" font-family=\"Verdana\" font-size=\"35\">Everything but this!</text>\n",
        "</svg>"
      ]
    },
    {
      "cell_type": "code",
      "execution_count": 114,
      "metadata": {
        "collapsed": true,
        "jupyter": {
          "outputs_hidden": true
        },
        "umich_part_id": "010",
        "umich_partlist_id": "003",
        "id": "lcMZSSLsKkJ8"
      },
      "outputs": [],
      "source": [
        "def answer_two():\n",
        "  energy= Read_Energy() \n",
        "  gdp= Read_GDP()\n",
        "  ScimEn= Read_Sciamgo()\n",
        "  df= pd.merge(energy, gdp, on='Country', how='outer')\n",
        "  df= df.merge(ScimEn, on='Country', how='outer')\n",
        "  df2= pd.merge(energy, gdp, on='Country', how='inner')\n",
        "  df2= df2.merge(ScimEn, on='Country', how='inner')\n",
        "  return len(df)-len(df2)"
      ]
    },
    {
      "cell_type": "code",
      "source": [
        "answer_two()"
      ],
      "metadata": {
        "colab": {
          "base_uri": "https://localhost:8080/"
        },
        "id": "SU82fER_k2t4",
        "outputId": "281f5b19-ec2c-4f2f-a6b6-d7d290fc4fbb"
      },
      "execution_count": 115,
      "outputs": [
        {
          "output_type": "stream",
          "name": "stderr",
          "text": [
            "/usr/local/lib/python3.7/dist-packages/ipykernel_launcher.py:12: FutureWarning: The default value of regex will change from True to False in a future version.\n",
            "  if sys.path[0] == '':\n",
            "/usr/local/lib/python3.7/dist-packages/ipykernel_launcher.py:21: FutureWarning: The default value of regex will change from True to False in a future version.\n"
          ]
        },
        {
          "output_type": "execute_result",
          "data": {
            "text/plain": [
              "163"
            ]
          },
          "metadata": {},
          "execution_count": 115
        }
      ]
    },
    {
      "cell_type": "markdown",
      "metadata": {
        "id": "uT0IhQ6YKkJ-"
      },
      "source": [
        "## Answer the following questions in the context of only the top 15 countries by Scimagojr Rank (aka the DataFrame returned by `answer_one()`)"
      ]
    },
    {
      "cell_type": "markdown",
      "metadata": {
        "id": "61GZ97_gKkKA"
      },
      "source": [
        "### Question 3\n",
        "What is the average GDP over the last 10 years for each country? (exclude missing values from this calculation.)\n",
        "\n",
        "*This function should return a Series named `avgGDP` with 15 countries and their average GDP sorted in descending order.*"
      ]
    },
    {
      "cell_type": "code",
      "source": [
        "Top15 = answer_one()\n",
        "Top15\n",
        "# avgGDP= Top15[['2006','2007', '2008','2009','2010','2011','2012','2013','2014','2015']].mean(axis=1)\n",
        "# avgGDP"
      ],
      "metadata": {
        "id": "pB39hgKGmrso"
      },
      "execution_count": null,
      "outputs": []
    },
    {
      "cell_type": "code",
      "execution_count": 116,
      "metadata": {
        "collapsed": true,
        "jupyter": {
          "outputs_hidden": true
        },
        "scrolled": true,
        "umich_part_id": "011",
        "umich_partlist_id": "003",
        "id": "9h5gnjc-KkKK"
      },
      "outputs": [],
      "source": [
        "def answer_three():\n",
        "    Top15 = answer_one()\n",
        "    # avgGDP=Top15.groupby('Country')[['2006','2007', '2008','2009','2010','2011','2012','2013','2014','2015']].mean()\n",
        "    avgGDP= Top15[['2006','2007', '2008','2009','2010','2011','2012','2013','2014','2015']].mean(axis=1)\n",
        "    return avgGDP.sort_values(axis=0, ascending=False)"
      ]
    },
    {
      "cell_type": "code",
      "source": [
        "answer_three()"
      ],
      "metadata": {
        "colab": {
          "base_uri": "https://localhost:8080/"
        },
        "id": "pU-_7Mj9WzE9",
        "outputId": "47e6869f-8bc2-499f-92b1-22810b71fd47"
      },
      "execution_count": 117,
      "outputs": [
        {
          "output_type": "stream",
          "name": "stderr",
          "text": [
            "/usr/local/lib/python3.7/dist-packages/ipykernel_launcher.py:12: FutureWarning: The default value of regex will change from True to False in a future version.\n",
            "  if sys.path[0] == '':\n",
            "/usr/local/lib/python3.7/dist-packages/ipykernel_launcher.py:21: FutureWarning: The default value of regex will change from True to False in a future version.\n"
          ]
        },
        {
          "output_type": "execute_result",
          "data": {
            "text/plain": [
              "Country\n",
              "United States         1.536435e+13\n",
              "China                 6.348610e+12\n",
              "Japan                 5.542208e+12\n",
              "Germany               3.493026e+12\n",
              "France                2.681725e+12\n",
              "United Kingdom        2.487905e+12\n",
              "Brazil                2.189793e+12\n",
              "Italy                 2.120175e+12\n",
              "India                 1.769298e+12\n",
              "Canada                1.660648e+12\n",
              "Russian Federation    1.565459e+12\n",
              "Spain                 1.418079e+12\n",
              "Australia             1.164041e+12\n",
              "South Korea           1.106715e+12\n",
              "dtype: float64"
            ]
          },
          "metadata": {},
          "execution_count": 117
        }
      ]
    },
    {
      "cell_type": "markdown",
      "metadata": {
        "id": "BIJlF52WKkKS"
      },
      "source": [
        "### Question 4\n",
        "By how much had the GDP changed over the 10 year span for the country with the 6th largest average GDP?\n",
        "\n",
        "*This function should return a single number.*"
      ]
    },
    {
      "cell_type": "code",
      "source": [
        "Top15 = answer_one()\n",
        "Top15\n",
        "LGDP= answer_three().index[5]\n",
        "LGDP\n",
        "\n",
        "# target = answer_three().index[5]\n",
        "# target   "
      ],
      "metadata": {
        "id": "I4VrTrFyYdcC"
      },
      "execution_count": null,
      "outputs": []
    },
    {
      "cell_type": "code",
      "execution_count": 118,
      "metadata": {
        "collapsed": true,
        "jupyter": {
          "outputs_hidden": true
        },
        "scrolled": true,
        "umich_part_id": "012",
        "umich_partlist_id": "003",
        "id": "9zaDRJKnKkKU"
      },
      "outputs": [],
      "source": [
        "def answer_four():\n",
        "    Top15 = answer_one()\n",
        "    TGDP= answer_three().index[5]\n",
        "    return Top15.loc[TGDP, '2015'] - Top15.loc[TGDP, '2006']"
      ]
    },
    {
      "cell_type": "code",
      "source": [
        "answer_four()"
      ],
      "metadata": {
        "id": "oYLIy4mceTnq"
      },
      "execution_count": null,
      "outputs": []
    },
    {
      "cell_type": "markdown",
      "metadata": {
        "id": "FY6RvY-CKkKW"
      },
      "source": [
        "### Question 5\n",
        "What is the mean `Energy Supply per Capita`?\n",
        "\n",
        "*This function should return a single number.*"
      ]
    },
    {
      "cell_type": "code",
      "source": [
        "Top15= answer_one()\n",
        "Top15['Energy Supply per Capita'].mean()\n"
      ],
      "metadata": {
        "id": "cTK7rERcefiF"
      },
      "execution_count": null,
      "outputs": []
    },
    {
      "cell_type": "code",
      "execution_count": 119,
      "metadata": {
        "collapsed": true,
        "jupyter": {
          "outputs_hidden": true
        },
        "umich_part_id": "013",
        "umich_partlist_id": "003",
        "id": "bcp39lydKkKY"
      },
      "outputs": [],
      "source": [
        "def answer_five():\n",
        "    Top15 = answer_one()\n",
        "    return Top15['Energy Supply per Capita'].mean() #??mean(axis=1)"
      ]
    },
    {
      "cell_type": "markdown",
      "metadata": {
        "id": "u6DBJhrHKkKa"
      },
      "source": [
        "### Question 6\n",
        "What country has the maximum % Renewable and what is the percentage?\n",
        "\n",
        "*This function should return a tuple with the name of the country and the percentage.*"
      ]
    },
    {
      "cell_type": "code",
      "source": [
        "Top15 = answer_one()\n",
        "# Top15.loc[[Top15['% Renewable'].idxmax()], '% Renewable']\n",
        "(Top15['% Renewable'].idxmax(), Top15['% Renewable'].max())\n",
        "# Top15"
      ],
      "metadata": {
        "id": "FaRtkeushCVl"
      },
      "execution_count": null,
      "outputs": []
    },
    {
      "cell_type": "code",
      "execution_count": 120,
      "metadata": {
        "collapsed": true,
        "jupyter": {
          "outputs_hidden": true
        },
        "umich_part_id": "014",
        "umich_partlist_id": "003",
        "id": "6mgNgqC6KkKc"
      },
      "outputs": [],
      "source": [
        "def answer_six():\n",
        "    Top15 = answer_one()\n",
        "    # Top15.loc[[Top15['% Renewable'].idxmax()], '% Renewable']\n",
        "    return (Top15['% Renewable'].idxmax(), Top15['% Renewable'].max())"
      ]
    },
    {
      "cell_type": "markdown",
      "metadata": {
        "id": "fxyjFg4OKkKe"
      },
      "source": [
        "### Question 7\n",
        "Create a new column that is the ratio of Self-Citations to Total Citations. \n",
        "What is the maximum value for this new column, and what country has the highest ratio?\n",
        "\n",
        "*This function should return a tuple with the name of the country and the ratio.*"
      ]
    },
    {
      "cell_type": "code",
      "source": [
        "Top15 = answer_one()\n",
        "# Top15.rename(columns={'Self-citations':'Total Citations'}, inplace=True)\n",
        "Top15['Ratio Citations']= Top15['Self-citations']/Top15['Citations']\n",
        "Top15['Ratio Citations'].max(), Top15['Ratio Citations'].idxmax()"
      ],
      "metadata": {
        "id": "5ULNjBL7rbG0"
      },
      "execution_count": null,
      "outputs": []
    },
    {
      "cell_type": "code",
      "execution_count": 121,
      "metadata": {
        "collapsed": true,
        "jupyter": {
          "outputs_hidden": true
        },
        "umich_part_id": "015",
        "umich_partlist_id": "003",
        "id": "uCj70XihKkKf"
      },
      "outputs": [],
      "source": [
        "def answer_seven():\n",
        "    Top15 = answer_one()\n",
        "    Top15['Ratio Citations']= Top15['Self-citations']/Top15['Citations']\n",
        "    return Top15['Ratio Citations'].max(), Top15['Ratio Citations'].idxmax()"
      ]
    },
    {
      "cell_type": "code",
      "source": [
        "answer_seven()"
      ],
      "metadata": {
        "id": "yWeK1-KGtId-"
      },
      "execution_count": null,
      "outputs": []
    },
    {
      "cell_type": "markdown",
      "metadata": {
        "id": "SjC17yy-KkKg"
      },
      "source": [
        "### Question 8\n",
        "\n",
        "Create a column that estimates the population using Energy Supply and Energy Supply per capita. \n",
        "What is the third most populous country according to this estimate?\n",
        "\n",
        "*This function should return a single string value.*"
      ]
    },
    {
      "cell_type": "code",
      "source": [
        "Top15 = answer_one()\n",
        "Top15['Population']= Top15['Energy Supply']/ Top15['Energy Supply per Capita']\n",
        "Top15.sort_values('Population', ascending=False).index[2]\n",
        "# Top15"
      ],
      "metadata": {
        "id": "GSYWZZ7WtU2b"
      },
      "execution_count": null,
      "outputs": []
    },
    {
      "cell_type": "code",
      "execution_count": 122,
      "metadata": {
        "collapsed": true,
        "jupyter": {
          "outputs_hidden": true
        },
        "umich_part_id": "016",
        "umich_partlist_id": "003",
        "id": "HUQPxyKuKkKl"
      },
      "outputs": [],
      "source": [
        "def answer_eight():\n",
        "    Top15 = answer_one()\n",
        "    Top15['Population']= Top15['Energy Supply']/ Top15['Energy Supply per Capita']\n",
        "    return Top15.sort_values('Population', ascending=False).index[2]"
      ]
    },
    {
      "cell_type": "markdown",
      "metadata": {
        "id": "yb6lpisYKkKm"
      },
      "source": [
        "### Question 9\n",
        "Create a column that estimates the number of citable documents per person. \n",
        "What is the correlation between the number of citable documents per capita and the energy supply per capita? Use the `.corr()` method, (Pearson's correlation).\n",
        "\n",
        "*This function should return a single number.*\n",
        "\n",
        "*(Optional: Use the built-in function `plot9()` to visualize the relationship between Energy Supply per Capita vs. Citable docs per Capita)*"
      ]
    },
    {
      "cell_type": "code",
      "source": [
        "Top15 = answer_one()\n",
        "Top15['Energy Supply']=np.float64(Top15['Energy Supply'])\n",
        "Top15['Energy Supply per Capita']=np.float64(Top15['Energy Supply per Capita'])\n",
        "Top15['Population']= Top15['Energy Supply']/ Top15['Energy Supply per Capita']\n",
        "Top15['number of citable documents per person']=np.float64(Top15['Citable documents'])/ Top15['Population']\n",
        "# Top15['number of citable documents per person'].corr(Top15['Energy Supply per Capita'])\n",
        "# Top15[['number of citable documents per person', 'Energy Supply per Capita']].corr()\n",
        "\n",
        "return Top15[['number of citable documents per person', 'Energy Supply per Capita']].corr().loc['number of citable documents per person', 'Energy Supply per Capita']\n",
        "\n",
        "# Top15.info()"
      ],
      "metadata": {
        "colab": {
          "base_uri": "https://localhost:8080/"
        },
        "id": "AllkCYFSvU_D",
        "outputId": "39466499-7d5f-4423-f30f-41695bc7c8a5"
      },
      "execution_count": 145,
      "outputs": [
        {
          "output_type": "stream",
          "name": "stdout",
          "text": [
            "0.7901935488300874\n"
          ]
        },
        {
          "output_type": "stream",
          "name": "stderr",
          "text": [
            "/usr/local/lib/python3.7/dist-packages/ipykernel_launcher.py:12: FutureWarning: The default value of regex will change from True to False in a future version.\n",
            "  if sys.path[0] == '':\n",
            "/usr/local/lib/python3.7/dist-packages/ipykernel_launcher.py:21: FutureWarning: The default value of regex will change from True to False in a future version.\n"
          ]
        }
      ]
    },
    {
      "cell_type": "code",
      "execution_count": 146,
      "metadata": {
        "collapsed": true,
        "jupyter": {
          "outputs_hidden": true
        },
        "umich_part_id": "017",
        "umich_partlist_id": "003",
        "id": "4YM7sRQ7KkKo"
      },
      "outputs": [],
      "source": [
        "def answer_nine():\n",
        "    Top15 = answer_one()\n",
        "    Top15['Energy Supply']=np.float64(Top15['Energy Supply'])\n",
        "    Top15['Energy Supply per Capita']=np.float64(Top15['Energy Supply per Capita'])\n",
        "    Top15['Population']= Top15['Energy Supply']/ Top15['Energy Supply per Capita']\n",
        "    Top15['number of citable documents per person']=np.float64(Top15['Citable documents'])/ Top15['Population']  \n",
        "    return Top15[['number of citable documents per person', 'Energy Supply per Capita']].corr().loc['number of citable documents per person', 'Energy Supply per Capita']\n"
      ]
    },
    {
      "cell_type": "code",
      "execution_count": 147,
      "metadata": {
        "collapsed": true,
        "jupyter": {
          "outputs_hidden": true
        },
        "id": "CnrAHbu0KkKr"
      },
      "outputs": [],
      "source": [
        "def plot9():\n",
        "    import matplotlib as plt\n",
        "    %matplotlib inline\n",
        "    \n",
        "    Top15 = answer_one()\n",
        "    Top15['PopEst'] = Top15['Energy Supply'] / Top15['Energy Supply per Capita']\n",
        "    Top15['Citable docs per Capita'] = Top15['Citable documents'] / Top15['PopEst']\n",
        "    Top15.plot(x='Citable docs per Capita', y='Energy Supply per Capita', kind='scatter', xlim=[0, 0.0006])"
      ]
    },
    {
      "cell_type": "code",
      "execution_count": 148,
      "metadata": {
        "collapsed": true,
        "jupyter": {
          "outputs_hidden": true
        },
        "id": "HKBAw9vIKkKs",
        "colab": {
          "base_uri": "https://localhost:8080/",
          "height": 351
        },
        "outputId": "22d41945-96be-4356-9ff5-991575ec5c6c"
      },
      "outputs": [
        {
          "output_type": "stream",
          "name": "stderr",
          "text": [
            "/usr/local/lib/python3.7/dist-packages/ipykernel_launcher.py:12: FutureWarning: The default value of regex will change from True to False in a future version.\n",
            "  if sys.path[0] == '':\n",
            "/usr/local/lib/python3.7/dist-packages/ipykernel_launcher.py:21: FutureWarning: The default value of regex will change from True to False in a future version.\n"
          ]
        },
        {
          "output_type": "display_data",
          "data": {
            "text/plain": [
              "<Figure size 432x288 with 1 Axes>"
            ],
            "image/png": "[encoded data removed]"
          },
          "metadata": {
            "needs_background": "light"
          }
        }
      ],
      "source": [
        "plot9() # Be sure to comment out plot9() before submitting the assignment!"
      ]
    },
    {
      "cell_type": "markdown",
      "metadata": {
        "id": "58unnIdhKkKu"
      },
      "source": [
        "### Question 10\n",
        "Create a new column with a 1 if the country's % Renewable value is at or above the median for all countries in the top 15, and a 0 if the country's % Renewable value is below the median.\n",
        "\n",
        "*This function should return a series named `HighRenew` whose index is the country name sorted in ascending order of rank.*"
      ]
    },
    {
      "cell_type": "code",
      "source": [
        " Top15 = answer_one()\n",
        " median= Top15['% Renewable'].median()\n",
        " print(median)\n",
        "#  print(Top15['% Renewable'][0])\n",
        " for i in range(len(Top15)):\n",
        "   if Top15['% Renewable'][i]>median:\n",
        "     Top15['% Renewable'][i]=1\n",
        "   else:\n",
        "     Top15['% Renewable'][i]=0\n",
        " print(Top15['% Renewable'])\n",
        "#  print(Top15['% Renewable'].apply(lambda x: 1 if x >= median else 0))\n",
        "#  Top15['% Renewable']>(Top15['% Renewable'].median())\n",
        "#  print(Top15)\n",
        "#  print(Top15['% Renewable'].value_counts())\n"
      ],
      "metadata": {
        "colab": {
          "base_uri": "https://localhost:8080/"
        },
        "id": "sr5yecexesYE",
        "outputId": "91090e42-c867-474b-fa92-324e711936bb"
      },
      "execution_count": 41,
      "outputs": [
        {
          "output_type": "stream",
          "name": "stdout",
          "text": [
            "17.15448\n",
            "Country\n",
            "Australia             0.0\n",
            "Brazil                1.0\n",
            "Canada                1.0\n",
            "China                 1.0\n",
            "France                0.0\n",
            "Germany               1.0\n",
            "India                 0.0\n",
            "Italy                 1.0\n",
            "Japan                 0.0\n",
            "South Korea           0.0\n",
            "Russian Federation    1.0\n",
            "Spain                 1.0\n",
            "United Kingdom        0.0\n",
            "United States         0.0\n",
            "Name: % Renewable, dtype: float64\n"
          ]
        },
        {
          "output_type": "stream",
          "name": "stderr",
          "text": [
            "/usr/local/lib/python3.7/dist-packages/ipykernel_launcher.py:12: FutureWarning: The default value of regex will change from True to False in a future version.\n",
            "  if sys.path[0] == '':\n",
            "/usr/local/lib/python3.7/dist-packages/ipykernel_launcher.py:21: FutureWarning: The default value of regex will change from True to False in a future version.\n",
            "/usr/local/lib/python3.7/dist-packages/ipykernel_launcher.py:7: SettingWithCopyWarning: \n",
            "A value is trying to be set on a copy of a slice from a DataFrame\n",
            "\n",
            "See the caveats in the documentation: https://pandas.pydata.org/pandas-docs/stable/user_guide/indexing.html#returning-a-view-versus-a-copy\n",
            "  import sys\n",
            "/usr/local/lib/python3.7/dist-packages/ipykernel_launcher.py:9: SettingWithCopyWarning: \n",
            "A value is trying to be set on a copy of a slice from a DataFrame\n",
            "\n",
            "See the caveats in the documentation: https://pandas.pydata.org/pandas-docs/stable/user_guide/indexing.html#returning-a-view-versus-a-copy\n",
            "  if __name__ == '__main__':\n"
          ]
        }
      ]
    },
    {
      "cell_type": "code",
      "execution_count": 149,
      "metadata": {
        "collapsed": true,
        "jupyter": {
          "outputs_hidden": true
        },
        "umich_part_id": "018",
        "umich_partlist_id": "003",
        "id": "6zw5N39IKkKv"
      },
      "outputs": [],
      "source": [
        "def answer_ten():\n",
        "  Top15 = answer_one()\n",
        "  median= Top15['% Renewable'].median()\n",
        " #1st method using traditional way\n",
        "  # for i in range(len(Top15)):\n",
        "  #   if Top15['% Renewable'][i]>median:\n",
        "  #     Top15['% Renewable'][i]=1\n",
        "  #   else:\n",
        "  #     Top15['% Renewable'][i]=0\n",
        "  # 2nd method\n",
        "  Top15['HighRenew']=Top15['% Renewable'].apply(lambda x: 1 if x >= median else 0)\n",
        "  return Top15['HighRenew']"
      ]
    },
    {
      "cell_type": "code",
      "source": [
        "answer_ten()"
      ],
      "metadata": {
        "colab": {
          "base_uri": "https://localhost:8080/"
        },
        "id": "SqX4btRWnCoZ",
        "outputId": "ed170c37-010d-490e-b82d-baa70a83703d"
      },
      "execution_count": 150,
      "outputs": [
        {
          "output_type": "stream",
          "name": "stderr",
          "text": [
            "/usr/local/lib/python3.7/dist-packages/ipykernel_launcher.py:12: FutureWarning: The default value of regex will change from True to False in a future version.\n",
            "  if sys.path[0] == '':\n",
            "/usr/local/lib/python3.7/dist-packages/ipykernel_launcher.py:21: FutureWarning: The default value of regex will change from True to False in a future version.\n"
          ]
        },
        {
          "output_type": "execute_result",
          "data": {
            "text/plain": [
              "Country\n",
              "Australia             0\n",
              "Brazil                1\n",
              "Canada                1\n",
              "China                 1\n",
              "France                0\n",
              "Germany               1\n",
              "India                 0\n",
              "Italy                 1\n",
              "Japan                 0\n",
              "South Korea           0\n",
              "Russian Federation    1\n",
              "Spain                 1\n",
              "United Kingdom        0\n",
              "United States         0\n",
              "Name: HighRenew, dtype: int64"
            ]
          },
          "metadata": {},
          "execution_count": 150
        }
      ]
    },
    {
      "cell_type": "markdown",
      "metadata": {
        "id": "OjkluMoKKkKx"
      },
      "source": [
        "### Question 11\n",
        "Use the following dictionary to group the Countries by Continent, then create a dateframe that displays the sample size (the number of countries in each continent bin), and the sum, mean, and std deviation for the estimated population of each country.\n",
        "\n",
        "```python\n",
        "ContinentDict  = {'China':'Asia', \n",
        "                  'United States':'North America', \n",
        "                  'Japan':'Asia', \n",
        "                  'United Kingdom':'Europe', \n",
        "                  'Russian Federation':'Europe', \n",
        "                  'Canada':'North America', \n",
        "                  'Germany':'Europe', \n",
        "                  'India':'Asia',\n",
        "                  'France':'Europe', \n",
        "                  'South Korea':'Asia', \n",
        "                  'Italy':'Europe', \n",
        "                  'Spain':'Europe', \n",
        "                  'Iran':'Asia',\n",
        "                  'Australia':'Australia', \n",
        "                  'Brazil':'South America'}\n",
        "```\n",
        "\n",
        "*This function should return a DataFrame with index named Continent `['Asia', 'Australia', 'Europe', 'North America', 'South America']` and columns `['size', 'sum', 'mean', 'std']`*"
      ]
    },
    {
      "cell_type": "code",
      "source": [
        "  Top15 = answer_one()\n",
        "  Top15['Energy Supply']=np.float64(Top15['Energy Supply'])\n",
        "  Top15['Energy Supply per Capita']=np.float64(Top15['Energy Supply per Capita'])\n",
        "  Top15['Population']= Top15['Energy Supply']/ Top15['Energy Supply per Capita']\n",
        "  ContinentDict  = {'China':'Asia', \n",
        "                  'United States':'North America', \n",
        "                  'Japan':'Asia', \n",
        "                  'United Kingdom':'Europe', \n",
        "                  'Russian Federation':'Europe', \n",
        "                  'Canada':'North America', \n",
        "                  'Germany':'Europe', \n",
        "                  'India':'Asia',\n",
        "                  'France':'Europe', \n",
        "                  'South Korea':'Asia', \n",
        "                  'Italy':'Europe', \n",
        "                  'Spain':'Europe', \n",
        "                  'Iran':'Asia',\n",
        "                  'Australia':'Australia', \n",
        "                  'Brazil':'South America'}\n",
        "  Top15['Continent']= pd.Series(data=ContinentDict)\n",
        "  grp_continent= Top15.groupby('Continent')\n",
        "  # a= pd.DataFrame(grp_continent)\n",
        "  df = pd.DataFrame([grp_continent['Rank'].count(), grp_continent['Population'].sum(),\n",
        "                       grp_continent['Population'].mean(), grp_continent['Population'].std()])\n",
        "  # df.columns = ['size', 'sum', 'mean', 'std']\n",
        "  df\n",
        "  # Top15\n",
        "   # df= Top15.groupby('Continent')\n",
        "  # print(df)"
      ],
      "metadata": {
        "colab": {
          "base_uri": "https://localhost:8080/",
          "height": 247
        },
        "id": "otpMAbhVoFJE",
        "outputId": "93dc1e52-5762-4697-8d04-49e5229124f2"
      },
      "execution_count": 193,
      "outputs": [
        {
          "output_type": "stream",
          "name": "stderr",
          "text": [
            "/usr/local/lib/python3.7/dist-packages/ipykernel_launcher.py:12: FutureWarning: The default value of regex will change from True to False in a future version.\n",
            "  if sys.path[0] == '':\n",
            "/usr/local/lib/python3.7/dist-packages/ipykernel_launcher.py:21: FutureWarning: The default value of regex will change from True to False in a future version.\n"
          ]
        },
        {
          "output_type": "execute_result",
          "data": {
            "text/plain": [
              "Continent           Asia     Australia        Europe  North America  \\\n",
              "Rank        4.000000e+00  1.000000e+00  6.000000e+00   2.000000e+00   \n",
              "Population  2.821591e+09  2.331602e+07  4.579297e+08   3.528552e+08   \n",
              "Population  7.053977e+08  2.331602e+07  7.632161e+07   1.764276e+08   \n",
              "Population  7.138779e+08           NaN  3.464767e+07   1.996696e+08   \n",
              "\n",
              "Continent   South America  \n",
              "Rank         1.000000e+00  \n",
              "Population   2.059153e+08  \n",
              "Population   2.059153e+08  \n",
              "Population            NaN  "
            ],
            "text/html": [
              "\n",
              "  <div id=\"df-6b6b6e54-71bc-46d5-8909-9294d4747556\">\n",
              "    <div class=\"colab-df-container\">\n",
              "      <div>\n",
              "<style scoped>\n",
              "    .dataframe tbody tr th:only-of-type {\n",
              "        vertical-align: middle;\n",
              "    }\n",
              "\n",
              "    .dataframe tbody tr th {\n",
              "        vertical-align: top;\n",
              "    }\n",
              "\n",
              "    .dataframe thead th {\n",
              "        text-align: right;\n",
              "    }\n",
              "</style>\n",
              "<table border=\"1\" class=\"dataframe\">\n",
              "  <thead>\n",
              "    <tr style=\"text-align: right;\">\n",
              "      <th>Continent</th>\n",
              "      <th>Asia</th>\n",
              "      <th>Australia</th>\n",
              "      <th>Europe</th>\n",
              "      <th>North America</th>\n",
              "      <th>South America</th>\n",
              "    </tr>\n",
              "  </thead>\n",
              "  <tbody>\n",
              "    <tr>\n",
              "      <th>Rank</th>\n",
              "      <td>4.000000e+00</td>\n",
              "      <td>1.000000e+00</td>\n",
              "      <td>6.000000e+00</td>\n",
              "      <td>2.000000e+00</td>\n",
              "      <td>1.000000e+00</td>\n",
              "    </tr>\n",
              "    <tr>\n",
              "      <th>Population</th>\n",
              "      <td>2.821591e+09</td>\n",
              "      <td>2.331602e+07</td>\n",
              "      <td>4.579297e+08</td>\n",
              "      <td>3.528552e+08</td>\n",
              "      <td>2.059153e+08</td>\n",
              "    </tr>\n",
              "    <tr>\n",
              "      <th>Population</th>\n",
              "      <td>7.053977e+08</td>\n",
              "      <td>2.331602e+07</td>\n",
              "      <td>7.632161e+07</td>\n",
              "      <td>1.764276e+08</td>\n",
              "      <td>2.059153e+08</td>\n",
              "    </tr>\n",
              "    <tr>\n",
              "      <th>Population</th>\n",
              "      <td>7.138779e+08</td>\n",
              "      <td>NaN</td>\n",
              "      <td>3.464767e+07</td>\n",
              "      <td>1.996696e+08</td>\n",
              "      <td>NaN</td>\n",
              "    </tr>\n",
              "  </tbody>\n",
              "</table>\n",
              "</div>\n",
              "      <button class=\"colab-df-convert\" onclick=\"convertToInteractive('df-6b6b6e54-71bc-46d5-8909-9294d4747556')\"\n",
              "              title=\"Convert this dataframe to an interactive table.\"\n",
              "              style=\"display:none;\">\n",
              "        \n",
              "  <svg xmlns=\"http://www.w3.org/2000/svg\" height=\"24px\"viewBox=\"0 0 24 24\"\n",
              "       width=\"24px\">\n",
              "    <path d=\"M0 0h24v24H0V0z\" fill=\"none\"/>\n",
              "    <path d=\"M18.56 5.44l.94 2.06.94-2.06 2.06-.94-2.06-.94-.94-2.06-.94 2.06-2.06.94zm-11 1L8.5 8.5l.94-2.06 2.06-.94-2.06-.94L8.5 2.5l-.94 2.06-2.06.94zm10 10l.94 2.06.94-2.06 2.06-.94-2.06-.94-.94-2.06-.94 2.06-2.06.94z\"/><path d=\"M17.41 7.96l-1.37-1.37c-.4-.4-.92-.59-1.43-.59-.52 0-1.04.2-1.43.59L10.3 9.45l-7.72 7.72c-.78.78-.78 2.05 0 2.83L4 21.41c.39.39.9.59 1.41.59.51 0 1.02-.2 1.41-.59l7.78-7.78 2.81-2.81c.8-.78.8-2.07 0-2.86zM5.41 20L4 18.59l7.72-7.72 1.47 1.35L5.41 20z\"/>\n",
              "  </svg>\n",
              "      </button>\n",
              "      \n",
              "  <style>\n",
              "    .colab-df-container {\n",
              "      display:flex;\n",
              "      flex-wrap:wrap;\n",
              "      gap: 12px;\n",
              "    }\n",
              "\n",
              "    .colab-df-convert {\n",
              "      background-color: #E8F0FE;\n",
              "      border: none;\n",
              "      border-radius: 50%;\n",
              "      cursor: pointer;\n",
              "      display: none;\n",
              "      fill: #1967D2;\n",
              "      height: 32px;\n",
              "      padding: 0 0 0 0;\n",
              "      width: 32px;\n",
              "    }\n",
              "\n",
              "    .colab-df-convert:hover {\n",
              "      background-color: #E2EBFA;\n",
              "      box-shadow: 0px 1px 2px rgba(60, 64, 67, 0.3), 0px 1px 3px 1px rgba(60, 64, 67, 0.15);\n",
              "      fill: #174EA6;\n",
              "    }\n",
              "\n",
              "    [theme=dark] .colab-df-convert {\n",
              "      background-color: #3B4455;\n",
              "      fill: #D2E3FC;\n",
              "    }\n",
              "\n",
              "    [theme=dark] .colab-df-convert:hover {\n",
              "      background-color: #434B5C;\n",
              "      box-shadow: 0px 1px 3px 1px rgba(0, 0, 0, 0.15);\n",
              "      filter: drop-shadow(0px 1px 2px rgba(0, 0, 0, 0.3));\n",
              "      fill: #FFFFFF;\n",
              "    }\n",
              "  </style>\n",
              "\n",
              "      <script>\n",
              "        const buttonEl =\n",
              "          document.querySelector('#df-6b6b6e54-71bc-46d5-8909-9294d4747556 button.colab-df-convert');\n",
              "        buttonEl.style.display =\n",
              "          google.colab.kernel.accessAllowed ? 'block' : 'none';\n",
              "\n",
              "        async function convertToInteractive(key) {\n",
              "          const element = document.querySelector('#df-6b6b6e54-71bc-46d5-8909-9294d4747556');\n",
              "          const dataTable =\n",
              "            await google.colab.kernel.invokeFunction('convertToInteractive',\n",
              "                                                     [key], {});\n",
              "          if (!dataTable) return;\n",
              "\n",
              "          const docLinkHtml = 'Like what you see? Visit the ' +\n",
              "            '<a target=\"_blank\" href=https://colab.research.google.com/notebooks/data_table.ipynb>data table notebook</a>'\n",
              "            + ' to learn more about interactive tables.';\n",
              "          element.innerHTML = '';\n",
              "          dataTable['output_type'] = 'display_data';\n",
              "          await google.colab.output.renderOutput(dataTable, element);\n",
              "          const docLink = document.createElement('div');\n",
              "          docLink.innerHTML = docLinkHtml;\n",
              "          element.appendChild(docLink);\n",
              "        }\n",
              "      </script>\n",
              "    </div>\n",
              "  </div>\n",
              "  "
            ]
          },
          "metadata": {},
          "execution_count": 193
        }
      ]
    },
    {
      "cell_type": "code",
      "execution_count": 194,
      "metadata": {
        "collapsed": true,
        "jupyter": {
          "outputs_hidden": true
        },
        "umich_part_id": "019",
        "umich_partlist_id": "003",
        "id": "kS4cQaq_KkK5"
      },
      "outputs": [],
      "source": [
        "def answer_eleven():\n",
        "  Top15 = answer_one()\n",
        "  Top15['Energy Supply']=np.float64(Top15['Energy Supply'])\n",
        "  Top15['Energy Supply per Capita']=np.float64(Top15['Energy Supply per Capita'])\n",
        "  Top15['Population']= Top15['Energy Supply']/ Top15['Energy Supply per Capita']\n",
        "  ContinentDict  = {'China':'Asia', \n",
        "                  'United States':'North America', \n",
        "                  'Japan':'Asia', \n",
        "                  'United Kingdom':'Europe', \n",
        "                  'Russian Federation':'Europe', \n",
        "                  'Canada':'North America', \n",
        "                  'Germany':'Europe', \n",
        "                  'India':'Asia',\n",
        "                  'France':'Europe', \n",
        "                  'South Korea':'Asia', \n",
        "                  'Italy':'Europe', \n",
        "                  'Spain':'Europe', \n",
        "                  'Iran':'Asia',\n",
        "                  'Australia':'Australia', \n",
        "                  'Brazil':'South America'}\n",
        "  Top15['Continent']= pd.Series(data=ContinentDict)\n",
        "  grp_continent= Top15.groupby('Continent')\n",
        "  # a= pd.DataFrame(grp_continent)\n",
        "  df = pd.DataFrame([grp_continent['Rank'].count(), grp_continent['Population'].sum(),\n",
        "                       grp_continent['Population'].mean(), grp_continent['Population'].std()])\n",
        "  df.columns = ['size', 'sum', 'mean', 'std']\n",
        "  return df"
      ]
    },
    {
      "cell_type": "markdown",
      "metadata": {
        "id": "j0AyH-AcKkK6"
      },
      "source": [
        "### Question 12\n",
        "Cut % Renewable into 5 bins. Group Top15 by the Continent, as well as these new % Renewable bins. How many countries are in each of these groups?\n",
        "\n",
        "*This function should return a __Series__ with a MultiIndex of `Continent`, then the bins for `% Renewable`. Do not include groups with no countries.*"
      ]
    },
    {
      "cell_type": "code",
      "source": [
        "Top15 = answer_one()\n",
        "Top15\n",
        "Top15['Population']= Top15['Energy Supply']/ Top15['Energy Supply per Capita']\n",
        "ContinentDict  = {'China':'Asia', \n",
        "                'United States':'North America', \n",
        "                'Japan':'Asia', \n",
        "                'United Kingdom':'Europe', \n",
        "                'Russian Federation':'Europe', \n",
        "                'Canada':'North America', \n",
        "                'Germany':'Europe', \n",
        "                'India':'Asia',\n",
        "                'France':'Europe', \n",
        "                'South Korea':'Asia', \n",
        "                'Italy':'Europe', \n",
        "                'Spain':'Europe', \n",
        "                'Iran':'Asia',\n",
        "                'Australia':'Australia', \n",
        "                'Brazil':'South America'}\n",
        "Top15['Continent']= pd.Series(data=ContinentDict)\n",
        "Top15['% Renewable bins']=pd.cut(Top15['% Renewable'], 5)\n",
        "Top15.groupby(['Continent', '% Renewable bins'])['Rank'].count()"
      ],
      "metadata": {
        "colab": {
          "base_uri": "https://localhost:8080/"
        },
        "id": "hlmWMb68vBLh",
        "outputId": "6cd1429f-bc07-4c23-86e6-f61d27be26ec"
      },
      "execution_count": 175,
      "outputs": [
        {
          "output_type": "stream",
          "name": "stderr",
          "text": [
            "/usr/local/lib/python3.7/dist-packages/ipykernel_launcher.py:12: FutureWarning: The default value of regex will change from True to False in a future version.\n",
            "  if sys.path[0] == '':\n",
            "/usr/local/lib/python3.7/dist-packages/ipykernel_launcher.py:21: FutureWarning: The default value of regex will change from True to False in a future version.\n"
          ]
        },
        {
          "output_type": "execute_result",
          "data": {
            "text/plain": [
              "Continent      % Renewable bins\n",
              "Asia           (2.212, 15.753]     3\n",
              "               (15.753, 29.227]    1\n",
              "               (29.227, 42.701]    0\n",
              "               (42.701, 56.174]    0\n",
              "               (56.174, 69.648]    0\n",
              "Australia      (2.212, 15.753]     1\n",
              "               (15.753, 29.227]    0\n",
              "               (29.227, 42.701]    0\n",
              "               (42.701, 56.174]    0\n",
              "               (56.174, 69.648]    0\n",
              "Europe         (2.212, 15.753]     1\n",
              "               (15.753, 29.227]    3\n",
              "               (29.227, 42.701]    2\n",
              "               (42.701, 56.174]    0\n",
              "               (56.174, 69.648]    0\n",
              "North America  (2.212, 15.753]     1\n",
              "               (15.753, 29.227]    0\n",
              "               (29.227, 42.701]    0\n",
              "               (42.701, 56.174]    0\n",
              "               (56.174, 69.648]    1\n",
              "South America  (2.212, 15.753]     0\n",
              "               (15.753, 29.227]    0\n",
              "               (29.227, 42.701]    0\n",
              "               (42.701, 56.174]    0\n",
              "               (56.174, 69.648]    1\n",
              "Name: Rank, dtype: int64"
            ]
          },
          "metadata": {},
          "execution_count": 175
        }
      ]
    },
    {
      "cell_type": "code",
      "execution_count": 178,
      "metadata": {
        "collapsed": true,
        "jupyter": {
          "outputs_hidden": true
        },
        "scrolled": true,
        "id": "qrW-IORAKkK7"
      },
      "outputs": [],
      "source": [
        "def answer_twelve():\n",
        "  Top15 = answer_one()\n",
        "  Top15['Population']= Top15['Energy Supply']/ Top15['Energy Supply per Capita']\n",
        "  ContinentDict  = {'China':'Asia', \n",
        "                'United States':'North America', \n",
        "                'Japan':'Asia', \n",
        "                'United Kingdom':'Europe', \n",
        "                'Russian Federation':'Europe', \n",
        "                'Canada':'North America', \n",
        "                'Germany':'Europe', \n",
        "                'India':'Asia',\n",
        "                'France':'Europe', \n",
        "                'South Korea':'Asia', \n",
        "                'Italy':'Europe', \n",
        "                'Spain':'Europe', \n",
        "                'Iran':'Asia',\n",
        "                'Australia':'Australia', \n",
        "              'Brazil':'South America'}\n",
        "  Top15['Continent']= pd.Series(data=ContinentDict)\n",
        "  Top15['% Renewable bins']=pd.cut(Top15['% Renewable'], 5)\n",
        "  return Top15.groupby(['Continent', '% Renewable bins'])['Rank'].count()"
      ]
    },
    {
      "cell_type": "markdown",
      "metadata": {
        "id": "jbjTfcAoKkK8"
      },
      "source": [
        "### Question 13\n",
        "Convert the Population Estimate series to a string with thousands separator (using commas). Do not round the results.\n",
        "\n",
        "e.g. 317615384.61538464 -> 317,615,384.61538464\n",
        "\n",
        "*This function should return a Series `PopEst` whose index is the country name and whose values are the population estimate string.*"
      ]
    },
    {
      "cell_type": "code",
      "source": [
        "# def fun(a):\n",
        "#   for i in range(len(a)):\n",
        "#     a\n",
        "print('{:,}'.format(23316017.316017))"
      ],
      "metadata": {
        "colab": {
          "base_uri": "https://localhost:8080/"
        },
        "id": "GxxvEgRKJ1p_",
        "outputId": "02d96aff-a9d5-4b22-e552-89fa5517bb34"
      },
      "execution_count": 186,
      "outputs": [
        {
          "output_type": "stream",
          "name": "stdout",
          "text": [
            "23,316,017.316017\n"
          ]
        }
      ]
    },
    {
      "cell_type": "code",
      "source": [
        "Top15['Energy Supply']=np.float64(Top15['Energy Supply'])\n",
        "Top15['Energy Supply per Capita']=np.float64(Top15['Energy Supply per Capita'])\n",
        "Top15['Population']= Top15['Energy Supply']/ Top15['Energy Supply per Capita']\n",
        "Top15['Population'].apply(lambda x:'{:,}'.format(x))\n",
        "# Top15['Population']"
      ],
      "metadata": {
        "colab": {
          "base_uri": "https://localhost:8080/"
        },
        "id": "wx2lZpnzIY9g",
        "outputId": "922e7ffb-4795-4c2f-9873-73dd71073dc5"
      },
      "execution_count": 191,
      "outputs": [
        {
          "output_type": "execute_result",
          "data": {
            "text/plain": [
              "Country\n",
              "Australia              23,316,017.316017315\n",
              "Brazil                 205,915,254.23728815\n",
              "Canada                  35,239,864.86486486\n",
              "China                 1,367,645,161.2903225\n",
              "France                  63,837,349.39759036\n",
              "Germany                 80,369,696.96969697\n",
              "India                 1,276,730,769.2307692\n",
              "Italy                  59,908,256.880733944\n",
              "Japan                  127,409,395.97315437\n",
              "South Korea            49,805,429.864253394\n",
              "Russian Federation            143,500,000.0\n",
              "Spain                    46,443,396.2264151\n",
              "United Kingdom         63,870,967.741935484\n",
              "United States          317,615,384.61538464\n",
              "Name: Population, dtype: object"
            ]
          },
          "metadata": {},
          "execution_count": 191
        }
      ]
    },
    {
      "cell_type": "code",
      "execution_count": 195,
      "metadata": {
        "collapsed": true,
        "jupyter": {
          "outputs_hidden": true
        },
        "scrolled": true,
        "umich_part_id": "020",
        "umich_partlist_id": "003",
        "id": "hJKaZD20KkK-"
      },
      "outputs": [],
      "source": [
        "def answer_thirteen():\n",
        "    Top15 = answer_one()\n",
        "    Top15['Energy Supply']=np.float64(Top15['Energy Supply'])\n",
        "    Top15['Energy Supply per Capita']=np.float64(Top15['Energy Supply per Capita'])\n",
        "    Top15['Population']= Top15['Energy Supply']/ Top15['Energy Supply per Capita']\n",
        "    return Top15['Population'].apply(lambda x:'{:,}'.format(x))"
      ]
    },
    {
      "cell_type": "markdown",
      "metadata": {
        "id": "mgihtEemKkK_"
      },
      "source": [
        "### Optional\n",
        "\n",
        "Use the built in function `plot_optional()` to see an example visualization."
      ]
    },
    {
      "cell_type": "code",
      "execution_count": null,
      "metadata": {
        "scrolled": true,
        "id": "LznNcBS7KkLA"
      },
      "outputs": [],
      "source": [
        "def plot_optional():\n",
        "    import matplotlib as plt\n",
        "    %matplotlib inline\n",
        "    Top15 = answer_one()\n",
        "    ax = Top15.plot(x='Rank', y='% Renewable', kind='scatter', \n",
        "                    c=['#e41a1c','#377eb8','#e41a1c','#4daf4a','#4daf4a','#377eb8','#4daf4a','#e41a1c',\n",
        "                       '#4daf4a','#e41a1c','#4daf4a','#4daf4a','#e41a1c','#dede00','#ff7f00'], \n",
        "                    xticks=range(1,16), s=6*Top15['2014']/10**10, alpha=.75, figsize=[16,6]);\n",
        "\n",
        "    for i, txt in enumerate(Top15.index):\n",
        "        ax.annotate(txt, [Top15['Rank'][i], Top15['% Renewable'][i]], ha='center')\n",
        "\n",
        "    print(\"This is an example of a visualization that can be created to help understand the data. \\\n",
        "This is a bubble chart showing % Renewable vs. Rank. The size of the bubble corresponds to the countries' \\\n",
        "2014 GDP, and the color corresponds to the continent.\")"
      ]
    },
    {
      "cell_type": "code",
      "execution_count": null,
      "metadata": {
        "id": "V-xmnXtDKkLC"
      },
      "outputs": [],
      "source": [
        "#plot_optional()"
      ]
    },
    {
      "cell_type": "markdown",
      "metadata": {
        "id": "0zqgWiB3KkLD"
      },
      "source": [
        "#### Solutions\n",
        "\n",
        "Hope learnt something new while doing this assigment. You can find the solutions [here](Assignment_2Solution.ipynb)."
      ]
    }
  ],
  "metadata": {
    "anaconda-cloud": {},
    "coursera": {
      "course_slug": "python-data-analysis",
      "graded_item_id": "zAr06",
      "launcher_item_id": "KSSjT",
      "part_id": "SL3fU"
    },
    "kernelspec": {
      "display_name": "Python 3",
      "language": "python",
      "name": "python3"
    },
    "language_info": {
      "codemirror_mode": {
        "name": "ipython",
        "version": 3
      },
      "file_extension": ".py",
      "mimetype": "text/x-python",
      "name": "python",
      "nbconvert_exporter": "python",
      "pygments_lexer": "ipython3",
      "version": "3.7.4"
    },
    "umich": {
      "id": "Assignment 3",
      "version": "1.5"
    },
    "colab": {
      "name": "Assignment_2.ipynb",
      "provenance": [],
      "collapsed_sections": [
        "I_xj1mvZKkJx",
        "61GZ97_gKkKA",
        "BIJlF52WKkKS",
        "FY6RvY-CKkKW",
        "u6DBJhrHKkKa",
        "fxyjFg4OKkKe",
        "SjC17yy-KkKg",
        "yb6lpisYKkKm",
        "58unnIdhKkKu",
        "OjkluMoKKkKx",
        "j0AyH-AcKkK6",
        "jbjTfcAoKkK8",
        "mgihtEemKkK_",
        "0zqgWiB3KkLD"
      ],
      "include_colab_link": true
    }
  },
  "nbformat": 4,
  "nbformat_minor": 0
}