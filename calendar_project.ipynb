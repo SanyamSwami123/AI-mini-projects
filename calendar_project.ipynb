{
 "cells": [
  {
   "cell_type": "code",
   "execution_count": 55,
   "id": "a4b46e3e",
   "metadata": {},
   "outputs": [],
   "source": [
    "months_and_days = {1:['January',31], 2:['February',20], 3:['March',31], 4:['April',30], \n",
    "                   5:['May',31], 6:['June',30], 7:['July',31], 8:['August',31], \n",
    "                   9:['September',30], 10:['October',31], 11:['November',30], 12:['December',31]}"
   ]
  },
  {
   "cell_type": "code",
   "execution_count": 3,
   "id": "2e520f2b",
   "metadata": {},
   "outputs": [
    {
     "data": {
      "text/plain": [
       "dict_items([(1, ['January', 31]), (2, ['February', 20]), (3, ['March', 31]), (4, ['April', 30]), (5, ['May', 31]), (6, ['June', 30]), (7, ['July', 31]), (8, ['August', 31]), (9, ['September', 30]), (10, ['October', 31]), (11, ['November', 30]), (12, ['December', 31])])"
      ]
     },
     "execution_count": 3,
     "metadata": {},
     "output_type": "execute_result"
    }
   ],
   "source": [
    "months_and_days.items()"
   ]
  },
  {
   "cell_type": "code",
   "execution_count": 41,
   "id": "ee2c1546",
   "metadata": {},
   "outputs": [],
   "source": [
    "def date():\n",
    "    months_and_days = {1:['January',31], 2:['February',20], 3:['March',31], 4:['April',30], \n",
    "                   5:['May',31], 6:['June',30], 7:['July',31], 8:['August',31], \n",
    "                   9:['September',30], 10:['October',31], 11:['November',30], 12:['December',31]}\n",
    "    \n",
    "    year = int(input('Enter the year: '))\n",
    "    month = input('Enter the month: ')\n",
    "    \n",
    "    for item in months_and_days.items():\n",
    "        \n",
    "        if item[1][0].lower() == 'february' and (year%4==0 and (year%100!=0 or year%400==0)):                                                                                  \n",
    "            return f'1 2 {year}', 29 , 'february'.upper(), year \n",
    "        \n",
    "        elif month.lower() == item[1][0].lower():\n",
    "            return f'1 {item[0]} {year}', item[1][1] , item[1][0].upper(), year\n"
   ]
  },
  {
   "cell_type": "code",
   "execution_count": 43,
   "id": "d0795eaf",
   "metadata": {},
   "outputs": [
    {
     "name": "stdout",
     "output_type": "stream",
     "text": [
      "Enter the year: 2020\n",
      "Enter the month: february\n"
     ]
    }
   ],
   "source": [
    "date, number_of_days_in_that_month, month_name, year = date()"
   ]
  },
  {
   "cell_type": "code",
   "execution_count": 44,
   "id": "c6502ff9",
   "metadata": {},
   "outputs": [
    {
     "data": {
      "text/plain": [
       "('1 2 2020', 29, 'FEBRUARY', 2020)"
      ]
     },
     "execution_count": 44,
     "metadata": {},
     "output_type": "execute_result"
    }
   ],
   "source": [
    "date, number_of_days_in_that_month, month_name, year"
   ]
  },
  {
   "cell_type": "code",
   "execution_count": 45,
   "id": "09616b7d",
   "metadata": {},
   "outputs": [],
   "source": [
    "import datetime\n",
    "import calendar\n",
    " \n",
    "def findDay(date):\n",
    "    day_index = datetime.datetime.strptime(date, '%d %m %Y').weekday()\n",
    "    return (calendar.day_name[day_index]), day_index\n",
    "\n",
    "first_day, day_index = findDay(date)"
   ]
  },
  {
   "cell_type": "code",
   "execution_count": 46,
   "id": "df0d0e2e",
   "metadata": {
    "scrolled": true
   },
   "outputs": [
    {
     "data": {
      "text/plain": [
       "('Saturday', 5)"
      ]
     },
     "execution_count": 46,
     "metadata": {},
     "output_type": "execute_result"
    }
   ],
   "source": [
    "first_day, day_index"
   ]
  },
  {
   "cell_type": "code",
   "execution_count": 14,
   "id": "aa4b0519",
   "metadata": {},
   "outputs": [
    {
     "name": "stdout",
     "output_type": "stream",
     "text": [
      "+-------------+-------------+-------------+-------------+-------------+-------------+-------------+\n"
     ]
    }
   ],
   "source": [
    "# step 1 - print all the days first - check leap year first\n",
    "# step 2 - first line\n",
    "# step 3 - \n",
    "for day in days:\n",
    "    print('+'.ljust(14,'-'), end='')\n",
    "print('+')"
   ]
  },
  {
   "cell_type": "code",
   "execution_count": 15,
   "id": "8154d5e2",
   "metadata": {},
   "outputs": [
    {
     "name": "stdout",
     "output_type": "stream",
     "text": [
      "|             |             |             |             |             |             |             |\n",
      "|             |             |             |             |             |             |             |\n",
      "|             |             |             |             |             |             |             |\n",
      "|             |             |             |             |             |             |             |\n",
      "|             |             |             |             |             |             |             |\n"
     ]
    }
   ],
   "source": [
    "# step 4\n",
    "for x in range(5):\n",
    "    for day in days:\n",
    "        print('|'.ljust(14), end='')\n",
    "    print('|')"
   ]
  },
  {
   "cell_type": "code",
   "execution_count": 8,
   "id": "21de600d",
   "metadata": {},
   "outputs": [],
   "source": [
    "# # step 5\n",
    "# for x in range(6):\n",
    "#     for day in days:\n",
    "#         print('+'.ljust(14,'-'), end='')\n",
    "#     print('+')\n",
    "#     for x in range(5):\n",
    "#         for day in days:\n",
    "#             print('|'.ljust(14), end='')\n",
    "#         print('|')"
   ]
  },
  {
   "cell_type": "code",
   "execution_count": 17,
   "id": "585e1b83",
   "metadata": {},
   "outputs": [
    {
     "name": "stdout",
     "output_type": "stream",
     "text": [
      "+-------------+-------------+-------------+-------------+-------------+-------------+-------------+\n"
     ]
    }
   ],
   "source": [
    "# step 6\n",
    "for day in days:\n",
    "    print('+'.ljust(14,'-'), end='')\n",
    "print('+')"
   ]
  },
  {
   "cell_type": "code",
   "execution_count": 9,
   "id": "650c8b14",
   "metadata": {},
   "outputs": [],
   "source": [
    "# # step 7\n",
    "# date = 1\n",
    "# for x in range(6):\n",
    "#     for day in days:\n",
    "#         print('+'.ljust(14,'-'), end='')\n",
    "#     print('+')\n",
    "    \n",
    "#     for x in range(5):\n",
    "#         for day in days:\n",
    "#             if x == 0:\n",
    "#                 print(f'|{date}'.ljust(14), end='') \n",
    "#                 date = date + 1\n",
    "#             else:\n",
    "#                 print('|'.ljust(14), end='')\n",
    "#         print('|')\n",
    "# for day in days:\n",
    "#     print('+'.ljust(14,'-'), end='')\n",
    "# print('+')"
   ]
  },
  {
   "cell_type": "code",
   "execution_count": 20,
   "id": "ce42d792",
   "metadata": {},
   "outputs": [
    {
     "name": "stdout",
     "output_type": "stream",
     "text": [
      "|             |             |             |             |1            |2            |3            |\n"
     ]
    }
   ],
   "source": [
    "# step 8\n",
    "counter = 0\n",
    "\n",
    "for day in days:\n",
    "    date = 1\n",
    "    if first_day == day and counter<=7 :\n",
    "        for day in days[days.index(day):]:\n",
    "            print(f'|{date}'.ljust(14), end='')\n",
    "            date = date + 1\n",
    "            counter += 1\n",
    "    else :\n",
    "        if counter<7:\n",
    "            print('|'.ljust(14), end='')\n",
    "            date = date + 1\n",
    "            counter += 1\n",
    "print('|')"
   ]
  },
  {
   "cell_type": "code",
   "execution_count": 21,
   "id": "8b261a61",
   "metadata": {
    "scrolled": true
   },
   "outputs": [
    {
     "name": "stdout",
     "output_type": "stream",
     "text": [
      "|             |             |             |             |             |             |             |\n",
      "|             |             |             |             |             |             |             |\n",
      "|             |             |             |             |             |             |             |\n",
      "|             |             |             |             |             |             |             |\n"
     ]
    }
   ],
   "source": [
    "# step 9\n",
    "# add code below to step 8\n",
    "for x in range(4):\n",
    "    for day in days:\n",
    "        print('|'.ljust(14), end='')\n",
    "    print('|')"
   ]
  },
  {
   "cell_type": "markdown",
   "id": "6ae098d4",
   "metadata": {},
   "source": [
    "## Complete project"
   ]
  },
  {
   "cell_type": "code",
   "execution_count": 47,
   "id": "90613204",
   "metadata": {},
   "outputs": [
    {
     "name": "stdout",
     "output_type": "stream",
     "text": [
      "\n",
      "\n",
      "                                           FEBRUARY 2020                                            \n",
      "\n",
      "\n",
      "    Sunday        Monday       Tuesday      Wednesday      Thursday       Friday       Saturday   \n",
      "\n",
      "+-------------+-------------+-------------+-------------+-------------+-------------+-------------+\n",
      "|             |             |             |             |             |             |1            |\n",
      "|             |             |             |             |             |             |             |\n",
      "|             |             |             |             |             |             |             |\n",
      "|             |             |             |             |             |             |             |\n",
      "|             |             |             |             |             |             |             |\n",
      "+-------------+-------------+-------------+-------------+-------------+-------------+-------------+\n",
      "|6            |7            |8            |9            |10           |11           |12           |\n",
      "|             |             |             |             |             |             |             |\n",
      "|             |             |             |             |             |             |             |\n",
      "|             |             |             |             |             |             |             |\n",
      "|             |             |             |             |             |             |             |\n",
      "+-------------+-------------+-------------+-------------+-------------+-------------+-------------+\n",
      "|13           |14           |15           |16           |17           |18           |19           |\n",
      "|             |             |             |             |             |             |             |\n",
      "|             |             |             |             |             |             |             |\n",
      "|             |             |             |             |             |             |             |\n",
      "|             |             |             |             |             |             |             |\n",
      "+-------------+-------------+-------------+-------------+-------------+-------------+-------------+\n",
      "|20           |21           |22           |23           |24           |25           |26           |\n",
      "|             |             |             |             |             |             |             |\n",
      "|             |             |             |             |             |             |             |\n",
      "|             |             |             |             |             |             |             |\n",
      "|             |             |             |             |             |             |             |\n",
      "+-------------+-------------+-------------+-------------+-------------+-------------+-------------+\n",
      "|27           |28           |29           |             |             |             |             |\n",
      "|             |             |             |             |             |             |             |\n",
      "|             |             |             |             |             |             |             |\n",
      "|             |             |             |             |             |             |             |\n",
      "|             |             |             |             |             |             |             |\n",
      "+-------------+-------------+-------------+-------------+-------------+-------------+-------------+\n",
      "|             |             |             |             |             |             |             |\n",
      "|             |             |             |             |             |             |             |\n",
      "|             |             |             |             |             |             |             |\n",
      "|             |             |             |             |             |             |             |\n",
      "|             |             |             |             |             |             |             |\n",
      "+-------------+-------------+-------------+-------------+-------------+-------------+-------------+\n"
     ]
    }
   ],
   "source": [
    "\n",
    "print('\\n')\n",
    "print(f'{month_name} {year}'.center(100))\n",
    "print('\\n')\n",
    "\n",
    "days=['Sunday','Monday','Tuesday','Wednesday','Thursday','Friday','Saturday']\n",
    "for day in days:\n",
    "    print(day.center(14), end='')\n",
    "print('\\n')\n",
    "\n",
    "for day in days:\n",
    "    print('+'.ljust(14,'-'), end='')\n",
    "print('+')\n",
    "\n",
    "counter = 0\n",
    "\n",
    "for day in days:\n",
    "    date = 1\n",
    "    if first_day == day and counter<=7 :\n",
    "        for day in days[days.index(day):]:\n",
    "            print(f'|{date}'.ljust(14), end='')\n",
    "            date = date + 1\n",
    "            counter += 1\n",
    "    else :\n",
    "        if counter<7:\n",
    "            print('|'.ljust(14), end='')\n",
    "            date = date + 1\n",
    "            counter += 1\n",
    "print('|')\n",
    "\n",
    "for x in range(4):\n",
    "    for day in days:\n",
    "        print('|'.ljust(14), end='')\n",
    "    print('|')\n",
    "    \n",
    "date = day_index + 1\n",
    "\n",
    "\n",
    "for x in range(5):  # total 5 rows\n",
    "    for day in days:\n",
    "        print('+'.ljust(14,'-'), end='')\n",
    "    print('+')\n",
    "\n",
    "    for x in range(5): # five '|' in each block\n",
    "        for day in days:\n",
    "            if x == 0 and date <= number_of_days_in_that_month:\n",
    "                print(f'|{date}'.ljust(14), end='') \n",
    "                date = date + 1\n",
    "            else:\n",
    "                print('|'.ljust(14), end='')\n",
    "        print('|')\n",
    "        \n",
    "for day in days:\n",
    "    print('+'.ljust(14,'-'), end='')\n",
    "print('+')\n"
   ]
  }
 ],
 "metadata": {
  "kernelspec": {
   "display_name": "Python 3",
   "language": "python",
   "name": "python3"
  },
  "language_info": {
   "codemirror_mode": {
    "name": "ipython",
    "version": 3
   },
   "file_extension": ".py",
   "mimetype": "text/x-python",
   "name": "python",
   "nbconvert_exporter": "python",
   "pygments_lexer": "ipython3",
   "version": "3.8.8"
  }
 },
 "nbformat": 4,
 "nbformat_minor": 5
}
