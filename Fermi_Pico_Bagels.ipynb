{
  "nbformat": 4,
  "nbformat_minor": 0,
  "metadata": {
    "colab": {
      "name": "Fermi Pico Bagels.ipynb",
      "provenance": [],
      "collapsed_sections": []
    },
    "kernelspec": {
      "name": "python3",
      "display_name": "Python 3"
    },
    "language_info": {
      "name": "python"
    }
  },
  "cells": [
    {
      "cell_type": "code",
      "execution_count": 2,
      "metadata": {
        "colab": {
          "base_uri": "https://localhost:8080/"
        },
        "id": "Jkq_LJ5_2ycL",
        "outputId": "8af4b7e7-b832-4c7d-fc77-68a260b8f7be"
      },
      "outputs": [
        {
          "output_type": "stream",
          "name": "stdout",
          "text": [
            "Enter the digit should be there in a number to guess: 3\n",
            "Enter number of guesses player wants to guess the number: 5\n",
            "Guess No:  1\n",
            "Guess a number: 1\n",
            "3 digit only\n",
            "Guess No:  2\n",
            "Guess a number: 134\n",
            "Pico\n",
            "Guess No:  3\n",
            "Guess a number: 678\n",
            "Pico\n",
            "Guess No:  4\n",
            "Guess a number: 567\n",
            "Fermi\n",
            "Guess No:  5\n",
            "Guess a number: 652\n",
            "Bagels\n",
            "The correct number is  397\n"
          ]
        }
      ],
      "source": [
        "from random import sample, shuffle  \n",
        "digits= int(input(\"Enter the digit should be there in a number to guess: \"))\n",
        "digit_list= sample('0123456789', digits)\n",
        "original_number= ''.join(digit_list)\n",
        "guess_number_count= 1\n",
        "guesses= int(input(\"Enter number of guesses player wants to guess the number: \"))\n",
        "\n",
        "while True:\n",
        "  if guess_number_count>guesses:\n",
        "    print('The correct number is ',  original_number)\n",
        "    break\n",
        "  output= list()\n",
        "  print('Guess No: ', guess_number_count )\n",
        "  guess_number= int(input(\"Guess a number: \"))\n",
        "  count_original_number = len(str(original_number)) \n",
        "  count_guess_number = len(str(guess_number))\n",
        "  if count_original_number != count_guess_number:\n",
        "    print(\"3 digit only\")\n",
        "    guess_number_count = guess_number_count + 1  \n",
        "    continue\n",
        "  seen = set()\n",
        "  for num in list(str(guess_number)):\n",
        "    if num in seen:\n",
        "      print(\"Duplicate number\")\n",
        "      continue\n",
        "    seen.add(num)\n",
        "  guess_number_str= list(str(guess_number))\n",
        "  original_number_str =list(str(original_number))\n",
        "  for i in range(count_original_number):\n",
        "    if guess_number_str[i] == original_number_str[i]:\n",
        "      output.append('Fermi')\n",
        "    elif guess_number_str[i] in original_number_str:\n",
        "      output.append('Pico')\n",
        "  shuffle(output)\n",
        "  guess_number_count = guess_number_count + 1  \n",
        "\n",
        "  output_string= ' '.join(output)\n",
        "  \n",
        "  if len(output) == 0:\n",
        "    print('Bagels')\n",
        "  else:\n",
        "    print(output_string)\n",
        "  if guess_number == original_number : \n",
        "    print ('You Win!!')\n",
        "    break\n",
        "  if guess_number_count>guesses:\n",
        "    print('The correct number is ',  original_number)\n",
        "    break"
      ]
    }
  ]
}